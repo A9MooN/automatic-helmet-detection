{
  "nbformat": 4,
  "nbformat_minor": 0,
  "metadata": {
    "colab": {
      "name": "Helmet_Detection.ipynb",
      "version": "0.3.2",
      "provenance": [],
      "toc_visible": true,
      "include_colab_link": true
    },
    "kernelspec": {
      "name": "python3",
      "display_name": "Python 3"
    },
    "accelerator": "GPU"
  },
  "cells": [
    {
      "cell_type": "markdown",
      "metadata": {
        "id": "view-in-github",
        "colab_type": "text"
      },
      "source": [
        "<a href=\"https://colab.research.google.com/github/iamdsc/automatic-helmet-detection/blob/master/Helmet_Detection.ipynb\" target=\"_parent\"><img src=\"https://colab.research.google.com/assets/colab-badge.svg\" alt=\"Open In Colab\"/></a>"
      ]
    },
    {
      "metadata": {
        "id": "4VyyOS8WRhit",
        "colab_type": "text"
      },
      "cell_type": "markdown",
      "source": [
        "## Training Yolo v3 Darknet model for Helmet Detection"
      ]
    },
    {
      "metadata": {
        "id": "ZeAkNRGVP_ex",
        "colab_type": "code",
        "outputId": "b5d45646-1ca4-4f24-f1b5-ab142bda51b8",
        "colab": {
          "base_uri": "https://localhost:8080/",
          "height": 223
        }
      },
      "cell_type": "code",
      "source": [
        "# Downloading pre-trained weights\n",
        "!wget https://pjreddie.com/media/files/yolov3.weights"
      ],
      "execution_count": 0,
      "outputs": [
        {
          "output_type": "stream",
          "text": [
            "--2019-04-07 07:20:09--  https://pjreddie.com/media/files/yolov3.weights\n",
            "Resolving pjreddie.com (pjreddie.com)... 128.208.3.39\n",
            "Connecting to pjreddie.com (pjreddie.com)|128.208.3.39|:443... connected.\n",
            "HTTP request sent, awaiting response... 200 OK\n",
            "Length: 248007048 (237M) [application/octet-stream]\n",
            "Saving to: ‘yolov3.weights’\n",
            "\n",
            "yolov3.weights      100%[===================>] 236.52M  22.5MB/s    in 11s     \n",
            "\n",
            "2019-04-07 07:20:21 (20.6 MB/s) - ‘yolov3.weights’ saved [248007048/248007048]\n",
            "\n"
          ],
          "name": "stdout"
        }
      ]
    },
    {
      "metadata": {
        "id": "liZ4CZfVSPYe",
        "colab_type": "code",
        "outputId": "bad300e8-3dc6-4cb9-e689-a6c0f26e7c73",
        "colab": {
          "base_uri": "https://localhost:8080/",
          "height": 36
        }
      },
      "cell_type": "code",
      "source": [
        "# Reading darknet config and weights and creating Keras model with TF backend\n",
        "import configparser\n",
        "import io\n",
        "import os\n",
        "from collections import defaultdict\n",
        "\n",
        "import numpy as np\n",
        "from keras import backend as K\n",
        "from keras.layers import (Conv2D, Input, ZeroPadding2D, Add,\n",
        "                          UpSampling2D, MaxPooling2D, Concatenate)\n",
        "from keras.layers.advanced_activations import LeakyReLU\n",
        "from keras.layers.normalization import BatchNormalization\n",
        "from keras.models import Model\n",
        "from keras.regularizers import l2\n",
        "from keras.utils.vis_utils import plot_model as plot"
      ],
      "execution_count": 0,
      "outputs": [
        {
          "output_type": "stream",
          "text": [
            "Using TensorFlow backend.\n"
          ],
          "name": "stderr"
        }
      ]
    },
    {
      "metadata": {
        "id": "H2xLaQikU8YI",
        "colab_type": "code",
        "outputId": "239be1c6-9dfa-46a4-dd04-3e5d69f852f3",
        "colab": {
          "resources": {
            "http://localhost:8080/nbextensions/google.colab/files.js": {
              "data": "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",
              "ok": true,
              "headers": [
                [
                  "content-type",
                  "application/javascript"
                ]
              ],
              "status": 200,
              "status_text": "OK"
            }
          },
          "base_uri": "https://localhost:8080/",
          "height": 116
        }
      },
      "cell_type": "code",
      "source": [
        "from google.colab import files\n",
        "# upload config file\n",
        "files.upload()"
      ],
      "execution_count": 0,
      "outputs": [
        {
          "output_type": "display_data",
          "data": {
            "text/html": [
              "\n",
              "     <input type=\"file\" id=\"files-17436572-74a5-40d7-873e-5bec59e4edb5\" name=\"files[]\" multiple disabled />\n",
              "     <output id=\"result-17436572-74a5-40d7-873e-5bec59e4edb5\">\n",
              "      Upload widget is only available when the cell has been executed in the\n",
              "      current browser session. Please rerun this cell to enable.\n",
              "      </output>\n",
              "      <script src=\"/nbextensions/google.colab/files.js\"></script> "
            ],
            "text/plain": [
              "<IPython.core.display.HTML object>"
            ]
          },
          "metadata": {
            "tags": []
          }
        },
        {
          "output_type": "stream",
          "text": [
            "Saving yolov3.cfg to yolov3.cfg\n"
          ],
          "name": "stdout"
        },
        {
          "output_type": "execute_result",
          "data": {
            "text/plain": [
              "{'yolov3.cfg': b'[net]\\r\\n# Testing\\r\\nbatch=1\\r\\nsubdivisions=1\\r\\n# Training\\r\\n# batch=64\\r\\n# subdivisions=16\\r\\nwidth=416\\r\\nheight=416\\r\\nchannels=3\\r\\nmomentum=0.9\\r\\ndecay=0.0005\\r\\nangle=0\\r\\nsaturation = 1.5\\r\\nexposure = 1.5\\r\\nhue=.1\\r\\n\\r\\nlearning_rate=0.001\\r\\nburn_in=1000\\r\\nmax_batches = 500200\\r\\npolicy=steps\\r\\nsteps=400000,450000\\r\\nscales=.1,.1\\r\\n\\r\\n[convolutional]\\r\\nbatch_normalize=1\\r\\nfilters=32\\r\\nsize=3\\r\\nstride=1\\r\\npad=1\\r\\nactivation=leaky\\r\\n\\r\\n# Downsample\\r\\n\\r\\n[convolutional]\\r\\nbatch_normalize=1\\r\\nfilters=64\\r\\nsize=3\\r\\nstride=2\\r\\npad=1\\r\\nactivation=leaky\\r\\n\\r\\n[convolutional]\\r\\nbatch_normalize=1\\r\\nfilters=32\\r\\nsize=1\\r\\nstride=1\\r\\npad=1\\r\\nactivation=leaky\\r\\n\\r\\n[convolutional]\\r\\nbatch_normalize=1\\r\\nfilters=64\\r\\nsize=3\\r\\nstride=1\\r\\npad=1\\r\\nactivation=leaky\\r\\n\\r\\n[shortcut]\\r\\nfrom=-3\\r\\nactivation=linear\\r\\n\\r\\n# Downsample\\r\\n\\r\\n[convolutional]\\r\\nbatch_normalize=1\\r\\nfilters=128\\r\\nsize=3\\r\\nstride=2\\r\\npad=1\\r\\nactivation=leaky\\r\\n\\r\\n[convolutional]\\r\\nbatch_normalize=1\\r\\nfilters=64\\r\\nsize=1\\r\\nstride=1\\r\\npad=1\\r\\nactivation=leaky\\r\\n\\r\\n[convolutional]\\r\\nbatch_normalize=1\\r\\nfilters=128\\r\\nsize=3\\r\\nstride=1\\r\\npad=1\\r\\nactivation=leaky\\r\\n\\r\\n[shortcut]\\r\\nfrom=-3\\r\\nactivation=linear\\r\\n\\r\\n[convolutional]\\r\\nbatch_normalize=1\\r\\nfilters=64\\r\\nsize=1\\r\\nstride=1\\r\\npad=1\\r\\nactivation=leaky\\r\\n\\r\\n[convolutional]\\r\\nbatch_normalize=1\\r\\nfilters=128\\r\\nsize=3\\r\\nstride=1\\r\\npad=1\\r\\nactivation=leaky\\r\\n\\r\\n[shortcut]\\r\\nfrom=-3\\r\\nactivation=linear\\r\\n\\r\\n# Downsample\\r\\n\\r\\n[convolutional]\\r\\nbatch_normalize=1\\r\\nfilters=256\\r\\nsize=3\\r\\nstride=2\\r\\npad=1\\r\\nactivation=leaky\\r\\n\\r\\n[convolutional]\\r\\nbatch_normalize=1\\r\\nfilters=128\\r\\nsize=1\\r\\nstride=1\\r\\npad=1\\r\\nactivation=leaky\\r\\n\\r\\n[convolutional]\\r\\nbatch_normalize=1\\r\\nfilters=256\\r\\nsize=3\\r\\nstride=1\\r\\npad=1\\r\\nactivation=leaky\\r\\n\\r\\n[shortcut]\\r\\nfrom=-3\\r\\nactivation=linear\\r\\n\\r\\n[convolutional]\\r\\nbatch_normalize=1\\r\\nfilters=128\\r\\nsize=1\\r\\nstride=1\\r\\npad=1\\r\\nactivation=leaky\\r\\n\\r\\n[convolutional]\\r\\nbatch_normalize=1\\r\\nfilters=256\\r\\nsize=3\\r\\nstride=1\\r\\npad=1\\r\\nactivation=leaky\\r\\n\\r\\n[shortcut]\\r\\nfrom=-3\\r\\nactivation=linear\\r\\n\\r\\n[convolutional]\\r\\nbatch_normalize=1\\r\\nfilters=128\\r\\nsize=1\\r\\nstride=1\\r\\npad=1\\r\\nactivation=leaky\\r\\n\\r\\n[convolutional]\\r\\nbatch_normalize=1\\r\\nfilters=256\\r\\nsize=3\\r\\nstride=1\\r\\npad=1\\r\\nactivation=leaky\\r\\n\\r\\n[shortcut]\\r\\nfrom=-3\\r\\nactivation=linear\\r\\n\\r\\n[convolutional]\\r\\nbatch_normalize=1\\r\\nfilters=128\\r\\nsize=1\\r\\nstride=1\\r\\npad=1\\r\\nactivation=leaky\\r\\n\\r\\n[convolutional]\\r\\nbatch_normalize=1\\r\\nfilters=256\\r\\nsize=3\\r\\nstride=1\\r\\npad=1\\r\\nactivation=leaky\\r\\n\\r\\n[shortcut]\\r\\nfrom=-3\\r\\nactivation=linear\\r\\n\\r\\n\\r\\n[convolutional]\\r\\nbatch_normalize=1\\r\\nfilters=128\\r\\nsize=1\\r\\nstride=1\\r\\npad=1\\r\\nactivation=leaky\\r\\n\\r\\n[convolutional]\\r\\nbatch_normalize=1\\r\\nfilters=256\\r\\nsize=3\\r\\nstride=1\\r\\npad=1\\r\\nactivation=leaky\\r\\n\\r\\n[shortcut]\\r\\nfrom=-3\\r\\nactivation=linear\\r\\n\\r\\n[convolutional]\\r\\nbatch_normalize=1\\r\\nfilters=128\\r\\nsize=1\\r\\nstride=1\\r\\npad=1\\r\\nactivation=leaky\\r\\n\\r\\n[convolutional]\\r\\nbatch_normalize=1\\r\\nfilters=256\\r\\nsize=3\\r\\nstride=1\\r\\npad=1\\r\\nactivation=leaky\\r\\n\\r\\n[shortcut]\\r\\nfrom=-3\\r\\nactivation=linear\\r\\n\\r\\n[convolutional]\\r\\nbatch_normalize=1\\r\\nfilters=128\\r\\nsize=1\\r\\nstride=1\\r\\npad=1\\r\\nactivation=leaky\\r\\n\\r\\n[convolutional]\\r\\nbatch_normalize=1\\r\\nfilters=256\\r\\nsize=3\\r\\nstride=1\\r\\npad=1\\r\\nactivation=leaky\\r\\n\\r\\n[shortcut]\\r\\nfrom=-3\\r\\nactivation=linear\\r\\n\\r\\n[convolutional]\\r\\nbatch_normalize=1\\r\\nfilters=128\\r\\nsize=1\\r\\nstride=1\\r\\npad=1\\r\\nactivation=leaky\\r\\n\\r\\n[convolutional]\\r\\nbatch_normalize=1\\r\\nfilters=256\\r\\nsize=3\\r\\nstride=1\\r\\npad=1\\r\\nactivation=leaky\\r\\n\\r\\n[shortcut]\\r\\nfrom=-3\\r\\nactivation=linear\\r\\n\\r\\n# Downsample\\r\\n\\r\\n[convolutional]\\r\\nbatch_normalize=1\\r\\nfilters=512\\r\\nsize=3\\r\\nstride=2\\r\\npad=1\\r\\nactivation=leaky\\r\\n\\r\\n[convolutional]\\r\\nbatch_normalize=1\\r\\nfilters=256\\r\\nsize=1\\r\\nstride=1\\r\\npad=1\\r\\nactivation=leaky\\r\\n\\r\\n[convolutional]\\r\\nbatch_normalize=1\\r\\nfilters=512\\r\\nsize=3\\r\\nstride=1\\r\\npad=1\\r\\nactivation=leaky\\r\\n\\r\\n[shortcut]\\r\\nfrom=-3\\r\\nactivation=linear\\r\\n\\r\\n\\r\\n[convolutional]\\r\\nbatch_normalize=1\\r\\nfilters=256\\r\\nsize=1\\r\\nstride=1\\r\\npad=1\\r\\nactivation=leaky\\r\\n\\r\\n[convolutional]\\r\\nbatch_normalize=1\\r\\nfilters=512\\r\\nsize=3\\r\\nstride=1\\r\\npad=1\\r\\nactivation=leaky\\r\\n\\r\\n[shortcut]\\r\\nfrom=-3\\r\\nactivation=linear\\r\\n\\r\\n\\r\\n[convolutional]\\r\\nbatch_normalize=1\\r\\nfilters=256\\r\\nsize=1\\r\\nstride=1\\r\\npad=1\\r\\nactivation=leaky\\r\\n\\r\\n[convolutional]\\r\\nbatch_normalize=1\\r\\nfilters=512\\r\\nsize=3\\r\\nstride=1\\r\\npad=1\\r\\nactivation=leaky\\r\\n\\r\\n[shortcut]\\r\\nfrom=-3\\r\\nactivation=linear\\r\\n\\r\\n\\r\\n[convolutional]\\r\\nbatch_normalize=1\\r\\nfilters=256\\r\\nsize=1\\r\\nstride=1\\r\\npad=1\\r\\nactivation=leaky\\r\\n\\r\\n[convolutional]\\r\\nbatch_normalize=1\\r\\nfilters=512\\r\\nsize=3\\r\\nstride=1\\r\\npad=1\\r\\nactivation=leaky\\r\\n\\r\\n[shortcut]\\r\\nfrom=-3\\r\\nactivation=linear\\r\\n\\r\\n[convolutional]\\r\\nbatch_normalize=1\\r\\nfilters=256\\r\\nsize=1\\r\\nstride=1\\r\\npad=1\\r\\nactivation=leaky\\r\\n\\r\\n[convolutional]\\r\\nbatch_normalize=1\\r\\nfilters=512\\r\\nsize=3\\r\\nstride=1\\r\\npad=1\\r\\nactivation=leaky\\r\\n\\r\\n[shortcut]\\r\\nfrom=-3\\r\\nactivation=linear\\r\\n\\r\\n\\r\\n[convolutional]\\r\\nbatch_normalize=1\\r\\nfilters=256\\r\\nsize=1\\r\\nstride=1\\r\\npad=1\\r\\nactivation=leaky\\r\\n\\r\\n[convolutional]\\r\\nbatch_normalize=1\\r\\nfilters=512\\r\\nsize=3\\r\\nstride=1\\r\\npad=1\\r\\nactivation=leaky\\r\\n\\r\\n[shortcut]\\r\\nfrom=-3\\r\\nactivation=linear\\r\\n\\r\\n\\r\\n[convolutional]\\r\\nbatch_normalize=1\\r\\nfilters=256\\r\\nsize=1\\r\\nstride=1\\r\\npad=1\\r\\nactivation=leaky\\r\\n\\r\\n[convolutional]\\r\\nbatch_normalize=1\\r\\nfilters=512\\r\\nsize=3\\r\\nstride=1\\r\\npad=1\\r\\nactivation=leaky\\r\\n\\r\\n[shortcut]\\r\\nfrom=-3\\r\\nactivation=linear\\r\\n\\r\\n[convolutional]\\r\\nbatch_normalize=1\\r\\nfilters=256\\r\\nsize=1\\r\\nstride=1\\r\\npad=1\\r\\nactivation=leaky\\r\\n\\r\\n[convolutional]\\r\\nbatch_normalize=1\\r\\nfilters=512\\r\\nsize=3\\r\\nstride=1\\r\\npad=1\\r\\nactivation=leaky\\r\\n\\r\\n[shortcut]\\r\\nfrom=-3\\r\\nactivation=linear\\r\\n\\r\\n# Downsample\\r\\n\\r\\n[convolutional]\\r\\nbatch_normalize=1\\r\\nfilters=1024\\r\\nsize=3\\r\\nstride=2\\r\\npad=1\\r\\nactivation=leaky\\r\\n\\r\\n[convolutional]\\r\\nbatch_normalize=1\\r\\nfilters=512\\r\\nsize=1\\r\\nstride=1\\r\\npad=1\\r\\nactivation=leaky\\r\\n\\r\\n[convolutional]\\r\\nbatch_normalize=1\\r\\nfilters=1024\\r\\nsize=3\\r\\nstride=1\\r\\npad=1\\r\\nactivation=leaky\\r\\n\\r\\n[shortcut]\\r\\nfrom=-3\\r\\nactivation=linear\\r\\n\\r\\n[convolutional]\\r\\nbatch_normalize=1\\r\\nfilters=512\\r\\nsize=1\\r\\nstride=1\\r\\npad=1\\r\\nactivation=leaky\\r\\n\\r\\n[convolutional]\\r\\nbatch_normalize=1\\r\\nfilters=1024\\r\\nsize=3\\r\\nstride=1\\r\\npad=1\\r\\nactivation=leaky\\r\\n\\r\\n[shortcut]\\r\\nfrom=-3\\r\\nactivation=linear\\r\\n\\r\\n[convolutional]\\r\\nbatch_normalize=1\\r\\nfilters=512\\r\\nsize=1\\r\\nstride=1\\r\\npad=1\\r\\nactivation=leaky\\r\\n\\r\\n[convolutional]\\r\\nbatch_normalize=1\\r\\nfilters=1024\\r\\nsize=3\\r\\nstride=1\\r\\npad=1\\r\\nactivation=leaky\\r\\n\\r\\n[shortcut]\\r\\nfrom=-3\\r\\nactivation=linear\\r\\n\\r\\n[convolutional]\\r\\nbatch_normalize=1\\r\\nfilters=512\\r\\nsize=1\\r\\nstride=1\\r\\npad=1\\r\\nactivation=leaky\\r\\n\\r\\n[convolutional]\\r\\nbatch_normalize=1\\r\\nfilters=1024\\r\\nsize=3\\r\\nstride=1\\r\\npad=1\\r\\nactivation=leaky\\r\\n\\r\\n[shortcut]\\r\\nfrom=-3\\r\\nactivation=linear\\r\\n\\r\\n######################\\r\\n\\r\\n[convolutional]\\r\\nbatch_normalize=1\\r\\nfilters=512\\r\\nsize=1\\r\\nstride=1\\r\\npad=1\\r\\nactivation=leaky\\r\\n\\r\\n[convolutional]\\r\\nbatch_normalize=1\\r\\nsize=3\\r\\nstride=1\\r\\npad=1\\r\\nfilters=1024\\r\\nactivation=leaky\\r\\n\\r\\n[convolutional]\\r\\nbatch_normalize=1\\r\\nfilters=512\\r\\nsize=1\\r\\nstride=1\\r\\npad=1\\r\\nactivation=leaky\\r\\n\\r\\n[convolutional]\\r\\nbatch_normalize=1\\r\\nsize=3\\r\\nstride=1\\r\\npad=1\\r\\nfilters=1024\\r\\nactivation=leaky\\r\\n\\r\\n[convolutional]\\r\\nbatch_normalize=1\\r\\nfilters=512\\r\\nsize=1\\r\\nstride=1\\r\\npad=1\\r\\nactivation=leaky\\r\\n\\r\\n[convolutional]\\r\\nbatch_normalize=1\\r\\nsize=3\\r\\nstride=1\\r\\npad=1\\r\\nfilters=1024\\r\\nactivation=leaky\\r\\n\\r\\n[convolutional]\\r\\nsize=1\\r\\nstride=1\\r\\npad=1\\r\\nfilters=255\\r\\nactivation=linear\\r\\n\\r\\n\\r\\n[yolo]\\r\\nmask = 6,7,8\\r\\nanchors = 10,13,  16,30,  33,23,  30,61,  62,45,  59,119,  116,90,  156,198,  373,326\\r\\nclasses=80\\r\\nnum=9\\r\\njitter=.3\\r\\nignore_thresh = .5\\r\\ntruth_thresh = 1\\r\\nrandom=1\\r\\n\\r\\n\\r\\n[route]\\r\\nlayers = -4\\r\\n\\r\\n[convolutional]\\r\\nbatch_normalize=1\\r\\nfilters=256\\r\\nsize=1\\r\\nstride=1\\r\\npad=1\\r\\nactivation=leaky\\r\\n\\r\\n[upsample]\\r\\nstride=2\\r\\n\\r\\n[route]\\r\\nlayers = -1, 61\\r\\n\\r\\n\\r\\n\\r\\n[convolutional]\\r\\nbatch_normalize=1\\r\\nfilters=256\\r\\nsize=1\\r\\nstride=1\\r\\npad=1\\r\\nactivation=leaky\\r\\n\\r\\n[convolutional]\\r\\nbatch_normalize=1\\r\\nsize=3\\r\\nstride=1\\r\\npad=1\\r\\nfilters=512\\r\\nactivation=leaky\\r\\n\\r\\n[convolutional]\\r\\nbatch_normalize=1\\r\\nfilters=256\\r\\nsize=1\\r\\nstride=1\\r\\npad=1\\r\\nactivation=leaky\\r\\n\\r\\n[convolutional]\\r\\nbatch_normalize=1\\r\\nsize=3\\r\\nstride=1\\r\\npad=1\\r\\nfilters=512\\r\\nactivation=leaky\\r\\n\\r\\n[convolutional]\\r\\nbatch_normalize=1\\r\\nfilters=256\\r\\nsize=1\\r\\nstride=1\\r\\npad=1\\r\\nactivation=leaky\\r\\n\\r\\n[convolutional]\\r\\nbatch_normalize=1\\r\\nsize=3\\r\\nstride=1\\r\\npad=1\\r\\nfilters=512\\r\\nactivation=leaky\\r\\n\\r\\n[convolutional]\\r\\nsize=1\\r\\nstride=1\\r\\npad=1\\r\\nfilters=255\\r\\nactivation=linear\\r\\n\\r\\n\\r\\n[yolo]\\r\\nmask = 3,4,5\\r\\nanchors = 10,13,  16,30,  33,23,  30,61,  62,45,  59,119,  116,90,  156,198,  373,326\\r\\nclasses=80\\r\\nnum=9\\r\\njitter=.3\\r\\nignore_thresh = .5\\r\\ntruth_thresh = 1\\r\\nrandom=1\\r\\n\\r\\n\\r\\n\\r\\n[route]\\r\\nlayers = -4\\r\\n\\r\\n[convolutional]\\r\\nbatch_normalize=1\\r\\nfilters=128\\r\\nsize=1\\r\\nstride=1\\r\\npad=1\\r\\nactivation=leaky\\r\\n\\r\\n[upsample]\\r\\nstride=2\\r\\n\\r\\n[route]\\r\\nlayers = -1, 36\\r\\n\\r\\n\\r\\n\\r\\n[convolutional]\\r\\nbatch_normalize=1\\r\\nfilters=128\\r\\nsize=1\\r\\nstride=1\\r\\npad=1\\r\\nactivation=leaky\\r\\n\\r\\n[convolutional]\\r\\nbatch_normalize=1\\r\\nsize=3\\r\\nstride=1\\r\\npad=1\\r\\nfilters=256\\r\\nactivation=leaky\\r\\n\\r\\n[convolutional]\\r\\nbatch_normalize=1\\r\\nfilters=128\\r\\nsize=1\\r\\nstride=1\\r\\npad=1\\r\\nactivation=leaky\\r\\n\\r\\n[convolutional]\\r\\nbatch_normalize=1\\r\\nsize=3\\r\\nstride=1\\r\\npad=1\\r\\nfilters=256\\r\\nactivation=leaky\\r\\n\\r\\n[convolutional]\\r\\nbatch_normalize=1\\r\\nfilters=128\\r\\nsize=1\\r\\nstride=1\\r\\npad=1\\r\\nactivation=leaky\\r\\n\\r\\n[convolutional]\\r\\nbatch_normalize=1\\r\\nsize=3\\r\\nstride=1\\r\\npad=1\\r\\nfilters=256\\r\\nactivation=leaky\\r\\n\\r\\n[convolutional]\\r\\nsize=1\\r\\nstride=1\\r\\npad=1\\r\\nfilters=255\\r\\nactivation=linear\\r\\n\\r\\n\\r\\n[yolo]\\r\\nmask = 0,1,2\\r\\nanchors = 10,13,  16,30,  33,23,  30,61,  62,45,  59,119,  116,90,  156,198,  373,326\\r\\nclasses=80\\r\\nnum=9\\r\\njitter=.3\\r\\nignore_thresh = .5\\r\\ntruth_thresh = 1\\r\\nrandom=1'}"
            ]
          },
          "metadata": {
            "tags": []
          },
          "execution_count": 3
        }
      ]
    },
    {
      "metadata": {
        "id": "cHN-93U0V6Ud",
        "colab_type": "code",
        "colab": {}
      },
      "cell_type": "code",
      "source": [
        "def unique_config_sections(config_file):\n",
        "    \"\"\"Convert all config sections to have unique names.\n",
        "       Adds unique suffixes to config sections for compability with configparser.\n",
        "    \"\"\"\n",
        "    section_counters = defaultdict(int)\n",
        "    output_stream = io.StringIO()\n",
        "    with open(config_file) as fin:\n",
        "        for line in fin:\n",
        "            if line.startswith('['):\n",
        "                section = line.strip().strip('[]')\n",
        "                _section = section + '_' + str(section_counters[section])\n",
        "                section_counters[section] += 1\n",
        "                line = line.replace(section, _section)\n",
        "            output_stream.write(line)\n",
        "    output_stream.seek(0)\n",
        "    return output_stream"
      ],
      "execution_count": 0,
      "outputs": []
    },
    {
      "metadata": {
        "id": "qXQID-tfZpwD",
        "colab_type": "code",
        "colab": {}
      },
      "cell_type": "code",
      "source": [
        "!mkdir model_data"
      ],
      "execution_count": 0,
      "outputs": []
    },
    {
      "metadata": {
        "id": "8o0JcWDGXCMb",
        "colab_type": "code",
        "outputId": "6299539f-f0ac-4e76-a2f3-ba7e70a13c6a",
        "colab": {
          "base_uri": "https://localhost:8080/",
          "height": 13750
        }
      },
      "cell_type": "code",
      "source": [
        "def _main():\n",
        "    config_path = os.path.expanduser('yolov3.cfg')\n",
        "    weights_path = os.path.expanduser('yolov3.weights')\n",
        "    assert config_path.endswith('.cfg'), '{} is not a .cfg file'.format(\n",
        "        config_path)\n",
        "    assert weights_path.endswith(\n",
        "        '.weights'), '{} is not a .weights file'.format(weights_path)\n",
        "\n",
        "    output_path = os.path.expanduser('model_data/yolo.h5')\n",
        "    assert output_path.endswith(\n",
        "        '.h5'), 'output path {} is not a .h5 file'.format(output_path)\n",
        "    output_root = os.path.splitext(output_path)[0]\n",
        "\n",
        "    # Load weights and config.\n",
        "    print('Loading weights.')\n",
        "    weights_file = open(weights_path, 'rb')\n",
        "    major, minor, revision = np.ndarray(\n",
        "        shape=(3, ), dtype='int32', buffer=weights_file.read(12))\n",
        "    if (major*10+minor)>=2 and major<1000 and minor<1000:\n",
        "        seen = np.ndarray(shape=(1,), dtype='int64', buffer=weights_file.read(8))\n",
        "    else:\n",
        "        seen = np.ndarray(shape=(1,), dtype='int32', buffer=weights_file.read(4))\n",
        "    print('Weights Header: ', major, minor, revision, seen)\n",
        "\n",
        "    print('Parsing Darknet config.')\n",
        "    unique_config_file = unique_config_sections(config_path)\n",
        "    cfg_parser = configparser.ConfigParser()\n",
        "    cfg_parser.read_file(unique_config_file)\n",
        "\n",
        "    print('Creating Keras model.')\n",
        "    input_layer = Input(shape=(None, None, 3))\n",
        "    prev_layer = input_layer\n",
        "    all_layers = []\n",
        "\n",
        "    weight_decay = float(cfg_parser['net_0']['decay']\n",
        "                         ) if 'net_0' in cfg_parser.sections() else 5e-4\n",
        "    count = 0\n",
        "    out_index = []\n",
        "    for section in cfg_parser.sections():\n",
        "        print('Parsing section {}'.format(section))\n",
        "        if section.startswith('convolutional'):\n",
        "            filters = int(cfg_parser[section]['filters'])\n",
        "            size = int(cfg_parser[section]['size'])\n",
        "            stride = int(cfg_parser[section]['stride'])\n",
        "            pad = int(cfg_parser[section]['pad'])\n",
        "            activation = cfg_parser[section]['activation']\n",
        "            batch_normalize = 'batch_normalize' in cfg_parser[section]\n",
        "\n",
        "            padding = 'same' if pad == 1 and stride == 1 else 'valid'\n",
        "\n",
        "            # Setting weights.\n",
        "            # Darknet serializes convolutional weights as:\n",
        "            # [bias/beta, [gamma, mean, variance], conv_weights]\n",
        "            prev_layer_shape = K.int_shape(prev_layer)\n",
        "\n",
        "            weights_shape = (size, size, prev_layer_shape[-1], filters)\n",
        "            darknet_w_shape = (filters, weights_shape[2], size, size)\n",
        "            weights_size = np.product(weights_shape)\n",
        "\n",
        "            print('conv2d', 'bn'\n",
        "                  if batch_normalize else '  ', activation, weights_shape)\n",
        "\n",
        "            conv_bias = np.ndarray(\n",
        "                shape=(filters, ),\n",
        "                dtype='float32',\n",
        "                buffer=weights_file.read(filters * 4))\n",
        "            count += filters\n",
        "\n",
        "            if batch_normalize:\n",
        "                bn_weights = np.ndarray(\n",
        "                    shape=(3, filters),\n",
        "                    dtype='float32',\n",
        "                    buffer=weights_file.read(filters * 12))\n",
        "                count += 3 * filters\n",
        "\n",
        "                bn_weight_list = [\n",
        "                    bn_weights[0],  # scale gamma\n",
        "                    conv_bias,  # shift beta\n",
        "                    bn_weights[1],  # running mean\n",
        "                    bn_weights[2]  # running var\n",
        "                ]\n",
        "\n",
        "            conv_weights = np.ndarray(\n",
        "                shape=darknet_w_shape,\n",
        "                dtype='float32',\n",
        "                buffer=weights_file.read(weights_size * 4))\n",
        "            count += weights_size\n",
        "\n",
        "            # DarkNet conv_weights are serialized Caffe-style:\n",
        "            # (out_dim, in_dim, height, width)\n",
        "            # We would like to set these to Tensorflow order:\n",
        "            # (height, width, in_dim, out_dim)\n",
        "            conv_weights = np.transpose(conv_weights, [2, 3, 1, 0])\n",
        "            conv_weights = [conv_weights] if batch_normalize else [\n",
        "                conv_weights, conv_bias\n",
        "            ]\n",
        "\n",
        "            # Handle activation.\n",
        "            act_fn = None\n",
        "            if activation == 'leaky':\n",
        "                pass  # Add advanced activation later.\n",
        "            elif activation != 'linear':\n",
        "                raise ValueError(\n",
        "                    'Unknown activation function `{}` in section {}'.format(\n",
        "                        activation, section))\n",
        "\n",
        "            # Create Conv2D layer\n",
        "            if stride>1:\n",
        "                # Darknet uses left and top padding instead of 'same' mode\n",
        "                prev_layer = ZeroPadding2D(((1,0),(1,0)))(prev_layer)\n",
        "            conv_layer = (Conv2D(\n",
        "                filters, (size, size),\n",
        "                strides=(stride, stride),\n",
        "                kernel_regularizer=l2(weight_decay),\n",
        "                use_bias=not batch_normalize,\n",
        "                weights=conv_weights,\n",
        "                activation=act_fn,\n",
        "                padding=padding))(prev_layer)\n",
        "\n",
        "            if batch_normalize:\n",
        "                conv_layer = (BatchNormalization(\n",
        "                    weights=bn_weight_list))(conv_layer)\n",
        "            prev_layer = conv_layer\n",
        "\n",
        "            if activation == 'linear':\n",
        "                all_layers.append(prev_layer)\n",
        "            elif activation == 'leaky':\n",
        "                act_layer = LeakyReLU(alpha=0.1)(prev_layer)\n",
        "                prev_layer = act_layer\n",
        "                all_layers.append(act_layer)\n",
        "\n",
        "        elif section.startswith('route'):\n",
        "            ids = [int(i) for i in cfg_parser[section]['layers'].split(',')]\n",
        "            layers = [all_layers[i] for i in ids]\n",
        "            if len(layers) > 1:\n",
        "                print('Concatenating route layers:', layers)\n",
        "                concatenate_layer = Concatenate()(layers)\n",
        "                all_layers.append(concatenate_layer)\n",
        "                prev_layer = concatenate_layer\n",
        "            else:\n",
        "                skip_layer = layers[0]  # only one layer to route\n",
        "                all_layers.append(skip_layer)\n",
        "                prev_layer = skip_layer\n",
        "\n",
        "        elif section.startswith('maxpool'):\n",
        "            size = int(cfg_parser[section]['size'])\n",
        "            stride = int(cfg_parser[section]['stride'])\n",
        "            all_layers.append(\n",
        "                MaxPooling2D(\n",
        "                    pool_size=(size, size),\n",
        "                    strides=(stride, stride),\n",
        "                    padding='same')(prev_layer))\n",
        "            prev_layer = all_layers[-1]\n",
        "\n",
        "        elif section.startswith('shortcut'):\n",
        "            index = int(cfg_parser[section]['from'])\n",
        "            activation = cfg_parser[section]['activation']\n",
        "            assert activation == 'linear', 'Only linear activation supported.'\n",
        "            all_layers.append(Add()([all_layers[index], prev_layer]))\n",
        "            prev_layer = all_layers[-1]\n",
        "\n",
        "        elif section.startswith('upsample'):\n",
        "            stride = int(cfg_parser[section]['stride'])\n",
        "            assert stride == 2, 'Only stride=2 supported.'\n",
        "            all_layers.append(UpSampling2D(stride)(prev_layer))\n",
        "            prev_layer = all_layers[-1]\n",
        "\n",
        "        elif section.startswith('yolo'):\n",
        "            out_index.append(len(all_layers)-1)\n",
        "            all_layers.append(None)\n",
        "            prev_layer = all_layers[-1]\n",
        "\n",
        "        elif section.startswith('net'):\n",
        "            pass\n",
        "\n",
        "        else:\n",
        "            raise ValueError(\n",
        "                'Unsupported section header type: {}'.format(section))\n",
        "\n",
        "    # Create and save model.\n",
        "    if len(out_index)==0: out_index.append(len(all_layers)-1)\n",
        "    model = Model(inputs=input_layer, outputs=[all_layers[i] for i in out_index])\n",
        "    print(model.summary())\n",
        "    model.save('{}'.format(output_path))\n",
        "    print('Saved Keras model to {}'.format(output_path))\n",
        "\n",
        "    # Check to see if all weights have been read.\n",
        "    remaining_weights = len(weights_file.read()) / 4\n",
        "    weights_file.close()\n",
        "    print('Read {} of {} from Darknet weights.'.format(count, count +\n",
        "                                                       remaining_weights))\n",
        "    if remaining_weights > 0:\n",
        "        print('Warning: {} unused weights'.format(remaining_weights))\n",
        "\n",
        "    plot(model, to_file='{}.png'.format(output_root), show_shapes=True)\n",
        "    print('Saved model plot to {}.png'.format(output_root))\n",
        "\n",
        "_main()"
      ],
      "execution_count": 0,
      "outputs": [
        {
          "output_type": "stream",
          "text": [
            "Loading weights.\n",
            "Weights Header:  0 2 0 [32013312]\n",
            "Parsing Darknet config.\n",
            "Creating Keras model.\n",
            "Parsing section net_0\n",
            "Parsing section convolutional_0\n",
            "conv2d bn leaky (3, 3, 3, 32)\n",
            "WARNING:tensorflow:From /usr/local/lib/python3.6/dist-packages/tensorflow/python/framework/op_def_library.py:263: colocate_with (from tensorflow.python.framework.ops) is deprecated and will be removed in a future version.\n",
            "Instructions for updating:\n",
            "Colocations handled automatically by placer.\n",
            "Parsing section convolutional_1\n",
            "conv2d bn leaky (3, 3, 32, 64)\n",
            "Parsing section convolutional_2\n",
            "conv2d bn leaky (1, 1, 64, 32)\n",
            "Parsing section convolutional_3\n",
            "conv2d bn leaky (3, 3, 32, 64)\n",
            "Parsing section shortcut_0\n",
            "Parsing section convolutional_4\n",
            "conv2d bn leaky (3, 3, 64, 128)\n",
            "Parsing section convolutional_5\n",
            "conv2d bn leaky (1, 1, 128, 64)\n",
            "Parsing section convolutional_6\n",
            "conv2d bn leaky (3, 3, 64, 128)\n",
            "Parsing section shortcut_1\n",
            "Parsing section convolutional_7\n",
            "conv2d bn leaky (1, 1, 128, 64)\n",
            "Parsing section convolutional_8\n",
            "conv2d bn leaky (3, 3, 64, 128)\n",
            "Parsing section shortcut_2\n",
            "Parsing section convolutional_9\n",
            "conv2d bn leaky (3, 3, 128, 256)\n",
            "Parsing section convolutional_10\n",
            "conv2d bn leaky (1, 1, 256, 128)\n",
            "Parsing section convolutional_11\n",
            "conv2d bn leaky (3, 3, 128, 256)\n",
            "Parsing section shortcut_3\n",
            "Parsing section convolutional_12\n",
            "conv2d bn leaky (1, 1, 256, 128)\n",
            "Parsing section convolutional_13\n",
            "conv2d bn leaky (3, 3, 128, 256)\n",
            "Parsing section shortcut_4\n",
            "Parsing section convolutional_14\n",
            "conv2d bn leaky (1, 1, 256, 128)\n",
            "Parsing section convolutional_15\n",
            "conv2d bn leaky (3, 3, 128, 256)\n",
            "Parsing section shortcut_5\n",
            "Parsing section convolutional_16\n",
            "conv2d bn leaky (1, 1, 256, 128)\n",
            "Parsing section convolutional_17\n",
            "conv2d bn leaky (3, 3, 128, 256)\n",
            "Parsing section shortcut_6\n",
            "Parsing section convolutional_18\n",
            "conv2d bn leaky (1, 1, 256, 128)\n",
            "Parsing section convolutional_19\n",
            "conv2d bn leaky (3, 3, 128, 256)\n",
            "Parsing section shortcut_7\n",
            "Parsing section convolutional_20\n",
            "conv2d bn leaky (1, 1, 256, 128)\n",
            "Parsing section convolutional_21\n",
            "conv2d bn leaky (3, 3, 128, 256)\n",
            "Parsing section shortcut_8\n",
            "Parsing section convolutional_22\n",
            "conv2d bn leaky (1, 1, 256, 128)\n",
            "Parsing section convolutional_23\n",
            "conv2d bn leaky (3, 3, 128, 256)\n",
            "Parsing section shortcut_9\n",
            "Parsing section convolutional_24\n",
            "conv2d bn leaky (1, 1, 256, 128)\n",
            "Parsing section convolutional_25\n",
            "conv2d bn leaky (3, 3, 128, 256)\n",
            "Parsing section shortcut_10\n",
            "Parsing section convolutional_26\n",
            "conv2d bn leaky (3, 3, 256, 512)\n",
            "Parsing section convolutional_27\n",
            "conv2d bn leaky (1, 1, 512, 256)\n",
            "Parsing section convolutional_28\n",
            "conv2d bn leaky (3, 3, 256, 512)\n",
            "Parsing section shortcut_11\n",
            "Parsing section convolutional_29\n",
            "conv2d bn leaky (1, 1, 512, 256)\n",
            "Parsing section convolutional_30\n",
            "conv2d bn leaky (3, 3, 256, 512)\n",
            "Parsing section shortcut_12\n",
            "Parsing section convolutional_31\n",
            "conv2d bn leaky (1, 1, 512, 256)\n",
            "Parsing section convolutional_32\n",
            "conv2d bn leaky (3, 3, 256, 512)\n",
            "Parsing section shortcut_13\n",
            "Parsing section convolutional_33\n",
            "conv2d bn leaky (1, 1, 512, 256)\n",
            "Parsing section convolutional_34\n",
            "conv2d bn leaky (3, 3, 256, 512)\n",
            "Parsing section shortcut_14\n",
            "Parsing section convolutional_35\n",
            "conv2d bn leaky (1, 1, 512, 256)\n",
            "Parsing section convolutional_36\n",
            "conv2d bn leaky (3, 3, 256, 512)\n",
            "Parsing section shortcut_15\n",
            "Parsing section convolutional_37\n",
            "conv2d bn leaky (1, 1, 512, 256)\n",
            "Parsing section convolutional_38\n",
            "conv2d bn leaky (3, 3, 256, 512)\n",
            "Parsing section shortcut_16\n",
            "Parsing section convolutional_39\n",
            "conv2d bn leaky (1, 1, 512, 256)\n",
            "Parsing section convolutional_40\n",
            "conv2d bn leaky (3, 3, 256, 512)\n",
            "Parsing section shortcut_17\n",
            "Parsing section convolutional_41\n",
            "conv2d bn leaky (1, 1, 512, 256)\n",
            "Parsing section convolutional_42\n",
            "conv2d bn leaky (3, 3, 256, 512)\n",
            "Parsing section shortcut_18\n",
            "Parsing section convolutional_43\n",
            "conv2d bn leaky (3, 3, 512, 1024)\n",
            "Parsing section convolutional_44\n",
            "conv2d bn leaky (1, 1, 1024, 512)\n",
            "Parsing section convolutional_45\n",
            "conv2d bn leaky (3, 3, 512, 1024)\n",
            "Parsing section shortcut_19\n",
            "Parsing section convolutional_46\n",
            "conv2d bn leaky (1, 1, 1024, 512)\n",
            "Parsing section convolutional_47\n",
            "conv2d bn leaky (3, 3, 512, 1024)\n",
            "Parsing section shortcut_20\n",
            "Parsing section convolutional_48\n",
            "conv2d bn leaky (1, 1, 1024, 512)\n",
            "Parsing section convolutional_49\n",
            "conv2d bn leaky (3, 3, 512, 1024)\n",
            "Parsing section shortcut_21\n",
            "Parsing section convolutional_50\n",
            "conv2d bn leaky (1, 1, 1024, 512)\n",
            "Parsing section convolutional_51\n",
            "conv2d bn leaky (3, 3, 512, 1024)\n",
            "Parsing section shortcut_22\n",
            "Parsing section convolutional_52\n",
            "conv2d bn leaky (1, 1, 1024, 512)\n",
            "Parsing section convolutional_53\n",
            "conv2d bn leaky (3, 3, 512, 1024)\n",
            "Parsing section convolutional_54\n",
            "conv2d bn leaky (1, 1, 1024, 512)\n",
            "Parsing section convolutional_55\n",
            "conv2d bn leaky (3, 3, 512, 1024)\n",
            "Parsing section convolutional_56\n",
            "conv2d bn leaky (1, 1, 1024, 512)\n",
            "Parsing section convolutional_57\n",
            "conv2d bn leaky (3, 3, 512, 1024)\n",
            "Parsing section convolutional_58\n",
            "conv2d    linear (1, 1, 1024, 255)\n",
            "Parsing section yolo_0\n",
            "Parsing section route_0\n",
            "Parsing section convolutional_59\n",
            "conv2d bn leaky (1, 1, 512, 256)\n",
            "Parsing section upsample_0\n",
            "Parsing section route_1\n",
            "Concatenating route layers: [<tf.Tensor 'up_sampling2d_1/ResizeNearestNeighbor:0' shape=(?, ?, ?, 256) dtype=float32>, <tf.Tensor 'add_19/add:0' shape=(?, ?, ?, 512) dtype=float32>]\n",
            "Parsing section convolutional_60\n",
            "conv2d bn leaky (1, 1, 768, 256)\n",
            "Parsing section convolutional_61\n",
            "conv2d bn leaky (3, 3, 256, 512)\n",
            "Parsing section convolutional_62\n",
            "conv2d bn leaky (1, 1, 512, 256)\n",
            "Parsing section convolutional_63\n",
            "conv2d bn leaky (3, 3, 256, 512)\n",
            "Parsing section convolutional_64\n",
            "conv2d bn leaky (1, 1, 512, 256)\n",
            "Parsing section convolutional_65\n",
            "conv2d bn leaky (3, 3, 256, 512)\n",
            "Parsing section convolutional_66\n",
            "conv2d    linear (1, 1, 512, 255)\n",
            "Parsing section yolo_1\n",
            "Parsing section route_2\n",
            "Parsing section convolutional_67\n",
            "conv2d bn leaky (1, 1, 256, 128)\n",
            "Parsing section upsample_1\n",
            "Parsing section route_3\n",
            "Concatenating route layers: [<tf.Tensor 'up_sampling2d_2/ResizeNearestNeighbor:0' shape=(?, ?, ?, 128) dtype=float32>, <tf.Tensor 'add_11/add:0' shape=(?, ?, ?, 256) dtype=float32>]\n",
            "Parsing section convolutional_68\n",
            "conv2d bn leaky (1, 1, 384, 128)\n",
            "Parsing section convolutional_69\n",
            "conv2d bn leaky (3, 3, 128, 256)\n",
            "Parsing section convolutional_70\n",
            "conv2d bn leaky (1, 1, 256, 128)\n",
            "Parsing section convolutional_71\n",
            "conv2d bn leaky (3, 3, 128, 256)\n",
            "Parsing section convolutional_72\n",
            "conv2d bn leaky (1, 1, 256, 128)\n",
            "Parsing section convolutional_73\n",
            "conv2d bn leaky (3, 3, 128, 256)\n",
            "Parsing section convolutional_74\n",
            "conv2d    linear (1, 1, 256, 255)\n",
            "Parsing section yolo_2\n",
            "__________________________________________________________________________________________________\n",
            "Layer (type)                    Output Shape         Param #     Connected to                     \n",
            "==================================================================================================\n",
            "input_1 (InputLayer)            (None, None, None, 3 0                                            \n",
            "__________________________________________________________________________________________________\n",
            "conv2d_1 (Conv2D)               (None, None, None, 3 864         input_1[0][0]                    \n",
            "__________________________________________________________________________________________________\n",
            "batch_normalization_1 (BatchNor (None, None, None, 3 128         conv2d_1[0][0]                   \n",
            "__________________________________________________________________________________________________\n",
            "leaky_re_lu_1 (LeakyReLU)       (None, None, None, 3 0           batch_normalization_1[0][0]      \n",
            "__________________________________________________________________________________________________\n",
            "zero_padding2d_1 (ZeroPadding2D (None, None, None, 3 0           leaky_re_lu_1[0][0]              \n",
            "__________________________________________________________________________________________________\n",
            "conv2d_2 (Conv2D)               (None, None, None, 6 18432       zero_padding2d_1[0][0]           \n",
            "__________________________________________________________________________________________________\n",
            "batch_normalization_2 (BatchNor (None, None, None, 6 256         conv2d_2[0][0]                   \n",
            "__________________________________________________________________________________________________\n",
            "leaky_re_lu_2 (LeakyReLU)       (None, None, None, 6 0           batch_normalization_2[0][0]      \n",
            "__________________________________________________________________________________________________\n",
            "conv2d_3 (Conv2D)               (None, None, None, 3 2048        leaky_re_lu_2[0][0]              \n",
            "__________________________________________________________________________________________________\n",
            "batch_normalization_3 (BatchNor (None, None, None, 3 128         conv2d_3[0][0]                   \n",
            "__________________________________________________________________________________________________\n",
            "leaky_re_lu_3 (LeakyReLU)       (None, None, None, 3 0           batch_normalization_3[0][0]      \n",
            "__________________________________________________________________________________________________\n",
            "conv2d_4 (Conv2D)               (None, None, None, 6 18432       leaky_re_lu_3[0][0]              \n",
            "__________________________________________________________________________________________________\n",
            "batch_normalization_4 (BatchNor (None, None, None, 6 256         conv2d_4[0][0]                   \n",
            "__________________________________________________________________________________________________\n",
            "leaky_re_lu_4 (LeakyReLU)       (None, None, None, 6 0           batch_normalization_4[0][0]      \n",
            "__________________________________________________________________________________________________\n",
            "add_1 (Add)                     (None, None, None, 6 0           leaky_re_lu_2[0][0]              \n",
            "                                                                 leaky_re_lu_4[0][0]              \n",
            "__________________________________________________________________________________________________\n",
            "zero_padding2d_2 (ZeroPadding2D (None, None, None, 6 0           add_1[0][0]                      \n",
            "__________________________________________________________________________________________________\n",
            "conv2d_5 (Conv2D)               (None, None, None, 1 73728       zero_padding2d_2[0][0]           \n",
            "__________________________________________________________________________________________________\n",
            "batch_normalization_5 (BatchNor (None, None, None, 1 512         conv2d_5[0][0]                   \n",
            "__________________________________________________________________________________________________\n",
            "leaky_re_lu_5 (LeakyReLU)       (None, None, None, 1 0           batch_normalization_5[0][0]      \n",
            "__________________________________________________________________________________________________\n",
            "conv2d_6 (Conv2D)               (None, None, None, 6 8192        leaky_re_lu_5[0][0]              \n",
            "__________________________________________________________________________________________________\n",
            "batch_normalization_6 (BatchNor (None, None, None, 6 256         conv2d_6[0][0]                   \n",
            "__________________________________________________________________________________________________\n",
            "leaky_re_lu_6 (LeakyReLU)       (None, None, None, 6 0           batch_normalization_6[0][0]      \n",
            "__________________________________________________________________________________________________\n",
            "conv2d_7 (Conv2D)               (None, None, None, 1 73728       leaky_re_lu_6[0][0]              \n",
            "__________________________________________________________________________________________________\n",
            "batch_normalization_7 (BatchNor (None, None, None, 1 512         conv2d_7[0][0]                   \n",
            "__________________________________________________________________________________________________\n",
            "leaky_re_lu_7 (LeakyReLU)       (None, None, None, 1 0           batch_normalization_7[0][0]      \n",
            "__________________________________________________________________________________________________\n",
            "add_2 (Add)                     (None, None, None, 1 0           leaky_re_lu_5[0][0]              \n",
            "                                                                 leaky_re_lu_7[0][0]              \n",
            "__________________________________________________________________________________________________\n",
            "conv2d_8 (Conv2D)               (None, None, None, 6 8192        add_2[0][0]                      \n",
            "__________________________________________________________________________________________________\n",
            "batch_normalization_8 (BatchNor (None, None, None, 6 256         conv2d_8[0][0]                   \n",
            "__________________________________________________________________________________________________\n",
            "leaky_re_lu_8 (LeakyReLU)       (None, None, None, 6 0           batch_normalization_8[0][0]      \n",
            "__________________________________________________________________________________________________\n",
            "conv2d_9 (Conv2D)               (None, None, None, 1 73728       leaky_re_lu_8[0][0]              \n",
            "__________________________________________________________________________________________________\n",
            "batch_normalization_9 (BatchNor (None, None, None, 1 512         conv2d_9[0][0]                   \n",
            "__________________________________________________________________________________________________\n",
            "leaky_re_lu_9 (LeakyReLU)       (None, None, None, 1 0           batch_normalization_9[0][0]      \n",
            "__________________________________________________________________________________________________\n",
            "add_3 (Add)                     (None, None, None, 1 0           add_2[0][0]                      \n",
            "                                                                 leaky_re_lu_9[0][0]              \n",
            "__________________________________________________________________________________________________\n",
            "zero_padding2d_3 (ZeroPadding2D (None, None, None, 1 0           add_3[0][0]                      \n",
            "__________________________________________________________________________________________________\n",
            "conv2d_10 (Conv2D)              (None, None, None, 2 294912      zero_padding2d_3[0][0]           \n",
            "__________________________________________________________________________________________________\n",
            "batch_normalization_10 (BatchNo (None, None, None, 2 1024        conv2d_10[0][0]                  \n",
            "__________________________________________________________________________________________________\n",
            "leaky_re_lu_10 (LeakyReLU)      (None, None, None, 2 0           batch_normalization_10[0][0]     \n",
            "__________________________________________________________________________________________________\n",
            "conv2d_11 (Conv2D)              (None, None, None, 1 32768       leaky_re_lu_10[0][0]             \n",
            "__________________________________________________________________________________________________\n",
            "batch_normalization_11 (BatchNo (None, None, None, 1 512         conv2d_11[0][0]                  \n",
            "__________________________________________________________________________________________________\n",
            "leaky_re_lu_11 (LeakyReLU)      (None, None, None, 1 0           batch_normalization_11[0][0]     \n",
            "__________________________________________________________________________________________________\n",
            "conv2d_12 (Conv2D)              (None, None, None, 2 294912      leaky_re_lu_11[0][0]             \n",
            "__________________________________________________________________________________________________\n",
            "batch_normalization_12 (BatchNo (None, None, None, 2 1024        conv2d_12[0][0]                  \n",
            "__________________________________________________________________________________________________\n",
            "leaky_re_lu_12 (LeakyReLU)      (None, None, None, 2 0           batch_normalization_12[0][0]     \n",
            "__________________________________________________________________________________________________\n",
            "add_4 (Add)                     (None, None, None, 2 0           leaky_re_lu_10[0][0]             \n",
            "                                                                 leaky_re_lu_12[0][0]             \n",
            "__________________________________________________________________________________________________\n",
            "conv2d_13 (Conv2D)              (None, None, None, 1 32768       add_4[0][0]                      \n",
            "__________________________________________________________________________________________________\n",
            "batch_normalization_13 (BatchNo (None, None, None, 1 512         conv2d_13[0][0]                  \n",
            "__________________________________________________________________________________________________\n",
            "leaky_re_lu_13 (LeakyReLU)      (None, None, None, 1 0           batch_normalization_13[0][0]     \n",
            "__________________________________________________________________________________________________\n",
            "conv2d_14 (Conv2D)              (None, None, None, 2 294912      leaky_re_lu_13[0][0]             \n",
            "__________________________________________________________________________________________________\n",
            "batch_normalization_14 (BatchNo (None, None, None, 2 1024        conv2d_14[0][0]                  \n",
            "__________________________________________________________________________________________________\n",
            "leaky_re_lu_14 (LeakyReLU)      (None, None, None, 2 0           batch_normalization_14[0][0]     \n",
            "__________________________________________________________________________________________________\n",
            "add_5 (Add)                     (None, None, None, 2 0           add_4[0][0]                      \n",
            "                                                                 leaky_re_lu_14[0][0]             \n",
            "__________________________________________________________________________________________________\n",
            "conv2d_15 (Conv2D)              (None, None, None, 1 32768       add_5[0][0]                      \n",
            "__________________________________________________________________________________________________\n",
            "batch_normalization_15 (BatchNo (None, None, None, 1 512         conv2d_15[0][0]                  \n",
            "__________________________________________________________________________________________________\n",
            "leaky_re_lu_15 (LeakyReLU)      (None, None, None, 1 0           batch_normalization_15[0][0]     \n",
            "__________________________________________________________________________________________________\n",
            "conv2d_16 (Conv2D)              (None, None, None, 2 294912      leaky_re_lu_15[0][0]             \n",
            "__________________________________________________________________________________________________\n",
            "batch_normalization_16 (BatchNo (None, None, None, 2 1024        conv2d_16[0][0]                  \n",
            "__________________________________________________________________________________________________\n",
            "leaky_re_lu_16 (LeakyReLU)      (None, None, None, 2 0           batch_normalization_16[0][0]     \n",
            "__________________________________________________________________________________________________\n",
            "add_6 (Add)                     (None, None, None, 2 0           add_5[0][0]                      \n",
            "                                                                 leaky_re_lu_16[0][0]             \n",
            "__________________________________________________________________________________________________\n",
            "conv2d_17 (Conv2D)              (None, None, None, 1 32768       add_6[0][0]                      \n",
            "__________________________________________________________________________________________________\n",
            "batch_normalization_17 (BatchNo (None, None, None, 1 512         conv2d_17[0][0]                  \n",
            "__________________________________________________________________________________________________\n",
            "leaky_re_lu_17 (LeakyReLU)      (None, None, None, 1 0           batch_normalization_17[0][0]     \n",
            "__________________________________________________________________________________________________\n",
            "conv2d_18 (Conv2D)              (None, None, None, 2 294912      leaky_re_lu_17[0][0]             \n",
            "__________________________________________________________________________________________________\n",
            "batch_normalization_18 (BatchNo (None, None, None, 2 1024        conv2d_18[0][0]                  \n",
            "__________________________________________________________________________________________________\n",
            "leaky_re_lu_18 (LeakyReLU)      (None, None, None, 2 0           batch_normalization_18[0][0]     \n",
            "__________________________________________________________________________________________________\n",
            "add_7 (Add)                     (None, None, None, 2 0           add_6[0][0]                      \n",
            "                                                                 leaky_re_lu_18[0][0]             \n",
            "__________________________________________________________________________________________________\n",
            "conv2d_19 (Conv2D)              (None, None, None, 1 32768       add_7[0][0]                      \n",
            "__________________________________________________________________________________________________\n",
            "batch_normalization_19 (BatchNo (None, None, None, 1 512         conv2d_19[0][0]                  \n",
            "__________________________________________________________________________________________________\n",
            "leaky_re_lu_19 (LeakyReLU)      (None, None, None, 1 0           batch_normalization_19[0][0]     \n",
            "__________________________________________________________________________________________________\n",
            "conv2d_20 (Conv2D)              (None, None, None, 2 294912      leaky_re_lu_19[0][0]             \n",
            "__________________________________________________________________________________________________\n",
            "batch_normalization_20 (BatchNo (None, None, None, 2 1024        conv2d_20[0][0]                  \n",
            "__________________________________________________________________________________________________\n",
            "leaky_re_lu_20 (LeakyReLU)      (None, None, None, 2 0           batch_normalization_20[0][0]     \n",
            "__________________________________________________________________________________________________\n",
            "add_8 (Add)                     (None, None, None, 2 0           add_7[0][0]                      \n",
            "                                                                 leaky_re_lu_20[0][0]             \n",
            "__________________________________________________________________________________________________\n",
            "conv2d_21 (Conv2D)              (None, None, None, 1 32768       add_8[0][0]                      \n",
            "__________________________________________________________________________________________________\n",
            "batch_normalization_21 (BatchNo (None, None, None, 1 512         conv2d_21[0][0]                  \n",
            "__________________________________________________________________________________________________\n",
            "leaky_re_lu_21 (LeakyReLU)      (None, None, None, 1 0           batch_normalization_21[0][0]     \n",
            "__________________________________________________________________________________________________\n",
            "conv2d_22 (Conv2D)              (None, None, None, 2 294912      leaky_re_lu_21[0][0]             \n",
            "__________________________________________________________________________________________________\n",
            "batch_normalization_22 (BatchNo (None, None, None, 2 1024        conv2d_22[0][0]                  \n",
            "__________________________________________________________________________________________________\n",
            "leaky_re_lu_22 (LeakyReLU)      (None, None, None, 2 0           batch_normalization_22[0][0]     \n",
            "__________________________________________________________________________________________________\n",
            "add_9 (Add)                     (None, None, None, 2 0           add_8[0][0]                      \n",
            "                                                                 leaky_re_lu_22[0][0]             \n",
            "__________________________________________________________________________________________________\n",
            "conv2d_23 (Conv2D)              (None, None, None, 1 32768       add_9[0][0]                      \n",
            "__________________________________________________________________________________________________\n",
            "batch_normalization_23 (BatchNo (None, None, None, 1 512         conv2d_23[0][0]                  \n",
            "__________________________________________________________________________________________________\n",
            "leaky_re_lu_23 (LeakyReLU)      (None, None, None, 1 0           batch_normalization_23[0][0]     \n",
            "__________________________________________________________________________________________________\n",
            "conv2d_24 (Conv2D)              (None, None, None, 2 294912      leaky_re_lu_23[0][0]             \n",
            "__________________________________________________________________________________________________\n",
            "batch_normalization_24 (BatchNo (None, None, None, 2 1024        conv2d_24[0][0]                  \n",
            "__________________________________________________________________________________________________\n",
            "leaky_re_lu_24 (LeakyReLU)      (None, None, None, 2 0           batch_normalization_24[0][0]     \n",
            "__________________________________________________________________________________________________\n",
            "add_10 (Add)                    (None, None, None, 2 0           add_9[0][0]                      \n",
            "                                                                 leaky_re_lu_24[0][0]             \n",
            "__________________________________________________________________________________________________\n",
            "conv2d_25 (Conv2D)              (None, None, None, 1 32768       add_10[0][0]                     \n",
            "__________________________________________________________________________________________________\n",
            "batch_normalization_25 (BatchNo (None, None, None, 1 512         conv2d_25[0][0]                  \n",
            "__________________________________________________________________________________________________\n",
            "leaky_re_lu_25 (LeakyReLU)      (None, None, None, 1 0           batch_normalization_25[0][0]     \n",
            "__________________________________________________________________________________________________\n",
            "conv2d_26 (Conv2D)              (None, None, None, 2 294912      leaky_re_lu_25[0][0]             \n",
            "__________________________________________________________________________________________________\n",
            "batch_normalization_26 (BatchNo (None, None, None, 2 1024        conv2d_26[0][0]                  \n",
            "__________________________________________________________________________________________________\n",
            "leaky_re_lu_26 (LeakyReLU)      (None, None, None, 2 0           batch_normalization_26[0][0]     \n",
            "__________________________________________________________________________________________________\n",
            "add_11 (Add)                    (None, None, None, 2 0           add_10[0][0]                     \n",
            "                                                                 leaky_re_lu_26[0][0]             \n",
            "__________________________________________________________________________________________________\n",
            "zero_padding2d_4 (ZeroPadding2D (None, None, None, 2 0           add_11[0][0]                     \n",
            "__________________________________________________________________________________________________\n",
            "conv2d_27 (Conv2D)              (None, None, None, 5 1179648     zero_padding2d_4[0][0]           \n",
            "__________________________________________________________________________________________________\n",
            "batch_normalization_27 (BatchNo (None, None, None, 5 2048        conv2d_27[0][0]                  \n",
            "__________________________________________________________________________________________________\n",
            "leaky_re_lu_27 (LeakyReLU)      (None, None, None, 5 0           batch_normalization_27[0][0]     \n",
            "__________________________________________________________________________________________________\n",
            "conv2d_28 (Conv2D)              (None, None, None, 2 131072      leaky_re_lu_27[0][0]             \n",
            "__________________________________________________________________________________________________\n",
            "batch_normalization_28 (BatchNo (None, None, None, 2 1024        conv2d_28[0][0]                  \n",
            "__________________________________________________________________________________________________\n",
            "leaky_re_lu_28 (LeakyReLU)      (None, None, None, 2 0           batch_normalization_28[0][0]     \n",
            "__________________________________________________________________________________________________\n",
            "conv2d_29 (Conv2D)              (None, None, None, 5 1179648     leaky_re_lu_28[0][0]             \n",
            "__________________________________________________________________________________________________\n",
            "batch_normalization_29 (BatchNo (None, None, None, 5 2048        conv2d_29[0][0]                  \n",
            "__________________________________________________________________________________________________\n",
            "leaky_re_lu_29 (LeakyReLU)      (None, None, None, 5 0           batch_normalization_29[0][0]     \n",
            "__________________________________________________________________________________________________\n",
            "add_12 (Add)                    (None, None, None, 5 0           leaky_re_lu_27[0][0]             \n",
            "                                                                 leaky_re_lu_29[0][0]             \n",
            "__________________________________________________________________________________________________\n",
            "conv2d_30 (Conv2D)              (None, None, None, 2 131072      add_12[0][0]                     \n",
            "__________________________________________________________________________________________________\n",
            "batch_normalization_30 (BatchNo (None, None, None, 2 1024        conv2d_30[0][0]                  \n",
            "__________________________________________________________________________________________________\n",
            "leaky_re_lu_30 (LeakyReLU)      (None, None, None, 2 0           batch_normalization_30[0][0]     \n",
            "__________________________________________________________________________________________________\n",
            "conv2d_31 (Conv2D)              (None, None, None, 5 1179648     leaky_re_lu_30[0][0]             \n",
            "__________________________________________________________________________________________________\n",
            "batch_normalization_31 (BatchNo (None, None, None, 5 2048        conv2d_31[0][0]                  \n",
            "__________________________________________________________________________________________________\n",
            "leaky_re_lu_31 (LeakyReLU)      (None, None, None, 5 0           batch_normalization_31[0][0]     \n",
            "__________________________________________________________________________________________________\n",
            "add_13 (Add)                    (None, None, None, 5 0           add_12[0][0]                     \n",
            "                                                                 leaky_re_lu_31[0][0]             \n",
            "__________________________________________________________________________________________________\n",
            "conv2d_32 (Conv2D)              (None, None, None, 2 131072      add_13[0][0]                     \n",
            "__________________________________________________________________________________________________\n",
            "batch_normalization_32 (BatchNo (None, None, None, 2 1024        conv2d_32[0][0]                  \n",
            "__________________________________________________________________________________________________\n",
            "leaky_re_lu_32 (LeakyReLU)      (None, None, None, 2 0           batch_normalization_32[0][0]     \n",
            "__________________________________________________________________________________________________\n",
            "conv2d_33 (Conv2D)              (None, None, None, 5 1179648     leaky_re_lu_32[0][0]             \n",
            "__________________________________________________________________________________________________\n",
            "batch_normalization_33 (BatchNo (None, None, None, 5 2048        conv2d_33[0][0]                  \n",
            "__________________________________________________________________________________________________\n",
            "leaky_re_lu_33 (LeakyReLU)      (None, None, None, 5 0           batch_normalization_33[0][0]     \n",
            "__________________________________________________________________________________________________\n",
            "add_14 (Add)                    (None, None, None, 5 0           add_13[0][0]                     \n",
            "                                                                 leaky_re_lu_33[0][0]             \n",
            "__________________________________________________________________________________________________\n",
            "conv2d_34 (Conv2D)              (None, None, None, 2 131072      add_14[0][0]                     \n",
            "__________________________________________________________________________________________________\n",
            "batch_normalization_34 (BatchNo (None, None, None, 2 1024        conv2d_34[0][0]                  \n",
            "__________________________________________________________________________________________________\n",
            "leaky_re_lu_34 (LeakyReLU)      (None, None, None, 2 0           batch_normalization_34[0][0]     \n",
            "__________________________________________________________________________________________________\n",
            "conv2d_35 (Conv2D)              (None, None, None, 5 1179648     leaky_re_lu_34[0][0]             \n",
            "__________________________________________________________________________________________________\n",
            "batch_normalization_35 (BatchNo (None, None, None, 5 2048        conv2d_35[0][0]                  \n",
            "__________________________________________________________________________________________________\n",
            "leaky_re_lu_35 (LeakyReLU)      (None, None, None, 5 0           batch_normalization_35[0][0]     \n",
            "__________________________________________________________________________________________________\n",
            "add_15 (Add)                    (None, None, None, 5 0           add_14[0][0]                     \n",
            "                                                                 leaky_re_lu_35[0][0]             \n",
            "__________________________________________________________________________________________________\n",
            "conv2d_36 (Conv2D)              (None, None, None, 2 131072      add_15[0][0]                     \n",
            "__________________________________________________________________________________________________\n",
            "batch_normalization_36 (BatchNo (None, None, None, 2 1024        conv2d_36[0][0]                  \n",
            "__________________________________________________________________________________________________\n",
            "leaky_re_lu_36 (LeakyReLU)      (None, None, None, 2 0           batch_normalization_36[0][0]     \n",
            "__________________________________________________________________________________________________\n",
            "conv2d_37 (Conv2D)              (None, None, None, 5 1179648     leaky_re_lu_36[0][0]             \n",
            "__________________________________________________________________________________________________\n",
            "batch_normalization_37 (BatchNo (None, None, None, 5 2048        conv2d_37[0][0]                  \n",
            "__________________________________________________________________________________________________\n",
            "leaky_re_lu_37 (LeakyReLU)      (None, None, None, 5 0           batch_normalization_37[0][0]     \n",
            "__________________________________________________________________________________________________\n",
            "add_16 (Add)                    (None, None, None, 5 0           add_15[0][0]                     \n",
            "                                                                 leaky_re_lu_37[0][0]             \n",
            "__________________________________________________________________________________________________\n",
            "conv2d_38 (Conv2D)              (None, None, None, 2 131072      add_16[0][0]                     \n",
            "__________________________________________________________________________________________________\n",
            "batch_normalization_38 (BatchNo (None, None, None, 2 1024        conv2d_38[0][0]                  \n",
            "__________________________________________________________________________________________________\n",
            "leaky_re_lu_38 (LeakyReLU)      (None, None, None, 2 0           batch_normalization_38[0][0]     \n",
            "__________________________________________________________________________________________________\n",
            "conv2d_39 (Conv2D)              (None, None, None, 5 1179648     leaky_re_lu_38[0][0]             \n",
            "__________________________________________________________________________________________________\n",
            "batch_normalization_39 (BatchNo (None, None, None, 5 2048        conv2d_39[0][0]                  \n",
            "__________________________________________________________________________________________________\n",
            "leaky_re_lu_39 (LeakyReLU)      (None, None, None, 5 0           batch_normalization_39[0][0]     \n",
            "__________________________________________________________________________________________________\n",
            "add_17 (Add)                    (None, None, None, 5 0           add_16[0][0]                     \n",
            "                                                                 leaky_re_lu_39[0][0]             \n",
            "__________________________________________________________________________________________________\n",
            "conv2d_40 (Conv2D)              (None, None, None, 2 131072      add_17[0][0]                     \n",
            "__________________________________________________________________________________________________\n",
            "batch_normalization_40 (BatchNo (None, None, None, 2 1024        conv2d_40[0][0]                  \n",
            "__________________________________________________________________________________________________\n",
            "leaky_re_lu_40 (LeakyReLU)      (None, None, None, 2 0           batch_normalization_40[0][0]     \n",
            "__________________________________________________________________________________________________\n",
            "conv2d_41 (Conv2D)              (None, None, None, 5 1179648     leaky_re_lu_40[0][0]             \n",
            "__________________________________________________________________________________________________\n",
            "batch_normalization_41 (BatchNo (None, None, None, 5 2048        conv2d_41[0][0]                  \n",
            "__________________________________________________________________________________________________\n",
            "leaky_re_lu_41 (LeakyReLU)      (None, None, None, 5 0           batch_normalization_41[0][0]     \n",
            "__________________________________________________________________________________________________\n",
            "add_18 (Add)                    (None, None, None, 5 0           add_17[0][0]                     \n",
            "                                                                 leaky_re_lu_41[0][0]             \n",
            "__________________________________________________________________________________________________\n",
            "conv2d_42 (Conv2D)              (None, None, None, 2 131072      add_18[0][0]                     \n",
            "__________________________________________________________________________________________________\n",
            "batch_normalization_42 (BatchNo (None, None, None, 2 1024        conv2d_42[0][0]                  \n",
            "__________________________________________________________________________________________________\n",
            "leaky_re_lu_42 (LeakyReLU)      (None, None, None, 2 0           batch_normalization_42[0][0]     \n",
            "__________________________________________________________________________________________________\n",
            "conv2d_43 (Conv2D)              (None, None, None, 5 1179648     leaky_re_lu_42[0][0]             \n",
            "__________________________________________________________________________________________________\n",
            "batch_normalization_43 (BatchNo (None, None, None, 5 2048        conv2d_43[0][0]                  \n",
            "__________________________________________________________________________________________________\n",
            "leaky_re_lu_43 (LeakyReLU)      (None, None, None, 5 0           batch_normalization_43[0][0]     \n",
            "__________________________________________________________________________________________________\n",
            "add_19 (Add)                    (None, None, None, 5 0           add_18[0][0]                     \n",
            "                                                                 leaky_re_lu_43[0][0]             \n",
            "__________________________________________________________________________________________________\n",
            "zero_padding2d_5 (ZeroPadding2D (None, None, None, 5 0           add_19[0][0]                     \n",
            "__________________________________________________________________________________________________\n",
            "conv2d_44 (Conv2D)              (None, None, None, 1 4718592     zero_padding2d_5[0][0]           \n",
            "__________________________________________________________________________________________________\n",
            "batch_normalization_44 (BatchNo (None, None, None, 1 4096        conv2d_44[0][0]                  \n",
            "__________________________________________________________________________________________________\n",
            "leaky_re_lu_44 (LeakyReLU)      (None, None, None, 1 0           batch_normalization_44[0][0]     \n",
            "__________________________________________________________________________________________________\n",
            "conv2d_45 (Conv2D)              (None, None, None, 5 524288      leaky_re_lu_44[0][0]             \n",
            "__________________________________________________________________________________________________\n",
            "batch_normalization_45 (BatchNo (None, None, None, 5 2048        conv2d_45[0][0]                  \n",
            "__________________________________________________________________________________________________\n",
            "leaky_re_lu_45 (LeakyReLU)      (None, None, None, 5 0           batch_normalization_45[0][0]     \n",
            "__________________________________________________________________________________________________\n",
            "conv2d_46 (Conv2D)              (None, None, None, 1 4718592     leaky_re_lu_45[0][0]             \n",
            "__________________________________________________________________________________________________\n",
            "batch_normalization_46 (BatchNo (None, None, None, 1 4096        conv2d_46[0][0]                  \n",
            "__________________________________________________________________________________________________\n",
            "leaky_re_lu_46 (LeakyReLU)      (None, None, None, 1 0           batch_normalization_46[0][0]     \n",
            "__________________________________________________________________________________________________\n",
            "add_20 (Add)                    (None, None, None, 1 0           leaky_re_lu_44[0][0]             \n",
            "                                                                 leaky_re_lu_46[0][0]             \n",
            "__________________________________________________________________________________________________\n",
            "conv2d_47 (Conv2D)              (None, None, None, 5 524288      add_20[0][0]                     \n",
            "__________________________________________________________________________________________________\n",
            "batch_normalization_47 (BatchNo (None, None, None, 5 2048        conv2d_47[0][0]                  \n",
            "__________________________________________________________________________________________________\n",
            "leaky_re_lu_47 (LeakyReLU)      (None, None, None, 5 0           batch_normalization_47[0][0]     \n",
            "__________________________________________________________________________________________________\n",
            "conv2d_48 (Conv2D)              (None, None, None, 1 4718592     leaky_re_lu_47[0][0]             \n",
            "__________________________________________________________________________________________________\n",
            "batch_normalization_48 (BatchNo (None, None, None, 1 4096        conv2d_48[0][0]                  \n",
            "__________________________________________________________________________________________________\n",
            "leaky_re_lu_48 (LeakyReLU)      (None, None, None, 1 0           batch_normalization_48[0][0]     \n",
            "__________________________________________________________________________________________________\n",
            "add_21 (Add)                    (None, None, None, 1 0           add_20[0][0]                     \n",
            "                                                                 leaky_re_lu_48[0][0]             \n",
            "__________________________________________________________________________________________________\n",
            "conv2d_49 (Conv2D)              (None, None, None, 5 524288      add_21[0][0]                     \n",
            "__________________________________________________________________________________________________\n",
            "batch_normalization_49 (BatchNo (None, None, None, 5 2048        conv2d_49[0][0]                  \n",
            "__________________________________________________________________________________________________\n",
            "leaky_re_lu_49 (LeakyReLU)      (None, None, None, 5 0           batch_normalization_49[0][0]     \n",
            "__________________________________________________________________________________________________\n",
            "conv2d_50 (Conv2D)              (None, None, None, 1 4718592     leaky_re_lu_49[0][0]             \n",
            "__________________________________________________________________________________________________\n",
            "batch_normalization_50 (BatchNo (None, None, None, 1 4096        conv2d_50[0][0]                  \n",
            "__________________________________________________________________________________________________\n",
            "leaky_re_lu_50 (LeakyReLU)      (None, None, None, 1 0           batch_normalization_50[0][0]     \n",
            "__________________________________________________________________________________________________\n",
            "add_22 (Add)                    (None, None, None, 1 0           add_21[0][0]                     \n",
            "                                                                 leaky_re_lu_50[0][0]             \n",
            "__________________________________________________________________________________________________\n",
            "conv2d_51 (Conv2D)              (None, None, None, 5 524288      add_22[0][0]                     \n",
            "__________________________________________________________________________________________________\n",
            "batch_normalization_51 (BatchNo (None, None, None, 5 2048        conv2d_51[0][0]                  \n",
            "__________________________________________________________________________________________________\n",
            "leaky_re_lu_51 (LeakyReLU)      (None, None, None, 5 0           batch_normalization_51[0][0]     \n",
            "__________________________________________________________________________________________________\n",
            "conv2d_52 (Conv2D)              (None, None, None, 1 4718592     leaky_re_lu_51[0][0]             \n",
            "__________________________________________________________________________________________________\n",
            "batch_normalization_52 (BatchNo (None, None, None, 1 4096        conv2d_52[0][0]                  \n",
            "__________________________________________________________________________________________________\n",
            "leaky_re_lu_52 (LeakyReLU)      (None, None, None, 1 0           batch_normalization_52[0][0]     \n",
            "__________________________________________________________________________________________________\n",
            "add_23 (Add)                    (None, None, None, 1 0           add_22[0][0]                     \n",
            "                                                                 leaky_re_lu_52[0][0]             \n",
            "__________________________________________________________________________________________________\n",
            "conv2d_53 (Conv2D)              (None, None, None, 5 524288      add_23[0][0]                     \n",
            "__________________________________________________________________________________________________\n",
            "batch_normalization_53 (BatchNo (None, None, None, 5 2048        conv2d_53[0][0]                  \n",
            "__________________________________________________________________________________________________\n",
            "leaky_re_lu_53 (LeakyReLU)      (None, None, None, 5 0           batch_normalization_53[0][0]     \n",
            "__________________________________________________________________________________________________\n",
            "conv2d_54 (Conv2D)              (None, None, None, 1 4718592     leaky_re_lu_53[0][0]             \n",
            "__________________________________________________________________________________________________\n",
            "batch_normalization_54 (BatchNo (None, None, None, 1 4096        conv2d_54[0][0]                  \n",
            "__________________________________________________________________________________________________\n",
            "leaky_re_lu_54 (LeakyReLU)      (None, None, None, 1 0           batch_normalization_54[0][0]     \n",
            "__________________________________________________________________________________________________\n",
            "conv2d_55 (Conv2D)              (None, None, None, 5 524288      leaky_re_lu_54[0][0]             \n",
            "__________________________________________________________________________________________________\n",
            "batch_normalization_55 (BatchNo (None, None, None, 5 2048        conv2d_55[0][0]                  \n",
            "__________________________________________________________________________________________________\n",
            "leaky_re_lu_55 (LeakyReLU)      (None, None, None, 5 0           batch_normalization_55[0][0]     \n",
            "__________________________________________________________________________________________________\n",
            "conv2d_56 (Conv2D)              (None, None, None, 1 4718592     leaky_re_lu_55[0][0]             \n",
            "__________________________________________________________________________________________________\n",
            "batch_normalization_56 (BatchNo (None, None, None, 1 4096        conv2d_56[0][0]                  \n",
            "__________________________________________________________________________________________________\n",
            "leaky_re_lu_56 (LeakyReLU)      (None, None, None, 1 0           batch_normalization_56[0][0]     \n",
            "__________________________________________________________________________________________________\n",
            "conv2d_57 (Conv2D)              (None, None, None, 5 524288      leaky_re_lu_56[0][0]             \n",
            "__________________________________________________________________________________________________\n",
            "batch_normalization_57 (BatchNo (None, None, None, 5 2048        conv2d_57[0][0]                  \n",
            "__________________________________________________________________________________________________\n",
            "leaky_re_lu_57 (LeakyReLU)      (None, None, None, 5 0           batch_normalization_57[0][0]     \n",
            "__________________________________________________________________________________________________\n",
            "conv2d_60 (Conv2D)              (None, None, None, 2 131072      leaky_re_lu_57[0][0]             \n",
            "__________________________________________________________________________________________________\n",
            "batch_normalization_59 (BatchNo (None, None, None, 2 1024        conv2d_60[0][0]                  \n",
            "__________________________________________________________________________________________________\n",
            "leaky_re_lu_59 (LeakyReLU)      (None, None, None, 2 0           batch_normalization_59[0][0]     \n",
            "__________________________________________________________________________________________________\n",
            "up_sampling2d_1 (UpSampling2D)  (None, None, None, 2 0           leaky_re_lu_59[0][0]             \n",
            "__________________________________________________________________________________________________\n",
            "concatenate_1 (Concatenate)     (None, None, None, 7 0           up_sampling2d_1[0][0]            \n",
            "                                                                 add_19[0][0]                     \n",
            "__________________________________________________________________________________________________\n",
            "conv2d_61 (Conv2D)              (None, None, None, 2 196608      concatenate_1[0][0]              \n",
            "__________________________________________________________________________________________________\n",
            "batch_normalization_60 (BatchNo (None, None, None, 2 1024        conv2d_61[0][0]                  \n",
            "__________________________________________________________________________________________________\n",
            "leaky_re_lu_60 (LeakyReLU)      (None, None, None, 2 0           batch_normalization_60[0][0]     \n",
            "__________________________________________________________________________________________________\n",
            "conv2d_62 (Conv2D)              (None, None, None, 5 1179648     leaky_re_lu_60[0][0]             \n",
            "__________________________________________________________________________________________________\n",
            "batch_normalization_61 (BatchNo (None, None, None, 5 2048        conv2d_62[0][0]                  \n",
            "__________________________________________________________________________________________________\n",
            "leaky_re_lu_61 (LeakyReLU)      (None, None, None, 5 0           batch_normalization_61[0][0]     \n",
            "__________________________________________________________________________________________________\n",
            "conv2d_63 (Conv2D)              (None, None, None, 2 131072      leaky_re_lu_61[0][0]             \n",
            "__________________________________________________________________________________________________\n",
            "batch_normalization_62 (BatchNo (None, None, None, 2 1024        conv2d_63[0][0]                  \n",
            "__________________________________________________________________________________________________\n",
            "leaky_re_lu_62 (LeakyReLU)      (None, None, None, 2 0           batch_normalization_62[0][0]     \n",
            "__________________________________________________________________________________________________\n",
            "conv2d_64 (Conv2D)              (None, None, None, 5 1179648     leaky_re_lu_62[0][0]             \n",
            "__________________________________________________________________________________________________\n",
            "batch_normalization_63 (BatchNo (None, None, None, 5 2048        conv2d_64[0][0]                  \n",
            "__________________________________________________________________________________________________\n",
            "leaky_re_lu_63 (LeakyReLU)      (None, None, None, 5 0           batch_normalization_63[0][0]     \n",
            "__________________________________________________________________________________________________\n",
            "conv2d_65 (Conv2D)              (None, None, None, 2 131072      leaky_re_lu_63[0][0]             \n",
            "__________________________________________________________________________________________________\n",
            "batch_normalization_64 (BatchNo (None, None, None, 2 1024        conv2d_65[0][0]                  \n",
            "__________________________________________________________________________________________________\n",
            "leaky_re_lu_64 (LeakyReLU)      (None, None, None, 2 0           batch_normalization_64[0][0]     \n",
            "__________________________________________________________________________________________________\n",
            "conv2d_68 (Conv2D)              (None, None, None, 1 32768       leaky_re_lu_64[0][0]             \n",
            "__________________________________________________________________________________________________\n",
            "batch_normalization_66 (BatchNo (None, None, None, 1 512         conv2d_68[0][0]                  \n",
            "__________________________________________________________________________________________________\n",
            "leaky_re_lu_66 (LeakyReLU)      (None, None, None, 1 0           batch_normalization_66[0][0]     \n",
            "__________________________________________________________________________________________________\n",
            "up_sampling2d_2 (UpSampling2D)  (None, None, None, 1 0           leaky_re_lu_66[0][0]             \n",
            "__________________________________________________________________________________________________\n",
            "concatenate_2 (Concatenate)     (None, None, None, 3 0           up_sampling2d_2[0][0]            \n",
            "                                                                 add_11[0][0]                     \n",
            "__________________________________________________________________________________________________\n",
            "conv2d_69 (Conv2D)              (None, None, None, 1 49152       concatenate_2[0][0]              \n",
            "__________________________________________________________________________________________________\n",
            "batch_normalization_67 (BatchNo (None, None, None, 1 512         conv2d_69[0][0]                  \n",
            "__________________________________________________________________________________________________\n",
            "leaky_re_lu_67 (LeakyReLU)      (None, None, None, 1 0           batch_normalization_67[0][0]     \n",
            "__________________________________________________________________________________________________\n",
            "conv2d_70 (Conv2D)              (None, None, None, 2 294912      leaky_re_lu_67[0][0]             \n",
            "__________________________________________________________________________________________________\n",
            "batch_normalization_68 (BatchNo (None, None, None, 2 1024        conv2d_70[0][0]                  \n",
            "__________________________________________________________________________________________________\n",
            "leaky_re_lu_68 (LeakyReLU)      (None, None, None, 2 0           batch_normalization_68[0][0]     \n",
            "__________________________________________________________________________________________________\n",
            "conv2d_71 (Conv2D)              (None, None, None, 1 32768       leaky_re_lu_68[0][0]             \n",
            "__________________________________________________________________________________________________\n",
            "batch_normalization_69 (BatchNo (None, None, None, 1 512         conv2d_71[0][0]                  \n",
            "__________________________________________________________________________________________________\n",
            "leaky_re_lu_69 (LeakyReLU)      (None, None, None, 1 0           batch_normalization_69[0][0]     \n",
            "__________________________________________________________________________________________________\n",
            "conv2d_72 (Conv2D)              (None, None, None, 2 294912      leaky_re_lu_69[0][0]             \n",
            "__________________________________________________________________________________________________\n",
            "batch_normalization_70 (BatchNo (None, None, None, 2 1024        conv2d_72[0][0]                  \n",
            "__________________________________________________________________________________________________\n",
            "leaky_re_lu_70 (LeakyReLU)      (None, None, None, 2 0           batch_normalization_70[0][0]     \n",
            "__________________________________________________________________________________________________\n",
            "conv2d_73 (Conv2D)              (None, None, None, 1 32768       leaky_re_lu_70[0][0]             \n",
            "__________________________________________________________________________________________________\n",
            "batch_normalization_71 (BatchNo (None, None, None, 1 512         conv2d_73[0][0]                  \n",
            "__________________________________________________________________________________________________\n",
            "leaky_re_lu_71 (LeakyReLU)      (None, None, None, 1 0           batch_normalization_71[0][0]     \n",
            "__________________________________________________________________________________________________\n",
            "conv2d_58 (Conv2D)              (None, None, None, 1 4718592     leaky_re_lu_57[0][0]             \n",
            "__________________________________________________________________________________________________\n",
            "conv2d_66 (Conv2D)              (None, None, None, 5 1179648     leaky_re_lu_64[0][0]             \n",
            "__________________________________________________________________________________________________\n",
            "conv2d_74 (Conv2D)              (None, None, None, 2 294912      leaky_re_lu_71[0][0]             \n",
            "__________________________________________________________________________________________________\n",
            "batch_normalization_58 (BatchNo (None, None, None, 1 4096        conv2d_58[0][0]                  \n",
            "__________________________________________________________________________________________________\n",
            "batch_normalization_65 (BatchNo (None, None, None, 5 2048        conv2d_66[0][0]                  \n",
            "__________________________________________________________________________________________________\n",
            "batch_normalization_72 (BatchNo (None, None, None, 2 1024        conv2d_74[0][0]                  \n",
            "__________________________________________________________________________________________________\n",
            "leaky_re_lu_58 (LeakyReLU)      (None, None, None, 1 0           batch_normalization_58[0][0]     \n",
            "__________________________________________________________________________________________________\n",
            "leaky_re_lu_65 (LeakyReLU)      (None, None, None, 5 0           batch_normalization_65[0][0]     \n",
            "__________________________________________________________________________________________________\n",
            "leaky_re_lu_72 (LeakyReLU)      (None, None, None, 2 0           batch_normalization_72[0][0]     \n",
            "__________________________________________________________________________________________________\n",
            "conv2d_59 (Conv2D)              (None, None, None, 2 261375      leaky_re_lu_58[0][0]             \n",
            "__________________________________________________________________________________________________\n",
            "conv2d_67 (Conv2D)              (None, None, None, 2 130815      leaky_re_lu_65[0][0]             \n",
            "__________________________________________________________________________________________________\n",
            "conv2d_75 (Conv2D)              (None, None, None, 2 65535       leaky_re_lu_72[0][0]             \n",
            "==================================================================================================\n",
            "Total params: 62,001,757\n",
            "Trainable params: 61,949,149\n",
            "Non-trainable params: 52,608\n",
            "__________________________________________________________________________________________________\n",
            "None\n",
            "Saved Keras model to model_data/yolo.h5\n",
            "Read 62001757 of 62001757.0 from Darknet weights.\n",
            "Saved model plot to model_data/yolo.png\n"
          ],
          "name": "stdout"
        }
      ]
    },
    {
      "metadata": {
        "id": "nIryVJfTYoxS",
        "colab_type": "code",
        "outputId": "9cc9bd7a-29c8-4214-f624-e21e6c02e64d",
        "colab": {
          "base_uri": "https://localhost:8080/",
          "height": 131
        }
      },
      "cell_type": "code",
      "source": [
        "# mounting google drive to colab to get the training data\n",
        "from google.colab import drive\n",
        "drive.mount('/content/drive')"
      ],
      "execution_count": 0,
      "outputs": [
        {
          "output_type": "stream",
          "text": [
            "Go to this URL in a browser: https://accounts.google.com/o/oauth2/auth?client_id=947318989803-6bn6qk8qdgf4n4g3pfee6491hc0brc4i.apps.googleusercontent.com&redirect_uri=urn%3Aietf%3Awg%3Aoauth%3A2.0%3Aoob&scope=email%20https%3A%2F%2Fwww.googleapis.com%2Fauth%2Fdocs.test%20https%3A%2F%2Fwww.googleapis.com%2Fauth%2Fdrive%20https%3A%2F%2Fwww.googleapis.com%2Fauth%2Fdrive.photos.readonly%20https%3A%2F%2Fwww.googleapis.com%2Fauth%2Fpeopleapi.readonly&response_type=code\n",
            "\n",
            "Enter your authorization code:\n",
            "··········\n",
            "Mounted at /content/drive\n"
          ],
          "name": "stdout"
        }
      ]
    },
    {
      "metadata": {
        "id": "rhiaSCEDpAxi",
        "colab_type": "code",
        "colab": {}
      },
      "cell_type": "code",
      "source": [
        "%cp -r 'drive/My Drive/JPEGImages' 'JPEGImages'"
      ],
      "execution_count": 0,
      "outputs": []
    },
    {
      "metadata": {
        "id": "TaoY96usuW_q",
        "colab_type": "code",
        "outputId": "0eaed6d1-cd22-4ca3-d5c8-4e5816ec5492",
        "colab": {
          "base_uri": "https://localhost:8080/",
          "height": 36
        }
      },
      "cell_type": "code",
      "source": [
        "!ls"
      ],
      "execution_count": 0,
      "outputs": [
        {
          "output_type": "stream",
          "text": [
            "drive  JPEGImages  model_data  sample_data  yolov3.cfg\tyolov3.weights\n"
          ],
          "name": "stdout"
        }
      ]
    },
    {
      "metadata": {
        "id": "V8g2_FwIwJ1u",
        "colab_type": "code",
        "outputId": "5f84e3f9-efcb-49fa-9708-09e78dec6fe9",
        "colab": {
          "resources": {
            "http://localhost:8080/nbextensions/google.colab/files.js": {
              "data": "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",
              "ok": true,
              "headers": [
                [
                  "content-type",
                  "application/javascript"
                ]
              ],
              "status": 200,
              "status_text": "OK"
            }
          },
          "base_uri": "https://localhost:8080/",
          "height": 116
        }
      },
      "cell_type": "code",
      "source": [
        "# uploading annotations file\n",
        "files.upload()"
      ],
      "execution_count": 0,
      "outputs": [
        {
          "output_type": "display_data",
          "data": {
            "text/html": [
              "\n",
              "     <input type=\"file\" id=\"files-c9e7994b-dd3e-4576-a27e-a8029abe453f\" name=\"files[]\" multiple disabled />\n",
              "     <output id=\"result-c9e7994b-dd3e-4576-a27e-a8029abe453f\">\n",
              "      Upload widget is only available when the cell has been executed in the\n",
              "      current browser session. Please rerun this cell to enable.\n",
              "      </output>\n",
              "      <script src=\"/nbextensions/google.colab/files.js\"></script> "
            ],
            "text/plain": [
              "<IPython.core.display.HTML object>"
            ]
          },
          "metadata": {
            "tags": []
          }
        },
        {
          "output_type": "stream",
          "text": [
            "Saving annotations.txt to annotations.txt\n"
          ],
          "name": "stdout"
        },
        {
          "output_type": "execute_result",
          "data": {
            "text/plain": [
              "{'annotations.txt': b'JPEGImages/00001bcc92282a38.jpg 0.0,275.212288,190.5996875,199.03999999999996,0\\r\\nJPEGImages/000023aa04ab09ed.jpg 0.0,134.892544,328.995636,427.96031999999997,0\\r\\nJPEGImages/000134de87dd044b.jpg 0.0,65.801216,32.2290625,90.24,0 0.0,61.4784,170.31,108.16000000000003,0 0.0,423.624704,452.2740625,80.0,0\\r\\nJPEGImages/000234a17c124f75.jpg 0.0,332.72832000000005,269.35812500000003,81.92000000000002,0\\r\\nJPEGImages/00032b7066444e75.jpg 0.0,119.36,306.172508,258.94297600000004,0 0.0,124.47999999999999,386.2068,106.83699200000001,0 0.0,126.4,503.04042799999996,146.67366400000003,0\\r\\nJPEGImages/0003d1891fd14575.jpg 0.0,233.68704000000002,133.611875,44.80000000000001,0 0.0,227.92857600000002,191.31,64.63999999999999,0 0.0,275.913728,253.99062499999997,51.19999999999999,0 0.0,278.79321600000003,468.36875000000003,39.67999999999995,0 0.0,191.68696400000002,845.12,40.27250000000002,0\\r\\nJPEGImages/00052b203c5dad30.jpg 0.0,650.353664,352.171875,52.48000000000002,0\\r\\nJPEGImages/0005b2913ba46ddf.jpg 0.0,125.89312,253.10648149999997,146.101248,0 0.0,255.47315199999997,273.212352,206.86848000000003,0 0.0,152.757248,338.481823,169.373696,0 0.0,203.32544000000001,402.177885,139.63673599999993,0 0.0,156.04734,857.211904,84.10128800000007,0\\r\\nJPEGImages/00084f5fbd30c301.jpg 0.0,127.36,337.969573,156.87270399999994,0\\r\\nJPEGImages/000d13275f39a218.jpg 0.0,161.066496,265.9967405,314.39974400000006,0\\r\\nJPEGImages/0011e0ca58b4f607.jpg 0.0,105.185792,453.5546875,123.51999999999998,0\\r\\nJPEGImages/0013356a9d5d526a.jpg 0.0,496.630272,463.3728125,173.44000000000005,0 0.0,369.35116800000003,241.29,179.84000000000003,0\\r\\nJPEGImages/00176a1c73bce58a.jpg 0.0,167.624704,102.66343750000001,31.359999999999985,0 0.0,205.088256,300.92999999999995,77.44,0 0.0,178.19136,323.144375,52.48000000000002,0 0.0,128.720384,334.5796875,36.47999999999996,0 0.0,138.55151800000002,859.8399999999999,13.122500000000041,0 0.0,197.883392,657.814375,74.24000000000001,0\\r\\nJPEGImages/00199c7928d10f37.jpg 0.0,521.570304,183.3428125,35.200000000000045,0 0.0,415.820288,232.89,39.039999999999964,0 0.0,363.66336,240.1171875,28.799999999999955,0 0.0,392.374272,281.9203125,37.75999999999999,0 0.0,235.130584,962.56,26.245000000000005,0\\r\\nJPEGImages/001a7118d6df8b18.jpg 0.0,217.02246399999999,23.478125000000002,70.4,0 0.0,263.218176,44.940000000000005,51.199999999999996,0 0.0,161.68448,125.2878125,140.16000000000003,0 0.0,140.511232,487.63437500000003,153.60000000000002,0\\r\\nJPEGImages/001c8217521cf174.jpg 0.0,495.644672,132.33125,33.59948800000001,0 0.0,487.11065599999995,135.712416,34.40025600000001,0 0.0,342.75532799999996,149.40625,15.998976000000027,0 0.0,430.93350399999997,157.068445,29.599743999999987,0 0.0,298.14718200000004,244.000256,11.3125,0 0.0,372.622336,310.0181395,16.0,0 0.0,374.044672,381.375,16.0,0 0.0,276.84171299999997,578.400256,10.424999999999963,0 0.0,231.2563635,636.400128,9.044361000000066,0 0.0,379.73299199999997,492.90009599999996,15.200255999999968,0 0.0,412.44416,455.95611549999995,24.80025599999999,0\\r\\nJPEGImages/001e438a8dbf3a0b.jpg 0.0,189.35756800000001,130.76035000000002,118.00780799999998,0 0.0,256.45926399999996,239.19705600000003,157.97862400000002,0 0.0,138.801152,325.63117800000003,81.844224,0 0.0,174.65036800000001,388.97314,47.58323199999995,0 0.0,130.63168199999998,640.475648,68.63157999999997,0\\r\\nJPEGImages/001ede9564370173.jpg 0.0,566.6135039999999,132.33125,222.71999999999997,0 0.0,515.413504,495.17999999999995,256.0,0\\r\\nJPEGImages/002107c2cdc1b568.jpg 0.0,256.960512,332.535625,492.80000000000007,0\\r\\nJPEGImages/0023b527935101d5.jpg 0.0,311.03999999999996,414.3532195,150.1870080000001,0\\r\\nJPEGImages/00250a721cc28ceb.jpg 0.0,166.66368,529.1115625,154.24,0\\r\\nJPEGImages/0026ee2e98601bf4.jpg 0.0,177.91897600000001,400.83562500000005,83.19999999999993,0\\r\\nJPEGImages/0027e498c43c0a08.jpg 0.0,112.390656,75.98374999999999,14.079999999999998,0 0.0,196.92339199999998,77.07,21.120000000000005,0 0.0,145.53088,180.568125,12.800000000000011,0 0.0,248.795648,259.44374999999997,224.0,0 0.0,50.938106000000005,511.36,8.144999999999987,0 0.0,96.540672,406.59843749999993,19.840000000000032,0 0.0,42.266112,439.425,10.879999999999995,0 0.0,39.900645000000004,655.04,8.861249999999997,0 0.0,71.86933499999999,685.76,11.491874999999983,0 0.0,44.187647999999996,541.2,59.51999999999998,0\\r\\nJPEGImages/002a76b153f80cde.jpg 0.0,507.733504,315.6740625,375.68,0\\r\\nJPEGImages/002b5c7c3d515497.jpg 0.0,370.346496,221.975,637.4399999999999,0\\r\\nJPEGImages/002fbe3379025cf1.jpg 0.0,373.135872,246.70096600000002,89.62457599999999,0\\r\\nJPEGImages/00340f77969ab17d.jpg 0.0,91.25734399999999,181.84875,93.44000000000003,0 0.0,189.718528,380.31,78.72000000000003,0 0.0,52.352512,386.1084375000001,74.88,0 0.0,286.258688,590.1703125,81.27999999999997,0\\r\\nJPEGImages/003446d9ec0a27c2.jpg 0.0,126.72,417.910625,111.36000000000001,0\\r\\nJPEGImages/003714087b37acb1.jpg 0.0,177.92000000000002,79.4482675,238.22848,0 0.0,231.36,143.729712,165.22342400000002,0 0.0,144.64000000000001,166.2650805,146.97164800000002,0 0.0,147.2,214.3032775,58.596352000000024,0 0.0,88.01124999999999,330.927104,33.27938400000001,0 0.0,121.92,276.787799,94.13836799999996,0 0.0,221.44,363.03947999999997,196.922368,0\\r\\nJPEGImages/003b31ce41ec64d1.jpg 0.0,302.44096,177.23850000000002,158.72000000000003,0\\r\\nJPEGImages/003b981d73f46089.jpg 0.0,273.646592,439.8946875,105.60000000000002,0 0.0,576.78592,552.3,110.08000000000004,0\\r\\nJPEGImages/003fed1cc0200df4.jpg 0.0,107.851776,101.1410305,303.275008,0 0.0,298.666496,505.756272,328.2503680000001,0\\r\\nJPEGImages/0040b6af697eaf8c.jpg 0.0,538.027008,359.855625,565.76,0\\r\\nJPEGImages/0042797259787e2b.jpg 0.0,134.184448,338.845179,120.41215999999997,0\\r\\nJPEGImages/00429c3023e8d162.jpg 0.0,241.110528,250.7890625,140.15999999999997,0 0.0,326.604288,393.75,161.92000000000007,0\\r\\nJPEGImages/0043cd511f54d02d.jpg 0.0,463.36,381.090095,425.31430400000005,0\\r\\nJPEGImages/004416aba85cd696.jpg 0.0,298.13248,169.4608375,215.763968,0 0.0,325.609984,330.00408000000004,179.21740800000003,0\\r\\nJPEGImages/0048235182f8dd64.jpg 0.0,600.380928,180.70028549999998,331.785216,0 0.0,328.126976,459.74846399999996,150.377472,0\\r\\nJPEGImages/0048708215b814fc.jpg 0.0,175.309824,362.20343749999995,127.36000000000001,0\\r\\nJPEGImages/004902a06ce00c5b.jpg 0.0,549.599232,129.5565625,105.6,0\\r\\nJPEGImages/004b7bfd0251121a.jpg 0.0,264.13312,299.99818799999997,159.99999999999994,0 0.0,251.74016,500.49988800000006,349.62944000000005,0\\r\\nJPEGImages/004e577cc9008eef.jpg 0.0,121.49964800000001,337.29545199999995,254.94937599999997,0\\r\\nJPEGImages/004ed0f30ff6c86e.jpg 0.0,344.446976,128.2759375,77.44,0 0.0,461.79225599999995,293.79,83.84000000000003,0 0.0,234.10688,453.76812499999994,84.4799999999999,0\\r\\nJPEGImages/004f09aac4ef56d2.jpg 0.0,179.32032,161.5721875,141.43999999999997,0\\r\\nJPEGImages/0050b2415cedc6bf.jpg 0.0,265.142784,124.6475,373.76,0 0.0,425.383424,575.19,293.76,0\\r\\nJPEGImages/00523876602f6c40.jpg 0.0,302.648832,178.86062499999997,162.56,0\\r\\nJPEGImages/005287bd7fc26076.jpg 0.0,152.823296,7.0434375000000005,21.12,0 0.0,215.852032,60.48,39.68000000000001,0 0.0,164.911104,201.485,29.439999999999998,0 0.0,272.836096,215.775,38.39999999999998,0 0.0,135.521216,353.28,31.675000000000008,0 0.0,228.80256,267.22375,44.80000000000001,0 0.0,253.841408,324.90000000000003,39.68000000000001,0 0.0,86.49414,475.2,25.541250000000012,0 0.0,125.175291,507.52,27.239999999999988,0 0.0,151.09632,394.32,22.40000000000009,0 0.0,443.790848,396.7803125,136.31999999999994,0 0.0,166.637056,406.5984375,17.279999999999973,0\\r\\nJPEGImages/0054166bf8b6107a.jpg 0.0,317.44,114.72282700000001,75.200512,0 0.0,282.88,173.25,54.39999999999998,0 0.0,299.52,295.0775145,65.60051199999998,0 0.0,248.32,550.140625,73.60102400000005,0\\r\\nJPEGImages/0055eef5f89aa3cc.jpg 0.0,192.71116800000001,372.181726,125.59974399999993,0\\r\\nJPEGImages/0058763f8880e915.jpg 0.0,674.646528,64.03125,76.80000000000001,0 0.0,644.811776,208.32,46.08000000000004,0 0.0,665.9850240000001,276.615,28.160000000000025,0 0.0,651.548672,300.11562499999997,21.75999999999999,0 0.0,468.15034599999996,478.72,12.67000000000001,0 0.0,660.210688,332.535625,16.639999999999986,0 0.0,593.804288,675.0,110.07999999999993,0\\r\\nJPEGImages/0059c42b78d98aa9.jpg 0.0,492.25216,328.05343750000003,625.28,0\\r\\nJPEGImages/0059df9ab60c150c.jpg 0.0,506.88,293.204387,620.398592,0\\r\\nJPEGImages/005b83be122efcd3.jpg 0.0,165.333504,288.140625,131.99974399999996,0\\r\\nJPEGImages/005ce2370f87da96.jpg 0.0,321.91999999999996,336.187626,577.9906560000001,0\\r\\nJPEGImages/005d2408165f2cac.jpg 0.0,236.85939199999999,316.5278125,106.88,0\\r\\nJPEGImages/005d8f74d402eadc.jpg 0.0,383.14700799999997,209.16875000000002,221.44,0\\r\\nJPEGImages/005e482f13996811.jpg 0.0,93.2224,333.1759375,146.55999999999995,0 0.0,198.037504,387.03,183.68,0\\r\\nJPEGImages/0060342720bc034d.jpg 0.0,184.96,83.507678,157.59974400000002,0 0.0,61.76,192.41275199999998,135.19974399999998,0 0.0,111.36,393.258423,64.0,0 0.0,192.64,461.83967250000006,169.60000000000002,0 0.0,61.087500000000006,888.000512,135.75,0\\r\\nJPEGImages/0060fa461e2f119e.jpg 0.0,196.48000000000002,44.8290465,19.692543999999998,0 0.0,318.08000000000004,110.40791999999999,50.514943999999986,0 0.0,218.88,648.7359389999999,29.11027200000001,0\\r\\nJPEGImages/00616ae2135bc076.jpg 0.0,377.9456,128.2759375,119.68,0 0.0,91.675648,406.35,90.24000000000001,0\\r\\nJPEGImages/00619b41a1f45eb7.jpg 0.0,126.4,311.59450350000003,305.656832,0 0.0,702.4000000000001,352.451904,370.259968,0\\r\\nJPEGImages/0063ecee43b3cc31.jpg 0.0,307.999744,286.00625,684.8000000000001,0\\r\\nJPEGImages/0064a1e677af01b6.jpg 0.0,678.4000000000001,67.44625,148.48000000000002,0 0.0,111.36,157.71,136.32000000000002,0 0.0,335.36,382.2665625,122.24000000000001,0 0.0,81.493504,434.975,124.16000000000008,0\\r\\nJPEGImages/00669cf16771af48.jpg 0.0,408.32000000000005,575.4787249999999,104.90265599999998,0\\r\\nJPEGImages/006c2bd42fda3598.jpg 0.0,118.72,490.69281250000006,151.67999999999995,0\\r\\nJPEGImages/006ec8a6697247b0.jpg 0.0,262.24384,386.96218749999997,164.47999999999996,0\\r\\nJPEGImages/006fd953d2fb5221.jpg 0.0,266.88,473.392081,626.583552,0\\r\\nJPEGImages/0071b940699b4090.jpg 0.0,606.8736,317.0735295,73.24364800000001,0\\r\\nJPEGImages/0071df96e9e0b12e.jpg 0.0,379.70585600000004,321.01,208.64000000000004,0\\r\\nJPEGImages/0072bb137bbe4711.jpg 0.0,103.525376,20.1194725,60.32896,0 0.0,263.31392,322.45584,141.295616,0 0.0,150.223872,347.853266,131.77036800000002,0 0.0,268.940288,465.1626075,133.35859200000004,0 0.0,79.16252200000001,728.707072,56.12448000000003,0\\r\\nJPEGImages/0072e2880b5f54c9.jpg 0.0,245.220864,359.855625,151.03999999999996,0\\r\\nJPEGImages/007abde95ba33515.jpg 0.0,497.32454399999995,371.808125,272.64,0\\r\\nJPEGImages/007d47ee756f0826.jpg 0.0,167.625216,109.4934375,62.079999999999984,0 0.0,159.940096,304.5,60.15999999999997,0 0.0,371.272192,399.128125,93.44000000000005,0 0.0,679.144448,445.678125,78.07999999999993,0\\r\\nJPEGImages/008258ec756ce09f.jpg 0.0,95.285248,88.201937,67.81542400000001,0 0.0,69.875712,267.575952,113.589248,0 0.0,260.44672,347.719398,171.23123199999998,0 0.0,45.73696,347.0364125,71.20588799999996,0 0.0,28.744248000000002,576.4239359999999,59.934168000000014,0 0.0,63.523328,452.3177745,98.33164800000009,0 0.0,60.982783999999995,695.56284,66.11865599999999,0\\r\\nJPEGImages/00833e9cc37bc454.jpg 0.0,514.985472,156.1143345,201.874432,0\\r\\nJPEGImages/008385b4f0eba67f.jpg 0.0,463.87968,482.79562500000003,140.79999999999995,0 0.0,286.31552,477.12,115.19999999999993,0 0.0,337.323008,537.8625000000001,58.879999999999995,0 0.0,391.699456,558.4890625,76.16000000000008,0 0.0,267.757282,911.6800000000001,47.51249999999995,0\\r\\nJPEGImages/008a1b4b3f67689a.jpg 0.0,873.200128,368.82000000000005,215.04000000000002,0\\r\\nJPEGImages/008a4f71f7f25a5f.jpg 0.0,350.13888000000003,621.103125,122.88,0 0.0,390.003712,185.22,58.879999999999995,0 0.0,379.91731200000004,254.2040625,68.48000000000002,0 0.0,401.05062399999997,299.6875,70.39999999999998,0 0.0,287.969914,573.4399999999999,97.73999999999997,0 0.0,401.53088,486.6375,98.55999999999995,0\\r\\nJPEGImages/008b197c3a84c731.jpg 0.0,307.52,334.77279150000004,344.85555200000005,0 0.0,517.12,538.0415039999999,133.523456,0\\r\\nJPEGImages/008b6fe4101cbd99.jpg 0.0,128.240128,504.13937500000003,256.0,0\\r\\nJPEGImages/008d12bb171b1f25.jpg 0.0,243.441664,265.7296875,115.83999999999997,0\\r\\nJPEGImages/008df208f11f4555.jpg 0.0,202.235392,301.116942,97.39878399999998,0\\r\\nJPEGImages/00907d67b139f102.jpg 0.0,231.73376000000002,358.7631665,218.33830399999994,0\\r\\nJPEGImages/0099f7e3b6bc61ef.jpg 0.0,247.466496,425.736439,286.72,0\\r\\nJPEGImages/009be918642ea295.jpg 0.0,320.646144,507.12749999999994,259.84000000000003,0\\r\\nJPEGImages/00a39efceddac9fe.jpg 0.0,177.710592,214.50468750000002,314.24,0 0.0,238.709248,486.57000000000005,68.4799999999999,0 0.0,451.96236799999997,669.34,39.680000000000064,0\\r\\nJPEGImages/00a610fa187f6cdd.jpg 0.0,583.0000640000001,22.000113,65.968128,0 0.0,559.499776,129.87408,251.87737599999997,0 0.0,621.499904,240.000053,140.93107199999997,0 0.0,627.5000319999999,345.5088625,199.40249599999999,0 0.0,440.834188,665.675264,103.88313999999998,0\\r\\nJPEGImages/00ae560f0da59645.jpg 0.0,289.140736,351.318125,348.15999999999997,0\\r\\nJPEGImages/00b356202d60a3b9.jpg 0.0,99.84,108.14178050000001,85.332992,0 0.0,229.12,288.39988800000003,172.37299200000007,0 0.0,225.28,375.081061,97.27999999999997,0\\r\\nJPEGImages/00b644f5288d2c19.jpg 0.0,165.689344,12.80625,38.4,0 0.0,126.193664,34.02,65.28,0 0.0,221.080064,95.40656249999999,95.36,0 0.0,257.20422399999995,315.09999999999997,84.47999999999996,0 0.0,295.934276,713.9200000000001,58.372500000000045,0 0.0,141.12512,483.8628125,67.19999999999993,0 0.0,144.49664,589.725,78.72000000000003,0\\r\\nJPEGImages/00bde08ac2018ec9.jpg 0.0,286.4,301.4929335,391.558144,0\\r\\nJPEGImages/00c0818404bfb324.jpg 0.0,358.40000000000003,332.10875,304.64,0 0.0,343.04,431.55,135.03999999999996,0\\r\\nJPEGImages/00c0cccf7b28487d.jpg 0.0,399.786496,113.33531249999999,18.560000000000002,0 0.0,391.252992,120.11999999999999,26.879999999999995,0 0.0,378.453504,138.5209375,24.960000000000008,0 0.0,381.44,224.3375,29.439999999999998,0 0.0,240.428454,388.15999999999997,18.552499999999966,0 0.0,383.146496,313.5396875,26.24000000000001,0 0.0,380.15999999999997,350.09999999999997,42.23999999999995,0 0.0,302.67236099999997,570.56,21.371249999999915,0 0.0,268.995,695.36,25.963124999999977,0 0.0,447.572992,586.3199999999999,56.960000000000036,0 0.0,403.2,530.17875,56.319999999999936,0 0.0,412.15999999999997,566.6765625,50.559999999999945,0 0.0,380.58700799999997,642.9981250000001,69.7600000000001,0\\r\\nJPEGImages/00c2dc9888e096bc.jpg 0.0,329.28,303.6505305,531.6270079999999,0\\r\\nJPEGImages/00c6ad52c89f5461.jpg 0.0,272.091648,340.7394795,374.023168,0\\r\\nJPEGImages/00c74e0f11d24f66.jpg 0.0,904.107008,228.80499999999998,263.68,0\\r\\nJPEGImages/00cdc661978ba620.jpg 0.0,233.343488,112.4815625,114.55999999999999,0 0.0,226.56460800000002,170.52,87.04000000000002,0 0.0,271.163904,330.6146875,127.36000000000001,0\\r\\nJPEGImages/00cde5e5b03e47dd.jpg 0.0,184.32000000000002,404.20452250000005,382.7947520000001,0\\r\\nJPEGImages/00d4d469624a5c35.jpg 0.0,528.810496,389.73687499999994,387.84000000000003,0\\r\\nJPEGImages/00d5b5460b0c2e77.jpg 0.0,287.36,368.53518899999995,197.12,0\\r\\nJPEGImages/00d96af314a5368f.jpg 0.0,597.238784,368.1796875,104.32,0\\r\\nJPEGImages/00dbac4e71c8d7d9.jpg 0.0,161.024,215.3584375,163.20000000000002,0 0.0,480.66304,418.32000000000005,156.15999999999997,0\\r\\nJPEGImages/00dbf05c29e286a2.jpg 0.0,433.711104,355.8003125,979.84,0\\r\\nJPEGImages/00dda07a78d26e60.jpg 0.0,211.835392,174.8053125,178.56,0 0.0,391.62112,363.72,179.20000000000005,0\\r\\nJPEGImages/00e5eb7fe4a2db73.jpg 0.0,427.467264,289.085214,272.873472,0\\r\\nJPEGImages/00e610dc3fb020a6.jpg 0.0,368.64,366.25875,147.62598400000002,0 0.0,247.04,444.6398879999999,196.26700799999992,0\\r\\nJPEGImages/00e680aee77c9cd1.jpg 0.0,315.484672,106.291875,62.72,0 0.0,285.62227199999995,154.14,108.79999999999998,0 0.0,284.176896,400.1953125,76.16000000000008,0 0.0,158.946304,619.7109375000001,97.91999999999996,0 0.0,190.02466,1003.52,28.055000000000046,0\\r\\nJPEGImages/00e73a6d2e013f01.jpg 0.0,211.84,404.40805650000004,325.29305600000004,0\\r\\nJPEGImages/00ecca085e2708a2.jpg 0.0,375.466496,364.12437500000004,78.08000000000004,0\\r\\nJPEGImages/00ed80da990286c8.jpg 0.0,462.28224,403.39687499999997,299.5199999999999,0\\r\\nJPEGImages/00f2f2c4adee821d.jpg 0.0,457.81299199999995,352.59875,344.31999999999994,0\\r\\nJPEGImages/00faf52058ad28b8.jpg 0.0,337.91999999999996,211.4359685,182.83417599999999,0\\r\\nJPEGImages/00fd529bcd71661f.jpg 0.0,500.48,238.4096875,714.88,0\\r\\nJPEGImages/0102e969b4d86515.jpg 0.0,354.941952,303.2946875,273.28000000000003,0\\r\\nJPEGImages/0104f303a8bb8006.jpg 0.0,302.44096,477.417,262.144,0 0.0,442.914816,532.896,106.49599999999998,0 0.0,820.581376,674.804,22.52800000000002,0\\r\\nJPEGImages/01053fdde63e27c8.jpg 0.0,555.093504,396.99375000000003,456.9599999999999,0\\r\\nJPEGImages/01078012fcf6c2d5.jpg 0.0,320.94464,362.45990400000005,464.86323200000004,0\\r\\nJPEGImages/010ae25a9bd85acd.jpg 0.0,356.15999999999997,252.12057099999998,146.972672,0\\r\\nJPEGImages/010c96f14cb87a3d.jpg 0.0,175.78700800000001,221.975,213.76000000000002,0\\r\\nJPEGImages/010eaed5f56c79e6.jpg 0.0,195.83999999999997,403.619533,247.72607999999997,0\\r\\nJPEGImages/010f95bcd5319dbc.jpg 0.0,459.16723199999996,104.3709375,312.96,0 0.0,279.054336,324.24,294.4,0\\r\\nJPEGImages/01168b8cb8d4373b.jpg 0.0,533.15072,256.125,531.2,0 0.0,612.56448,548.31,375.68000000000006,0\\r\\nJPEGImages/011e431cdc1e4162.jpg 0.0,654.4000000000001,336.6626525,307.489792,0 0.0,356.16,307.761888,129.57081599999998,0 0.0,62.72,303.125645,73.488384,0\\r\\nJPEGImages/011f2a08573a4499.jpg 0.0,357.771264,423.67343750000003,104.32000000000005,0\\r\\nJPEGImages/0120c4479a12856b.jpg 0.0,213.9776,415.349375,221.44000000000005,0\\r\\nJPEGImages/0120ed8891c7c74a.jpg 0.0,248.43264,282.59125,139.51999999999998,0 0.0,635.6945920000001,629.37,128.64,0\\r\\nJPEGImages/0121bd8b74929e05.jpg 0.0,299.52,366.6900645,258.15142399999996,0\\r\\nJPEGImages/0121ef170a8d995b.jpg 0.0,218.056192,315.03375,74.24000000000001,0\\r\\nJPEGImages/01248af2b68f6206.jpg 0.0,320.426496,137.2403125,94.08000000000001,0 0.0,258.133504,209.16000000000003,99.83999999999997,0 0.0,219.30649599999998,336.37750000000005,76.80000000000001,0 0.0,173.226496,552.9234375,100.4799999999999,0\\r\\nJPEGImages/0127543927a81e26.jpg 0.0,240.704512,422.60625,119.03999999999996,0\\r\\nJPEGImages/012edbb45408ba18.jpg 0.0,669.5383039999999,154.955625,98.56000000000003,0 0.0,214.693888,464.31,64.63999999999999,0\\r\\nJPEGImages/01365c8bd7c03b5f.jpg 0.0,196.267008,72.141875,154.88,0 0.0,187.307008,153.72,136.96000000000004,0 0.0,208.64,247.58750000000003,152.32,0 0.0,235.94649600000002,403.50781250000006,124.80000000000007,0\\r\\nJPEGImages/013dc4a9ba3e5e0f.jpg 0.0,369.911296,96.2603125,77.44,0 0.0,319.819264,140.70000000000002,44.80000000000001,0 0.0,387.73299199999997,291.555625,84.48000000000002,0\\r\\nJPEGImages/013f237126216474.jpg 0.0,475.912192,117.723929,298.99980800000003,0 0.0,867.618304,153.89068799999998,173.000704,0 0.0,974.379008,229.4453125,155.999232,0 0.0,359.37740799999995,491.005945,248.00051200000007,0\\r\\nJPEGImages/014192a363715c8c.jpg 0.0,202.24,191.24,179.769344,0 0.0,845.652992,610.0268159999999,86.47065599999996,0\\r\\nJPEGImages/015b06406d46fb87.jpg 0.0,297.655296,331.8953125,332.15999999999997,0\\r\\nJPEGImages/01609303c64ed39a.jpg 0.0,599.2002560000001,541.064404,422.4000000000001,0\\r\\nJPEGImages/0161818e894867b2.jpg 0.0,348.859392,473.83125,106.24000000000001,0\\r\\nJPEGImages/0169fa3f5378fe92.jpg 0.0,225.28,343.2075,56.32000000000005,0 0.0,219.307008,390.6,94.71999999999991,0\\r\\nJPEGImages/016a47614fc87b35.jpg 0.0,202.68697600000002,315.8875,176.64,0\\r\\nJPEGImages/017031bf79735b07.jpg 0.0,174.000128,239.2006015,257.127424,0 0.0,306.499584,449.97355200000004,324.79334399999993,0\\r\\nJPEGImages/017349def840236b.jpg 0.0,136.64,498.91749849999997,216.7449600000001,0\\r\\nJPEGImages/017688e4084811b5.jpg 0.0,218.46630399999998,92.4184375,92.80000000000001,0 0.0,216.541696,216.08999999999997,86.40000000000003,0 0.0,206.43583999999998,323.998125,76.79999999999995,0 0.0,209.80428799999999,403.29375000000005,69.12,0 0.0,149.01874800000002,713.5999999999999,42.534999999999975,0 0.0,211.72940799999998,541.2775,35.84000000000003,0 0.0,212.69196799999997,631.1249999999999,33.91999999999996,0\\r\\nJPEGImages/017931803f1fc9ad.jpg 0.0,369.23648000000003,326.3459375,90.23999999999995,0\\r\\nJPEGImages/017b0ba49223d7c0.jpg 0.0,226.13350400000002,329.494226,131.99974400000002,0 0.0,561.6,140.175168,135.999488,0 0.0,806.9335040000001,545.3328125,176.0,0\\r\\nJPEGImages/017eb9b8935e83bc.jpg 0.0,151.467008,442.4559375,144.0,0\\r\\nJPEGImages/017ec1ebaf0fe843.jpg 0.0,379.5584,411.28484199999997,761.3214720000001,0\\r\\nJPEGImages/01825bf136d37a06.jpg 0.0,83.288576,38.41875,58.88000000000001,0 0.0,142.408192,278.03999999999996,140.8,0 0.0,112.290816,426.44812499999995,58.879999999999995,0 0.0,81.800704,452.528125,51.200000000000045,0 0.0,91.48572600000001,703.3599999999999,64.255,0 0.0,95.930368,492.4003125,48.0,0\\r\\nJPEGImages/01868f7ebe680e2f.jpg 0.0,212.61824,557.49875,174.08000000000004,0\\r\\nJPEGImages/018abc06edf4fbb3.jpg 0.0,161.28,305.215625,172.8,0\\r\\nJPEGImages/018ccb9748f05cbf.jpg 0.0,312.470528,376.1489315,50.701311999999916,0\\r\\nJPEGImages/018da59335e804f6.jpg 0.0,298.62656000000004,131.2640625,86.4,0 0.0,231.676416,456.75,80.0,0 0.0,348.2368,492.18687500000004,46.08000000000004,0\\r\\nJPEGImages/018de89c72050eb4.jpg 0.0,329.624064,394.64593750000006,507.52000000000004,0\\r\\nJPEGImages/0195b7b90f368fe2.jpg 0.0,209.200128,105.6515625,206.72,0 0.0,263.600128,467.04,299.5200000000001,0\\r\\nJPEGImages/019688b9f2d8ab97.jpg 0.0,275.692544,323.998125,345.59999999999997,0\\r\\nJPEGImages/019697355b657a53.jpg 0.0,602.29632,311.191875,220.15999999999997,0\\r\\nJPEGImages/019a1004486c6769.jpg 0.0,322.56,194.65499999999997,409.59999999999997,0\\r\\nJPEGImages/019ac7e11f4e63b1.jpg 0.0,185.395712,499.6571875,67.20000000000005,0 0.0,105.18579199999999,627.06,135.68000000000006,0\\r\\nJPEGImages/01a1d71a45aee4a8.jpg 0.0,231.02412800000002,244.38593749999998,146.56,0\\r\\nJPEGImages/01ac4efbd6dc6f55.jpg 0.0,183.50694399999998,473.61781249999996,124.80000000000007,0\\r\\nJPEGImages/01b5d1a755bcf52b.jpg 0.0,276.62336,304.5753125,368.0,0\\r\\nJPEGImages/01b8a98d38cf77d6.jpg 0.0,169.92,291.119871,306.91328,0\\r\\nJPEGImages/01c1552c1f8413cd.jpg 0.0,879.7864959999999,169.89625,110.07999999999998,0 0.0,764.1600000000001,273.63,105.59999999999997,0 0.0,354.56,314.17999999999995,66.56,0 0.0,814.506496,329.228125,52.47999999999996,0 0.0,530.933092,587.52,35.29500000000005,0 0.0,771.412992,463.58624999999995,75.51999999999998,0 0.0,777.386496,557.9999999999999,79.36000000000001,0\\r\\nJPEGImages/01c60c7d9692e6a9.jpg 0.0,351.57350399999996,155.5959375,223.35999999999999,0\\r\\nJPEGImages/01c8fed4334faae6.jpg 0.0,114.152448,612.13875,130.55999999999995,0 0.0,91.99616,11.97,35.2,0 0.0,122.82214400000001,52.9325,104.96000000000001,0 0.0,140.162048,88.83593750000001,71.03999999999999,0 0.0,21.794933999999998,658.24,82.8075,0 0.0,143.533568,452.060625,101.12,0\\r\\nJPEGImages/01d2b557b3559f2b.jpg 0.0,162.822144,362.20343749999995,164.47999999999996,0\\r\\nJPEGImages/01d4ac15f633947b.jpg 0.0,169.542656,226.88406249999997,173.44,0 0.0,363.168768,351.12,177.92000000000002,0\\r\\nJPEGImages/01d4f6455ae54942.jpg 0.0,589.8240000000001,126.51960300000002,185.059328,0\\r\\nJPEGImages/01d6e7733f9e82e4.jpg 0.0,428.373504,414.7090625,150.4000000000001,0\\r\\nJPEGImages/01dc6ef7586662a7.jpg 0.0,570.6664959999999,127.06190500000001,380.99968,0\\r\\nJPEGImages/01e156e1494afc3f.jpg 0.0,187.20000000000002,168.66992349999998,333.016064,0\\r\\nJPEGImages/01e1d8b3e3e5f523.jpg 0.0,319.87968,334.0296875,82.56000000000006,0\\r\\nJPEGImages/01e75141fbec8f91.jpg 0.0,337.98656,328.107736,257.673216,0\\r\\nJPEGImages/01ece450b8073435.jpg 0.0,229.668864,233.5419465,110.10764800000004,0\\r\\nJPEGImages/0206c6d655119ea0.jpg 0.0,536.800256,420.471875,444.798976,0\\r\\nJPEGImages/020b86445c8e6d4d.jpg 0.0,660.893184,277.6821875,144.0,0 0.0,233.906176,458.42999999999995,193.91999999999996,0\\r\\nJPEGImages/020fad1eda0dd993.jpg 0.0,458.042368,465.29374999999993,185.60000000000002,0 0.0,199.044608,511.87516800000003,219.19948799999997,0\\r\\nJPEGImages/02129d9f2382ff30.jpg 0.0,203.206144,283.871875,133.12,0\\r\\nJPEGImages/021be203e1386d3a.jpg 0.0,618.197504,96.17766950000001,288.392192,0\\r\\nJPEGImages/0225f378cfb5ca3c.jpg 0.0,68.400128,28.013586500000002,83.999744,0 0.0,76.000256,62.01552,99.00032,0 0.0,84.400128,137.73412150000001,90.999808,0 0.0,160.399872,199.34561749999997,69.999616,0 0.0,136.88125000000002,380.000256,45.25,0 0.0,196.8,350.1710265,69.999616,0 0.0,199.199744,416.60172,76.9996799999999,0 0.0,158.329479,650.999808,37.464948000000014,0 0.0,119.44093050000001,696.999936,42.5625,0 0.0,145.200128,584.6250239999999,75.00083200000006,0 0.0,121.19961599999999,552.9366514999999,94.00012800000002,0 0.0,101.200384,593.956607,95.00057600000002,0 0.0,67.2,642.704865,115.99974399999996,0\\r\\nJPEGImages/02281d0ba94db1bc.jpg 0.0,328.487424,122.94,368.64,0 0.0,511.082496,439.74,705.28,0\\r\\nJPEGImages/022bbb4cb666f482.jpg 0.0,865.707008,156.4496875,132.48000000000002,0 0.0,802.133504,426.51,110.72000000000003,0\\r\\nJPEGImages/022cf1cfbff5d623.jpg 0.0,314.56,440.01933499999996,272.4536320000001,0 0.0,93.12,454.52904,180.61619199999996,0\\r\\nJPEGImages/022e05294cdf96bb.jpg 0.0,422.327808,391.65781250000003,384.64,0\\r\\nJPEGImages/023148a5c606736c.jpg 0.0,505.333248,73.725069,221.067264,0 0.0,385.999872,376.374768,112.61849600000005,0\\r\\nJPEGImages/02356f8e29b267d0.jpg 0.0,348.79999999999995,115.5407195,346.452992,0 0.0,293.76,567.0,318.29401600000006,0\\r\\nJPEGImages/0235f81d0985389c.jpg 0.0,492.16,463.6200585,636.8942079999999,0\\r\\nJPEGImages/02395f608b49b734.jpg 0.0,125.44,405.8812874999999,155.27833599999997,0 0.0,184.32,522.590208,146.88460799999996,0\\r\\nJPEGImages/023e639650f700b1.jpg 0.0,519.231488,275.5478125,150.39999999999998,0 0.0,131.615744,434.7,108.79999999999995,0\\r\\nJPEGImages/023f5d5e53c81089.jpg 0.0,407.04,276.8284375,42.879999999999995,0\\r\\nJPEGImages/0247418e7a9d66d5.jpg 0.0,431.6032,426.448125,85.75999999999999,0\\r\\nJPEGImages/0250630f8ec7ec67.jpg 0.0,160.427008,372.0215625,177.27999999999997,0\\r\\nJPEGImages/026762eef172589a.jpg 0.0,457.28,156.948619,74.10483200000002,0 0.0,81.6,212.210544,78.916608,0 0.0,386.88,370.38611899999995,153.98502399999995,0 0.0,66.88,373.72435499999995,76.02995199999998,0 0.0,36.6525,682.8267519999999,53.75555199999999,0 0.0,182.08,658.607338,65.44384000000002,0\\r\\nJPEGImages/0268c26c95b49298.jpg 0.0,312.195072,248.44125000000003,112.63999999999999,0 0.0,307.392,463.04999999999995,108.15999999999997,0\\r\\nJPEGImages/026c9af545bfdee2.jpg 0.0,297.386496,456.5428125,173.44000000000005,0 0.0,186.88,160.02,161.28000000000003,0 0.0,225.28,589.94125,120.31999999999994,0\\r\\nJPEGImages/026ef6f095fddb3b.jpg 0.0,337.066496,452.91437499999995,366.08000000000004,0\\r\\nJPEGImages/02729b2c040b61c1.jpg 0.0,511.146496,371.5946875,775.04,0\\r\\nJPEGImages/0277e358a0f2bfa1.jpg 0.0,167.947776,468.92218749999995,205.43999999999994,0 0.0,305.184256,202.86,215.04,0\\r\\nJPEGImages/0288c03e1b73ca22.jpg 0.0,421.888,176.5555,230.4,0 0.0,387.754496,365.56800000000004,251.90400000000005,0 0.0,417.79200000000003,498.59,270.336,0\\r\\nJPEGImages/028d3dd7ebf7b10b.jpg 0.0,190.25408,194.44156249999997,177.28000000000003,0 0.0,460.46259200000003,334.11,112.0,0 0.0,409.88876799999997,533.166875,126.72000000000003,0\\r\\nJPEGImages/029d82a0dafe0aec.jpg 0.0,489.864704,93.6990625,280.96,0 0.0,303.63903999999997,153.09,179.83999999999997,0 0.0,307.970048,218.56,256.0,0 0.0,225.683968,290.696875,252.15999999999997,0 0.0,189.845832,643.84,126.70000000000003,0\\r\\nJPEGImages/02aa8fba7b5c55a7.jpg 0.0,144.64,491.99153700000005,453.183488,0\\r\\nJPEGImages/02b9c5fa3e8610be.jpg 0.0,268.007424,52.505625,157.44,0 0.0,268.007424,192.78,152.32000000000002,0 0.0,256.0,267.22375,111.36000000000001,0 0.0,256.480256,375.25156250000003,60.80000000000007,0 0.0,148.39972799999998,647.6800000000001,130.32000000000002,0\\r\\nJPEGImages/02c3e0134c153111.jpg 0.0,387.84,343.2075,798.7199999999999,0\\r\\nJPEGImages/02c6da49dad3c0e6.jpg 0.0,191.8848,135.413629,266.743808,0 0.0,754.623488,332.59632,210.43200000000002,0\\r\\nJPEGImages/02c86ad0c9ca8693.jpg 0.0,247.803904,556.645,78.08000000000004,0 0.0,269.981184,85.25999999999999,66.55999999999999,0 0.0,230.92992,128.2759375,78.72,0\\r\\nJPEGImages/02cccd551ac6d602.jpg 0.0,157.058048,453.5546875,114.55999999999995,0\\r\\nJPEGImages/02d658464834d98f.jpg 0.0,298.591744,38.6321875,115.84,0 0.0,364.048896,171.98999999999998,40.32000000000002,0 0.0,399.019008,262.3146875,77.44,0 0.0,296.35072,348.27968749999997,236.16000000000003,0 0.0,298.919328,702.0799999999999,114.93500000000004,0 0.0,246.584832,564.1153125,174.72000000000003,0\\r\\nJPEGImages/02dfb087b381bbae.jpg 0.0,116.890624,109.70687500000001,117.76000000000002,0\\r\\nJPEGImages/02e37aa3f1e29fcc.jpg 0.0,727.154176,105.01125,313.6,0 0.0,278.322688,159.39,150.39999999999998,0 0.0,249.350656,224.963125,135.68,0 0.0,474.95372799999996,314.24375,156.16000000000003,0 0.0,134.99414399999998,717.12,103.62249999999996,0\\r\\nJPEGImages/02e4bb59a95d960f.jpg 0.0,277.613568,500.93781249999995,333.43999999999994,0 0.0,210.37158399999998,27.3,83.2,0 0.0,368.8704,147.4853125,183.67999999999998,0 0.0,289.140736,242.31875,293.12,0 0.0,194.583326,551.04,119.45999999999998,0\\r\\nJPEGImages/02e9d254eb38b6b5.jpg 0.0,152.255488,286.2196875,65.91999999999996,0 0.0,225.26054399999998,299.25,114.55999999999995,0 0.0,424.10496,436.0528125,183.68000000000006,0 0.0,244.47283199999998,443.109375,162.55999999999995,0 0.0,134.81604,699.2,55.65749999999994,0\\r\\nJPEGImages/0304e7bf1daeb89b.jpg 0.0,463.988736,453.34125000000006,289.2800000000001,0\\r\\nJPEGImages/030670bbe9a23240.jpg 0.0,289.22521600000005,255.698125,52.48000000000002,0 0.0,262.45376,279.72,47.360000000000014,0 0.0,250.024448,325.70562500000005,97.28000000000003,0 0.0,288.2688,363.05,40.960000000000036,0 0.0,158.86080399999997,761.5999999999999,48.870000000000005,0 0.0,348.025856,550.8821875,142.72000000000003,0\\r\\nJPEGImages/030b4017edca0a74.jpg 0.0,403.968,420.18911299999996,152.674304,0 0.0,129.536,206.45755200000002,58.60249600000003,0\\r\\nJPEGImages/030f6737ac46cdd3.jpg 0.0,557.628416,260.82062499999995,84.47999999999996,0 0.0,411.61728,175.35,82.56000000000003,0 0.0,263.684608,235.208125,69.12,0 0.0,105.18527999999999,264.36718750000006,60.80000000000001,0 0.0,280.49895799999996,484.48,44.34500000000002,0 0.0,296.3456,331.0415625,76.15999999999997,0 0.0,452.92288,384.075,76.16000000000003,0 0.0,264.047736,668.8,74.0175,0 0.0,90.3955995,717.76,52.35187500000002,0\\r\\nJPEGImages/0312c43354e6160d.jpg 0.0,333.333504,423.2062654999999,136.99993600000005,0\\r\\nJPEGImages/0313685362d87ec5.jpg 0.0,501.433856,375.8634375,356.48,0\\r\\nJPEGImages/031c273b03ca903f.jpg 0.0,340.546048,94.55281249999999,14.719999999999999,0 0.0,337.712128,125.79,24.960000000000008,0 0.0,309.37241600000004,310.338125,17.920000000000016,0 0.0,357.077504,320.45156249999997,45.44,0 0.0,194.69192599999997,576.64,7.240000000000006,0 0.0,307.483136,408.73281249999997,22.399999999999977,0 0.0,325.431296,503.77500000000003,32.639999999999986,0 0.0,242.736951,917.44,33.881250000000016,0 0.0,169.936059,935.6800000000001,8.512500000000045,0 0.0,261.195264,717.1200000000001,14.080000000000041,0\\r\\nJPEGImages/031df2f238968e62.jpg 0.0,177.19654400000002,579.0559375,201.60000000000002,0 0.0,23.596544,644.28,83.20000000000005,0\\r\\nJPEGImages/0327764de433371f.jpg 0.0,121.03577600000001,386.1084375,138.88000000000005,0\\r\\nJPEGImages/032f068b37db5686.jpg 0.0,535.6800000000001,323.6392085,908.317696,0\\r\\nJPEGImages/033302f5f4223d16.jpg 0.0,312.382464,360.70937499999997,79.36000000000001,0\\r\\nJPEGImages/0333584f64d8dd2f.jpg 0.0,918.666752,87.74671749999999,140.444672,0 0.0,212.66688,189.87494400000003,217.77817599999997,0 0.0,544.0,205.729845,192.0,0 0.0,91.333632,430.20603,59.55583999999999,0\\r\\nJPEGImages/0340ccbd29ff9f01.jpg 0.0,515.500032,226.9967575,325.270528,0\\r\\nJPEGImages/0343e053cb59d9a8.jpg 0.0,215.04,261.8878125,186.24,0\\r\\nJPEGImages/034c1ad7dfbdb9ad.jpg 0.0,263.68460799999997,341.5,407.03999999999996,0\\r\\nJPEGImages/034f9f6304917118.jpg 0.0,354.461696,183.129375,119.03999999999999,0 0.0,303.549952,11.760000000000002,35.84,0 0.0,139.28704,103.30375,111.36,0 0.0,215.174656,391.09218749999997,126.07999999999993,0 0.0,236.01313999999996,611.52,90.04750000000001,0 0.0,390.964224,599.759375,102.39999999999998,0 0.0,123.437056,683.1,94.72000000000003,0\\r\\nJPEGImages/0354167168e5dd81.jpg 0.0,377.035776,290.275,129.27999999999997,0\\r\\nJPEGImages/0354d5cdb360c153.jpg 0.0,278.87872,332.1029445,153.05625600000002,0\\r\\nJPEGImages/035730658f11140a.jpg 0.0,306.220032,366.445892,603.56608,0\\r\\nJPEGImages/0357f472daa7cbcb.jpg 0.0,188.250624,459.9578125,339.20102399999996,0\\r\\nJPEGImages/035910406a3f84c6.jpg 0.0,462.62988800000005,618.96875,158.72000000000003,0 0.0,365.592576,69.51,183.67999999999998,0\\r\\nJPEGImages/0362b35d466ff4e7.jpg 0.0,661.599744,355.16,304.63999999999993,0\\r\\nJPEGImages/03632a1dcc1cb4ac.jpg 0.0,524.2255359999999,99.2484375,215.67999999999998,0 0.0,340.84454400000004,541.38,213.76,0\\r\\nJPEGImages/0366ae467b9baf91.jpg 0.0,460.000256,201.058125,194.56000000000003,0 0.0,130.399744,264.6,152.32,0 0.0,453.99961600000006,398.9146875,218.24000000000007,0\\r\\nJPEGImages/0368ded1b2f7b169.jpg 0.0,349.013504,78.118125,234.24,0 0.0,302.50649599999997,587.7900000000001,255.36,0\\r\\nJPEGImages/03702b8b0f326253.jpg 0.0,547.413504,467.855,432.64,0\\r\\nJPEGImages/037663b35ada9c07.jpg 0.0,249.999872,326.1594785,112.0,0\\r\\nJPEGImages/03783f4a54da516e.jpg 0.0,473.911296,310.082,169.98400000000004,0\\r\\nJPEGImages/037a73ba682d570b.jpg 0.0,295.384576,181.421875,192.0,0 0.0,73.96608,380.72999999999996,174.71999999999997,0 0.0,739.662336,564.9690625,318.08000000000004,0\\r\\nJPEGImages/03813ddb6703b7d9.jpg 0.0,509.609472,378.8515625,502.40000000000003,0\\r\\nJPEGImages/0385abd1057bfc94.jpg 0.0,245.11283200000003,313.753125,128.0,0\\r\\nJPEGImages/038673ca00425336.jpg 0.0,326.145536,221.975,121.60000000000002,0 0.0,340.53376000000003,366.975168,152.00051200000001,0 0.0,320.150016,425.80815400000006,96.0,0 0.0,375.306752,515.8909675,86.40000000000009,0\\r\\nJPEGImages/038b167f3b7e005d.jpg 0.0,423.08096,167.1215625,99.20000000000002,0 0.0,934.603264,208.95,78.71999999999997,0 0.0,265.321984,382.48,101.12,0\\r\\nJPEGImages/038fe752ed842b9c.jpg 0.0,208.32,297.93143,267.046912,0\\r\\nJPEGImages/038fe8debed39f1c.jpg 0.0,234.969088,265.51625,157.44,0\\r\\nJPEGImages/038ff409a7e008f1.jpg 0.0,169.065472,539.729822,198.602752,0\\r\\nJPEGImages/0390884e44139f16.jpg 0.0,223.04512,263.80875,42.24000000000001,0 0.0,134.4384,309.54,133.12,0\\r\\nJPEGImages/039fd159252c2745.jpg 0.0,286.31552,410.533542,99.0003200000001,0\\r\\nJPEGImages/03a1fe440fe470f7.jpg 0.0,284.954112,500.30023200000005,377.430016,0\\r\\nJPEGImages/03a23713bff71da4.jpg 0.0,523.527168,90.4975,149.76,0 0.0,205.568512,158.54999999999998,136.32,0 0.0,60.998144,278.5359375,126.07999999999998,0 0.0,636.878336,364.7625,156.16000000000003,0 0.0,361.320888,592.0,104.07500000000003,0 0.0,249.275904,441.1753125,120.95999999999992,0 0.0,633.035776,545.4000000000001,175.36,0 0.0,213.194169,953.28,107.89875000000002,0 0.0,54.9400155,990.72,43.41374999999998,0\\r\\nJPEGImages/03abb9572e8e2053.jpg 0.0,151.466496,400.729077,171.200512,0\\r\\nJPEGImages/03ad069d5edfdb29.jpg 0.0,734.208,147.755439,415.744,0\\r\\nJPEGImages/03b09b3d76ee1f88.jpg 0.0,158.4,367.697148,257.16940800000003,0\\r\\nJPEGImages/03b23d1c6815678e.jpg 0.0,452.8,431.84041,109.5086080000001,0 0.0,213.76,489.816096,80.69119999999998,0\\r\\nJPEGImages/03b8c6402a92d6ea.jpg 0.0,53.600256,241.717798,120.00051199999996,0 0.0,362.399744,336.525168,190.39948800000002,0 0.0,758.4,493.04062500000003,332.80000000000007,0\\r\\nJPEGImages/03bc6073c9dce503.jpg 0.0,350.29350400000004,178.43374999999997,341.76,0\\r\\nJPEGImages/03bd2fdf165dde80.jpg 0.0,311.96672,572.2259375000001,103.04000000000008,0 0.0,279.62112,4.2,12.8,0 0.0,302.60326399999997,24.331874999999997,15.359999999999996,0 0.0,401.76896,149.415625,140.79999999999998,0 0.0,177.23845799999998,391.68,75.11500000000001,0\\r\\nJPEGImages/03c2b27af1fd660e.jpg 0.0,388.94643199999996,401.72693999999996,153.05523200000005,0\\r\\nJPEGImages/03c5a1f5ef8804f2.jpg 0.0,306.144256,296.678125,151.04000000000008,0\\r\\nJPEGImages/03c9a2bdf995fabc.jpg 0.0,163.42016,194.76154799999998,124.00025599999998,0 0.0,211.39712,346.171728,55.00006400000001,0 0.0,182.161408,359.508661,32.0,0 0.0,234.635264,437.15569750000003,133.00019199999997,0\\r\\nJPEGImages/03d272c5e33ce307.jpg 0.0,216.64000000000001,361.13624999999996,168.10598399999998,0 0.0,260.48,156.519888,118.61299200000002,0\\r\\nJPEGImages/03e409bc81fa4ed0.jpg 0.0,121.742336,188.08761349999997,343.43424,0 0.0,72.817664,437.316768,305.625088,0\\r\\nJPEGImages/03ea280290289cc7.jpg 0.0,413.538816,480.234375,83.20000000000005,0\\r\\nJPEGImages/03f0300f566fb94e.jpg 0.0,261.76,108.77389699999999,90.179584,0 0.0,249.59999999999997,234.50851200000002,156.760064,0 0.0,223.35999999999999,459.830433,74.16627200000005,0\\r\\nJPEGImages/03f9156ce0d1b96a.jpg 0.0,210.404352,242.67843749999997,112.0,0\\r\\nJPEGImages/03fa1054eaea89e0.jpg 0.0,328.525312,578.2021875,170.88,0\\r\\nJPEGImages/0409317d43e843fe.jpg 0.0,658.346496,178.43374999999997,203.51999999999998,0 0.0,618.667008,305.13,146.56,0\\r\\nJPEGImages/0410bd1e58299951.jpg 0.0,544.500224,273.300401,64.65740799999998,0\\r\\nJPEGImages/041159269a2c3433.jpg 0.0,325.76,329.5475,80.21401600000002,0\\r\\nJPEGImages/0418578fa2346505.jpg 0.0,613.973504,504.139375,130.56000000000006,0 0.0,534.613504,192.57,104.32000000000002,0 0.0,489.81350399999997,268.2909375,54.39999999999998,0 0.0,461.653504,318.7390625,21.120000000000005,0 0.0,325.49845400000004,503.04,24.43500000000004,0 0.0,482.986496,420.6853125,49.27999999999997,0 0.0,511.147008,451.125,56.960000000000036,0 0.0,391.632639,695.6800000000001,29.190000000000026,0\\r\\nJPEGImages/041a477c935d2b8f.jpg 0.0,483.999744,464.2265625,364.8010240000001,0\\r\\nJPEGImages/041b30ca924740a2.jpg 0.0,212.16,433.082787,513.4499839999999,0\\r\\nJPEGImages/0422df403cd66dff.jpg 0.0,98.666496,370.84782700000005,64.0,0\\r\\nJPEGImages/04258852f6d1370a.jpg 0.0,205.227008,153.8884375,113.28,0\\r\\nJPEGImages/0428eea6cfa4151b.jpg 0.0,313.864704,213.010625,81.92000000000002,0 0.0,212.545024,386.82000000000005,101.12,0\\r\\nJPEGImages/042cfbc6ca55489b.jpg 0.0,436.98175999999995,361.509851,436.00076799999994,0\\r\\nJPEGImages/0431efa0d9623971.jpg 0.0,147.469312,525.6965625,123.51999999999998,0 0.0,128.828416,147.63,97.92000000000002,0 0.0,256.41420800000003,256.125,103.67999999999995,0 0.0,220.37504,319.809375,101.12,0 0.0,128.281578,888.3199999999999,57.01499999999999,0\\r\\nJPEGImages/04356dd5ed3c4d90.jpg 0.0,102.30374400000001,359.64218750000003,112.00000000000006,0\\r\\nJPEGImages/043c5939fd81e72f.jpg 0.0,91.732992,184.089673,116.79948800000003,0\\r\\nJPEGImages/0449f999189a84ee.jpg 0.0,723.2,585.1032195,232.10700799999995,0 0.0,637.12,282.613296,199.11167999999998,0\\r\\nJPEGImages/04584420be2b0670.jpg 0.0,181.44,155.284831,62.46195199999997,0 0.0,158.72,257.123664,189.27923200000004,0 0.0,204.16,329.50651999999997,62.46195200000005,0 0.0,208.64,364.0250975,49.21241599999996,0\\r\\nJPEGImages/045d39f9651ad54b.jpg 0.0,146.491904,264.4490625,113.28000000000003,0\\r\\nJPEGImages/0461a6d792cc3b32.jpg 0.0,303.97184,455.134125,392.74291200000005,0\\r\\nJPEGImages/04621e270b2a45d3.jpg 0.0,277.613568,80.2525,16.639999999999986,0 0.0,284.81843200000003,103.53,13.439999999999998,0 0.0,290.582016,160.2915625,23.680000000000007,0 0.0,281.45561599999996,177.4578125,21.119999999999976,0 0.0,214.958496,307.52,16.742500000000003,0 0.0,391.924736,362.84375,113.92000000000002,0 0.0,304.990208,418.50000000000006,93.43999999999994,0 0.0,276.174513,759.36,39.09375,0 0.0,216.8852205,780.1600000000001,30.645000000000028,0\\r\\nJPEGImages/046bd053aae5ce0e.jpg 0.0,278.666752,250.122113,593.999872,0 0.0,365.333504,562.734144,330.99980800000003,0\\r\\nJPEGImages/046c9cf7522dfbd3.jpg 0.0,525.9289600000001,345.5553125,668.8,0\\r\\nJPEGImages/04790999ee4533cc.jpg 0.0,337.19808,420.42304050000007,49.34963200000004,0\\r\\nJPEGImages/0479790e1e93c1b2.jpg 0.0,120.96,330.4944795,399.00057599999997,0\\r\\nJPEGImages/0480f9414ed41cd4.jpg 0.0,120.96000000000001,277.7532195,187.73299200000002,0\\r\\nJPEGImages/04986986f87a8603.jpg 0.0,182.72,384.38898500000005,170.182656,0\\r\\nJPEGImages/0499cfd6df1c659b.jpg 0.0,319.342592,395.28625,363.52,0\\r\\nJPEGImages/04a0b9b99d1b3466.jpg 0.0,246.23360000000002,333.811469,243.99257599999999,0\\r\\nJPEGImages/04a115258a42f659.jpg 0.0,620.423168,348.7032595,152.800256,0 0.0,248.77158400000002,292.424832,113.60051199999998,0 0.0,236.12262399999997,559.739673,155.19948799999997,0\\r\\nJPEGImages/04a427cbd387bbb7.jpg 0.0,341.49376,196.78937499999998,125.44,0 0.0,238.228992,158.33999999999997,106.23999999999998,0 0.0,230.064128,355.37343749999997,97.92000000000002,0 0.0,350.619136,523.16875,148.48000000000002,0 0.0,188.47095600000003,877.12,81.90249999999995,0\\r\\nJPEGImages/04a61e5a55e967f5.jpg 0.0,579.2,64.885,194.56,0 0.0,667.84,545.16,384.854016,0\\r\\nJPEGImages/04ad016c20129e68.jpg 0.0,413.941248,366.8990625,206.72000000000003,0\\r\\nJPEGImages/04bd630f58f71cff.jpg 0.0,427.96697600000005,416.4698365,108.00025599999992,0 0.0,446.57459199999994,156.45,111.99999999999997,0\\r\\nJPEGImages/04bf61de41a64a45.jpg 0.0,232.0,255.52327700000004,355.547136,0\\r\\nJPEGImages/04c09df138c570eb.jpg 0.0,202.24,228.16468749999999,101.75999999999999,0\\r\\nJPEGImages/04c5b6dd039d59f0.jpg 0.0,207.579648,77.69125,116.47999999999999,0\\r\\nJPEGImages/04c6d541a30cedba.jpg 0.0,215.68,245.1146985,444.888064,0 0.0,198.07999999999998,477.006432,358.2914559999999,0\\r\\nJPEGImages/04cc4fdf9aad5217.jpg 0.0,568.353792,116.75031249999999,347.52000000000004,0 0.0,213.37344,406.14,303.35999999999996,0\\r\\nJPEGImages/04d02e63fb05db85.jpg 0.0,787.2,80.0390625,213.12,0 0.0,646.826496,229.95,24.95999999999998,0 0.0,622.932992,338.29843750000003,28.80000000000001,0 0.0,599.04,420.2046875,24.960000000000036,0 0.0,408.75845400000003,684.48,20.36249999999997,0 0.0,721.066496,578.8425,38.39999999999998,0 0.0,744.5329919999999,623.475,13.440000000000055,0 0.0,579.63,979.2,32.31749999999996,0\\r\\nJPEGImages/04d7f18f98acc54b.jpg 0.0,448.32,92.127138,252.85017600000003,0 0.0,375.03999999999996,331.27617599999996,295.14239999999995,0 0.0,177.28,371.50862950000004,167.36767999999995,0\\r\\nJPEGImages/04e747a01a931f8c.jpg 0.0,395.28704,342.35375,266.23999999999995,0\\r\\nJPEGImages/04f32a3ca353ae53.jpg 0.0,387.52,362.382042,880.4659200000001,0\\r\\nJPEGImages/04f520b74101b174.jpg 0.0,356.48,317.7934115,414.979072,0\\r\\nJPEGImages/04f810e92344ecc9.jpg 0.0,120.26828800000001,386.85563950000005,142.400512,0 0.0,612.796416,91.35,35.20000000000002,0 0.0,640.286208,189.42595200000002,33.59948800000001,0\\r\\nJPEGImages/05036f058192d52d.jpg 0.0,364.548096,341.28656249999995,239.99999999999994,0\\r\\nJPEGImages/05058c6902458322.jpg 0.0,314.24,297.290776,130.64192000000003,0\\r\\nJPEGImages/050e8380153a12f4.jpg 0.0,244.429824,124.6475,99.84,0 0.0,331.69152,190.89,73.6,0 0.0,137.883136,512.0365625000001,147.84000000000003,0\\r\\nJPEGImages/05111d8a04a0b335.jpg 0.0,183.571968,342.9940625,181.11999999999995,0 0.0,359.313408,462.21,192.64,0\\r\\nJPEGImages/05172d146bdd2ffb.jpg 0.0,322.353664,396.566875,252.15999999999997,0\\r\\nJPEGImages/052647501d2eb5f5.jpg 0.0,617.00096,207.2478125,296.32,0 0.0,88.142848,373.17,291.2,0\\r\\nJPEGImages/0528b89843f5649e.jpg 0.0,261.763584,433.705,113.92000000000007,0\\r\\nJPEGImages/052a4047c52eb76e.jpg 0.0,341.08313599999997,354.50636899999995,135.00006399999995,0\\r\\nJPEGImages/052f14488022c364.jpg 0.0,192.85862400000002,319.88919699999997,74.399744,0 0.0,189.68831999999998,354.112416,104.80025599999999,0 0.0,256.264192,487.437976,55.19974400000001,0\\r\\nJPEGImages/0531a4449a96fa02.jpg 0.0,267.33312,261.127292,156.99968,0\\r\\nJPEGImages/053d9bc3278c0a9f.jpg 0.0,164.98790400000001,615.55375,176.6400000000001,0\\r\\nJPEGImages/0546c82a35006579.jpg 0.0,190.72,379.622328,316.03711999999996,0\\r\\nJPEGImages/054744d67fdc06ba.jpg 0.0,670.7968,403.6103125,205.44000000000005,0 0.0,307.00748799999997,464.72999999999996,229.76,0\\r\\nJPEGImages/054929245e1f2b71.jpg 0.0,316.78924800000004,320.251187,327.68,0\\r\\nJPEGImages/056c0865b8c48ffa.jpg 0.0,382.07488,416.203125,273.92,0\\r\\nJPEGImages/057bf583a10234fe.jpg 0.0,144.96,440.81024899999994,153.69625600000006,0\\r\\nJPEGImages/05809c4181cfc348.jpg 0.0,153.6,397.988881,244.45132800000005,0 0.0,205.44,292.73697599999997,110.67699199999998,0\\r\\nJPEGImages/058bafc32e61e87a.jpg 0.0,551.384576,485.35687500000006,126.71999999999991,0\\r\\nJPEGImages/05927f9c6d387e2f.jpg 0.0,135.924736,209.8090625,219.51999999999998,0\\r\\nJPEGImages/059b83f066b29814.jpg 0.0,549.972992,355.8003125,519.04,0\\r\\nJPEGImages/059cf1ffb71c2a2a.jpg 0.0,307.99974399999996,473.89784249999997,94.999552,0\\r\\nJPEGImages/059ed98da21a0045.jpg 0.0,168.579584,259.113125,179.2,0\\r\\nJPEGImages/05a3a8b425e8ea70.jpg 0.0,258.881536,452.48750000000007,220.15999999999997,0\\r\\nJPEGImages/05a504316ad04180.jpg 0.0,233.673216,228.48159949999996,362.51340799999997,0\\r\\nJPEGImages/05a75f45ad327c97.jpg 0.0,246.144512,233.9275,215.04000000000002,0 0.0,406.715904,87.57,85.12,0 0.0,344.698368,133.185,57.599999999999994,0\\r\\nJPEGImages/05aac2281846e4ca.jpg 0.0,527.36,431.5204245,611.902464,0\\r\\nJPEGImages/05bc209fe716b9a5.jpg 0.0,316.16,320.72553050000005,680.107008,0\\r\\nJPEGImages/05c4b56914646700.jpg 0.0,258.88,292.97455749999995,338.30195199999997,0\\r\\nJPEGImages/05d04bc62d9753f5.jpg 0.0,216.0,447.6849855,132.799488,0\\r\\nJPEGImages/05da56c8032e9a75.jpg 0.0,622.4,184.1166515,306.42483200000004,0 0.0,555.84,464.545536,197.81836799999996,0\\r\\nJPEGImages/05dfef1a51503284.jpg 0.0,638.72,173.31125000000003,113.92000000000002,0 0.0,624.64,14.91,45.44,0 0.0,539.733504,122.2996875,63.359999999999985,0\\r\\nJPEGImages/05e43a3a7fe2e676.jpg 0.0,143.36,427.27797,499.912704,0\\r\\nJPEGImages/05f3a4eb3307ad2c.jpg 0.0,339.2,117.924048,315.19948800000003,0 0.0,43.519999999999996,510.3,32.0,0 0.0,65.28,589.620923,39.99948800000004,0\\r\\nJPEGImages/05f6a116af4e422c.jpg 0.0,440.0,276.188125,71.68,0\\r\\nJPEGImages/05ffe169229d0fe5.jpg 0.0,113.28,649.6829185,97.98144000000002,0\\r\\nJPEGImages/06021c567befb6e7.jpg 0.0,360.902144,352.171875,62.72000000000003,0 0.0,236.751872,202.65,31.360000000000014,0\\r\\nJPEGImages/06033d2b6ec17a97.jpg 0.0,768.0,229.4453125,214.39999999999998,0\\r\\nJPEGImages/06045e43752355f7.jpg 0.0,280.245248,196.27507599999998,94.128128,0 0.0,201.091584,316.03319999999997,77.01401600000003,0\\r\\nJPEGImages/06078d2972d49976.jpg 0.0,170.400256,346.302173,212.79948799999994,0\\r\\nJPEGImages/0620b65d3e2f54b3.jpg 0.0,304.116224,370.5275,148.48000000000002,0\\r\\nJPEGImages/06248035a92874c1.jpg 0.0,908.276736,58.90875,176.64,0 0.0,442.395136,94.08000000000001,33.28,0 0.0,204.544,132.758125,38.400000000000006,0 0.0,163.976192,232.04375,43.51999999999998,0 0.0,233.08093999999997,888.0,41.17750000000001,0\\r\\nJPEGImages/0625dbb8723e2a73.jpg 0.0,318.844928,118.0309375,142.72,0 0.0,272.635392,300.29999999999995,156.15999999999997,0 0.0,277.718016,360.2825,56.32000000000005,0 0.0,370.137088,460.44843749999995,67.19999999999993,0 0.0,204.523484,810.56,61.992499999999964,0\\r\\nJPEGImages/062b61e32c56e650.jpg 0.0,205.85574400000002,278.3225,102.40000000000003,0 0.0,479.850496,567.63,131.19999999999993,0 0.0,374.28275199999996,674.889375,23.039999999999964,0\\r\\nJPEGImages/06398950ef18d9b7.jpg 0.0,760.32,176.4417805,279.89299200000005,0 0.0,805.12,498.96,324.265984,0\\r\\nJPEGImages/063e222536989bc2.jpg 0.0,279.054336,439.254375,318.71999999999997,0\\r\\nJPEGImages/063f05583c11ee32.jpg 0.0,829.5833600000001,97.32750000000001,32.913407999999976,0 0.0,546.244096,313.439952,510.536704,0 0.0,662.782976,478.587662,26.3311359999999,0\\r\\nJPEGImages/06419b52ca96f932.jpg 0.0,467.079168,160.7184375,412.8,0\\r\\nJPEGImages/0644d089360adbca.jpg 0.0,19.692031999999998,37.7784375,24.960000000000008,0 0.0,371.751936,275.72999999999996,51.839999999999975,0\\r\\nJPEGImages/06612f7438b5a921.jpg 0.0,302.96166400000004,258.68625000000003,180.47999999999996,0\\r\\nJPEGImages/066ed41c7805620b.jpg 0.0,208.0,503.769189,176.31846399999995,0 0.0,63.36,344.90063999999995,100.02636799999999,0\\r\\nJPEGImages/06717202bc61f8b1.jpg 0.0,202.686464,116.11000000000001,61.44,0 0.0,233.42592000000002,395.85,54.39999999999998,0\\r\\nJPEGImages/0687ba4ebf6be1e9.jpg 0.0,195.047424,517.5859375,101.75999999999999,0 0.0,193.306112,592.2,145.91999999999996,0\\r\\nJPEGImages/068a7e289d2a160e.jpg 0.0,324.683264,222.82874999999999,179.20000000000002,0 0.0,287.21971199999996,14.489999999999998,44.16,0 0.0,338.611712,82.6003125,77.44,0 0.0,364.067328,131.43437500000002,154.88,0 0.0,257.406978,427.2,64.70749999999998,0 0.0,364.06784000000005,388.029375,211.2,0 0.0,274.251264,495.9,97.27999999999997,0 0.0,341.501733,815.68,239.25375,0 0.0,156.195522,914.24,145.138125,0\\r\\nJPEGImages/068ce495d4ba2827.jpg 0.0,189.12,259.4358425,212.87219200000004,0\\r\\nJPEGImages/068cf84cf7007f11.jpg 0.0,333.328384,128.2759375,90.24000000000001,0 0.0,240.150528,260.61,86.39999999999998,0 0.0,337.170432,286.6465625,115.84000000000003,0 0.0,312.67532800000004,538.3671875,132.48000000000002,0\\r\\nJPEGImages/069cf22515495580.jpg 0.0,179.2,365.23151799999994,60.745727999999986,0 0.0,213.12,407.755824,138.84723199999996,0 0.0,302.08,548.136186,227.36281600000007,0 0.0,215.04,637.68842,35.57990399999994,0\\r\\nJPEGImages/069f5db9e9a530a1.jpg 0.0,271.68,372.048541,255.51871999999997,0 0.0,248.0,481.22020799999996,220.80614400000002,0\\r\\nJPEGImages/06a79c9d72981b38.jpg 0.0,269.448192,271.919375,126.72000000000003,0\\r\\nJPEGImages/06a98d23a7a202b0.jpg 0.0,536.666624,190.9821675,203.33260800000002,0\\r\\nJPEGImages/06aa02300aa37308.jpg 0.0,201.641984,527.1906250000001,163.84000000000003,0\\r\\nJPEGImages/06ac7abc0f3e9206.jpg 0.0,188.27776,408.94625,215.03999999999996,0\\r\\nJPEGImages/06b2c19bf7f2d3b8.jpg 0.0,561.475072,323.998125,849.9200000000001,0\\r\\nJPEGImages/06b4eaec4e68c327.jpg 0.0,343.67999999999995,297.654132,283.256832,0\\r\\nJPEGImages/06b52e75d408ad1e.jpg 0.0,207.000064,421.82694699999996,71.19462399999998,0\\r\\nJPEGImages/06b6f2d09c629a36.jpg 0.0,515.6541440000001,337.87156250000004,123.52000000000004,0\\r\\nJPEGImages/06c2c79c6c06cf25.jpg 0.0,306.911744,437.97375,456.96,0\\r\\nJPEGImages/06dd09a02c3a3fe2.jpg 0.0,485.12,250.575625,244.48000000000002,0\\r\\nJPEGImages/06e22da5ad727d7a.jpg 0.0,349.867008,204.2596875,293.76,0\\r\\nJPEGImages/0702aabf6dc45807.jpg 0.0,48.99072,155.1690625,72.32000000000002,0\\r\\nJPEGImages/0704914be51b8331.jpg 0.0,113.492992,345.9821875,154.24,0\\r\\nJPEGImages/070f3e8aa47818f1.jpg 0.0,760.533504,339.0989135,287.200256,0 0.0,526.932992,121.53724800000002,362.399744,0\\r\\nJPEGImages/07136ccc5aa263cf.jpg 0.0,121.516032,275.9746875,100.48000000000002,0\\r\\nJPEGImages/0716956402e90e70.jpg 0.0,246.39999999999998,390.8040625,364.16,0\\r\\nJPEGImages/0718e59399118ec4.jpg 0.0,340.533248,79.39875,190.72,0 0.0,340.05248,368.76000000000005,154.88,0 0.0,242.07104,498.163125,177.92000000000007,0\\r\\nJPEGImages/0726bd9a433aefa4.jpg 0.0,174.665216,467.00124999999997,128.0,0 0.0,178.98393599999997,241.08,158.72000000000003,0\\r\\nJPEGImages/0739edc7407d1f9f.jpg 0.0,124.25062399999999,290.91531249999997,145.28000000000003,0 0.0,346.61785599999996,95.55,53.11999999999999,0\\r\\nJPEGImages/073e86bf898cb4d7.jpg 0.0,190.972928,358.575,154.87999999999994,0\\r\\nJPEGImages/07524a82e955c6e4.jpg 0.0,257.780736,389.9503125,129.92000000000007,0\\r\\nJPEGImages/0753e35481e174ff.jpg 0.0,166.503936,500.51093750000007,65.91999999999996,0\\r\\nJPEGImages/0757f3b71d233893.jpg 0.0,509.118464,240.330625,339.19999999999993,0\\r\\nJPEGImages/075a32cc5a02b8e9.jpg 0.0,94.81472,190.1728125,284.79999999999995,0 0.0,233.312256,482.58,254.72000000000003,0\\r\\nJPEGImages/075d1ffe3af0fef0.jpg 0.0,82.999808,256.99992299999997,230.88742399999995,0\\r\\nJPEGImages/075ff18ef6ae4d38.jpg 0.0,206.8608,177.58,110.07999999999998,0 0.0,140.681216,233.94,66.56,0 0.0,325.34988799999996,335.52375,78.08000000000004,0\\r\\nJPEGImages/076ad3942fea32d3.jpg 0.0,367.664128,484.2896875,68.48000000000002,0 0.0,354.429952,553.35,92.80000000000007,0\\r\\nJPEGImages/0781eee4a15b740e.jpg 0.0,281.72032,615.126875,103.68000000000006,0\\r\\nJPEGImages/0782d584a4cb6e3a.jpg 0.0,156.188672,467.42812499999997,224.0,0\\r\\nJPEGImages/07856034afc37c52.jpg 0.0,128.42649600000001,229.375305,134.483968,0\\r\\nJPEGImages/078629a02affb2fa.jpg 0.0,625.916928,529.325,180.905984,0 0.0,374.92428800000005,356.16,58.025983999999994,0\\r\\nJPEGImages/078672700c36508d.jpg 0.0,187.10118400000002,345.55531249999996,373.12,0\\r\\nJPEGImages/078c95d90f317578.jpg 0.0,205.226496,35.8575,75.52,0 0.0,645.973504,262.28999999999996,259.2,0 0.0,564.053504,584.1784375,216.96000000000004,0\\r\\nJPEGImages/07984ebf07ddb1d3.jpg 0.0,289.620992,212.37031249999998,90.24000000000001,0 0.0,257.921536,432.39,96.6400000000001,0\\r\\nJPEGImages/07a2337160da8568.jpg 0.0,426.666496,158.1571875,397.44,0\\r\\nJPEGImages/07a5c9bcce96e118.jpg 0.0,204.48,279.986288,117.84396799999996,0 0.0,325.12,421.02076800000003,126.62783999999999,0\\r\\nJPEGImages/07b038f0432e9c73.jpg 0.0,173.42566399999998,201.2715625,106.88,0 0.0,406.040576,210.63,112.0,0\\r\\nJPEGImages/07b34fceba9bf074.jpg 0.0,190.089216,233.2871875,151.68,0 0.0,59.224064,456.96,119.04000000000008,0\\r\\nJPEGImages/07b965e63ecfa08c.jpg 0.0,368.64,216.56803049999996,465.067008,0\\r\\nJPEGImages/07be4b1f784a131e.jpg 0.0,366.50649599999997,378.21124999999995,350.71999999999997,0\\r\\nJPEGImages/07d235ff619e155c.jpg 0.0,301.332992,145.737857,77.00070400000001,0 0.0,461.99961600000006,426.234144,74.99980800000003,0\\r\\nJPEGImages/07d735a1aaab11b1.jpg 0.0,307.392,345.9821875,90.24000000000001,0 0.0,264.645632,115.5,53.75999999999999,0 0.0,342.454272,448.00531250000006,77.43999999999994,0\\r\\nJPEGImages/07da499452cb5964.jpg 0.0,118.30016,433.705,134.4000000000001,0\\r\\nJPEGImages/07ddd0a5c9411932.jpg 0.0,558.588928,62.32375,186.88,0 0.0,420.26291200000003,74.13000000000001,126.08,0 0.0,882.7919360000001,176.0859375,333.44000000000005,0 0.0,348.69811200000004,177.24374999999998,53.75999999999996,0 0.0,291.02628,317.12,97.28750000000002,0 0.0,329.96608000000003,208.9553125,67.19999999999999,0 0.0,356.38272,273.6,56.31999999999999,0 0.0,256.61512799999997,482.56,41.70000000000004,0 0.0,221.67605550000002,526.4,17.450625000000006,0 0.0,387.60192,408.72,27.519999999999982,0 0.0,497.110528,432.63781250000005,127.36000000000001,0 0.0,275.692544,402.7565625,33.91999999999996,0 0.0,314.596352,443.51312500000006,32.639999999999986,0 0.0,327.08454400000005,452.95625,39.680000000000064,0 0.0,296.34508800000003,462.44156250000003,23.680000000000064,0 0.0,327.5648,414.71999999999997,65.27999999999997,0 0.0,222.61900799999998,562.7109375,24.47999999999999,0 0.0,333.327872,437.93999999999994,14.719999999999914,0 0.0,337.650688,553.23,44.80000000000007,0 0.0,374.99443199999996,896.6400000000001,124.79999999999998,0 0.0,359.264256,577.5618750000001,67.84000000000003,0 0.0,328.525312,572.0625,30.720000000000027,0 0.0,360.705536,611.711875,42.24000000000001,0 0.0,322.281472,698.8799999999999,49.91999999999996,0 0.0,391.444992,732.96,92.15999999999997,0\\r\\nJPEGImages/07f7bf5da01ccf9d.jpg 0.0,271.172096,116.96375,46.08000000000001,0 0.0,266.35571200000004,154.35,33.91999999999999,0 0.0,300.553216,231.5796875,37.75999999999999,0 0.0,223.488,259.01562500000006,44.80000000000001,0 0.0,205.68948600000002,506.88,31.67499999999997,0 0.0,222.04364800000002,348.1165625,35.19999999999999,0 0.0,218.671616,398.7,39.67999999999995,0 0.0,225.56447400000002,567.6800000000001,29.190000000000026,0 0.0,157.9174305,640.0,22.132499999999983,0 0.0,229.74975999999998,499.68,33.27999999999997,0 0.0,307.778048,517.7993749999999,38.39999999999998,0\\r\\nJPEGImages/07ff96c67dc24595.jpg 0.0,180.79999999999998,352.171875,153.59999999999997,0\\r\\nJPEGImages/0812a121f93d0d3f.jpg 0.0,219.014144,296.678125,258.56000000000006,0\\r\\nJPEGImages/0814d527d1cb3def.jpg 0.0,102.304256,386.74875,156.15999999999997,0\\r\\nJPEGImages/08170ab4d50c257c.jpg 0.0,231.252992,151.11375,238.08000000000004,0 0.0,224.426496,530.46,160.0,0\\r\\nJPEGImages/083264081439a560.jpg 0.0,681.713152,50.5846875,132.48000000000002,0\\r\\nJPEGImages/0842a25ec180f889.jpg 0.0,299.104256,343.834494,86.99903999999998,0\\r\\nJPEGImages/084694aa27ac5a15.jpg 0.0,321.801216,394.64593750000006,181.12,0 0.0,493.267968,528.15,193.91999999999996,0 0.0,289.140736,528.898125,97.27999999999997,0\\r\\nJPEGImages/0848b7893fcec6fb.jpg 0.0,464.213504,438.18718750000005,64.63999999999999,0\\r\\nJPEGImages/084c034d23d47169.jpg 0.0,246.393856,367.53937499999995,286.71999999999997,0\\r\\nJPEGImages/0855b0de9820af60.jpg 0.0,507.219456,190.5996875,188.8,0\\r\\nJPEGImages/085bcf79df807dc6.jpg 0.0,433.711104,448.21875,270.0799999999999,0\\r\\nJPEGImages/085e48b2482aa5da.jpg 0.0,424.0,385.98788800000005,587.33568,0\\r\\nJPEGImages/0869faf11c6b6c67.jpg 0.0,246.39999999999998,316.954346,108.79999999999995,0\\r\\nJPEGImages/086d7b4b99fb4bcd.jpg 0.0,546.56,207.74606099999997,87.04000000000002,0 0.0,101.12,526.959888,90.452992,0\\r\\nJPEGImages/086ea2ea18666564.jpg 0.0,245.006336,170.75,104.96000000000001,0 0.0,233.488896,253.25999999999996,113.92000000000002,0\\r\\nJPEGImages/08708f6b44879dc9.jpg 0.0,484.064256,315.460625,156.15999999999997,0 0.0,872.759808,436.38,211.19999999999993,0\\r\\nJPEGImages/087419ffcd6b6273.jpg 0.0,295.466496,368.17934599999995,435.19999999999993,0\\r\\nJPEGImages/0881ae2700e2e5f4.jpg 0.0,274.73152,373.72906250000005,58.24000000000001,0\\r\\nJPEGImages/08891dbc210fddc1.jpg 0.0,292.502528,218.986875,232.96,0\\r\\nJPEGImages/08a4d0540e663fcd.jpg 0.0,271.369728,431.78406249999995,265.6,0\\r\\nJPEGImages/08b1ca9b168c9b98.jpg 0.0,337.493504,441.1753125,211.84000000000003,0 0.0,304.64,234.99000000000004,99.19999999999999,0\\r\\nJPEGImages/08b32ddd8ba37945.jpg 0.0,380.50816,129.1296875,69.75999999999999,0 0.0,376.654336,31.71,96.64,0 0.0,369.911808,347.47625000000005,56.31999999999999,0 0.0,359.796736,521.8843750000001,92.15999999999997,0 0.0,239.744274,879.04,23.07749999999999,0 0.0,335.23199999999997,625.371875,39.680000000000064,0 0.0,331.37919999999997,693.225,19.840000000000032,0 0.0,266.362086,988.1600000000001,11.467500000000033,0\\r\\nJPEGImages/08bd9bab0540291f.jpg 0.0,195.090432,306.069375,281.59999999999997,0\\r\\nJPEGImages/08c56c40db20b7f4.jpg 0.0,503.04,357.152311,74.23999999999995,0\\r\\nJPEGImages/08ccb4a7c646f371.jpg 0.0,168.907264,304.5753125,96.63999999999999,0 0.0,178.504192,519.33,69.75999999999999,0\\r\\nJPEGImages/08ce49c9f6726fe1.jpg 0.0,169.38649600000002,169.2559375,178.56000000000003,0 0.0,163.83999999999997,462.84,165.12,0\\r\\nJPEGImages/08d234082e117219.jpg 0.0,220.16,346.378669,839.6800000000001,0\\r\\nJPEGImages/08d2aceb0e39427a.jpg 0.0,429.49785599999996,395.46656199999995,100.97663999999997,0\\r\\nJPEGImages/08d5f23e4b6d2d8e.jpg 0.0,222.932992,403.6103125,110.72000000000003,0 0.0,356.8,244.44,113.92000000000002,0 0.0,396.26649599999996,348.5434375,88.95999999999998,0\\r\\nJPEGImages/08ef64bb09c61597.jpg 0.0,257.706496,503.71250000000003,271.36,0\\r\\nJPEGImages/08f175fcdfab00ea.jpg 0.0,293.12256,438.18718750000005,498.56,0\\r\\nJPEGImages/09015a2c20914dbe.jpg 0.0,316.631552,239.04999999999998,58.879999999999995,0\\r\\nJPEGImages/090c734360b69cff.jpg 0.0,677.8879999999999,370.58589649999993,286.268416,0\\r\\nJPEGImages/0910e871fc8a3b98.jpg 0.0,180.08832,448.321883,75.44012799999996,0 0.0,201.89286399999997,230.08708800000002,77.91308800000002,0\\r\\nJPEGImages/0916a3379ed65e66.jpg 0.0,532.48,77.50342500000001,215.79776,0 0.0,321.378304,240.340464,253.14611200000002,0 0.0,275.69203200000004,423.84760249999994,171.1851519999999,0 0.0,152.812544,521.21102,230.322176,0\\r\\nJPEGImages/0916c54941948225.jpg 0.0,220.58649599999998,561.7675,272.64,0\\r\\nJPEGImages/0920e861575ab666.jpg 0.0,128.0,481.7284375,115.83999999999992,0 0.0,239.01644800000003,172.83,103.03999999999999,0 0.0,144.569344,219.6271875,96.64000000000004,0 0.0,95.689216,291.7671875,103.04000000000002,0 0.0,168.991736,900.48,73.30500000000005,0\\r\\nJPEGImages/092bc7928a797d09.jpg 0.0,608.812544,213.4375,162.55999999999997,0 0.0,318.3744,423.15,188.80000000000007,0\\r\\nJPEGImages/0930c6732e324d19.jpg 0.0,111.00006400000001,305.81598199999996,103.00006400000001,0\\r\\nJPEGImages/09344b7249c06c22.jpg 0.0,318.322176,238.76553049999998,290.98700800000006,0\\r\\nJPEGImages/0939bcd39907749b.jpg 0.0,207.112192,430.716875,138.24,0 0.0,329.93433600000003,140.07,114.56000000000003,0\\r\\nJPEGImages/093a5de441063d3e.jpg 0.0,310.084608,343.84917850000005,211.33209599999998,0\\r\\nJPEGImages/0942eb8ff34587ab.jpg 0.0,250.026496,307.34999999999997,87.04000000000002,0\\r\\nJPEGImages/094b1ee26856677a.jpg 0.0,419.608576,339.7925,512.0,0\\r\\nJPEGImages/094c0e3dc789f3cb.jpg 0.0,538.59072,427.9421875,197.76,0\\r\\nJPEGImages/09517b5e386ebda1.jpg 0.0,527.36,339.7925,101.12,0 0.0,452.692992,280.34999999999997,100.48000000000002,0\\r\\nJPEGImages/096048ffb232e778.jpg 0.0,218.026496,419.19125,113.92000000000007,0 0.0,305.49350400000003,563.64,108.79999999999995,0\\r\\nJPEGImages/09613c3105f8cb26.jpg 0.0,279.466496,405.104375,500.48,0\\r\\nJPEGImages/096cba0a435bd3a6.jpg 0.0,464.213504,377.9978125,481.91999999999996,0\\r\\nJPEGImages/097c9ca8566cdfb8.jpg 0.0,259.363328,311.48522349999996,80.0,0\\r\\nJPEGImages/098197b3e323d63e.jpg 0.0,548.363776,557.6695,261.12,0\\r\\nJPEGImages/098c748499963ea6.jpg 0.0,356.631552,329.7609375,28.80000000000001,0 0.0,250.98035199999998,354.2699999999999,40.32000000000005,0 0.0,305.479168,428.7959375,33.92000000000007,0 0.0,337.987072,444.1796875,23.680000000000064,0 0.0,248.76929600000003,754.56,29.864999999999927,0 0.0,310.73792,540.42375,33.27999999999997,0 0.0,325.55776000000003,599.625,33.91999999999996,0 0.0,267.48756899999995,882.56,32.31749999999996,0\\r\\nJPEGImages/098f01b6d88b00ae.jpg 0.0,445.718528,138.734375,104.96000000000001,0 0.0,342.45376,264.59999999999997,116.48000000000002,0 0.0,716.608,464.01312500000006,48.639999999999986,0 0.0,627.2716800000001,584.3906249999999,60.15999999999997,0\\r\\nJPEGImages/0995b72d25487ffe.jpg 0.0,72.96,388.17143899999996,184.31999999999994,0\\r\\nJPEGImages/09a9618977e68e27.jpg 0.0,230.827008,295.1840625,120.96000000000004,0\\r\\nJPEGImages/09b16a8d0051c2ea.jpg 0.0,490.666496,289.2078125,721.28,0\\r\\nJPEGImages/09baac22217f1bc7.jpg 0.0,284.066304,163.92,393.670656,0 0.0,343.601152,285.6,80.78131200000001,0 0.0,324.890624,448.1241545,144.497664,0 0.0,486.48499200000003,547.6194825,244.6223359999999,0\\r\\nJPEGImages/09bf3538c2dde77c.jpg 0.0,444.852736,310.2715325,670.5838080000001,0\\r\\nJPEGImages/09c33e45b9306155.jpg 0.0,131.6224,336.68485,167.70457600000003,0\\r\\nJPEGImages/09cecef0bf6393f4.jpg 0.0,162.82163200000002,236.91562500000003,147.2,0\\r\\nJPEGImages/09d14dd0fdebd374.jpg 0.0,182.07999999999998,386.15522300000003,202.295296,0 0.0,316.15999999999997,523.43928,244.68172800000002,0\\r\\nJPEGImages/09dbb4980eabd560.jpg 0.0,293.604352,400.62218750000005,150.39999999999998,0\\r\\nJPEGImages/09e312582d167ee8.jpg 0.0,613.823488,371.5946875,632.96,0\\r\\nJPEGImages/09e31b0e888baee7.jpg 0.0,277.654016,403.1834375,343.68000000000006,0 0.0,362.345984,226.58999999999997,138.88000000000005,0 0.0,372.451328,520.1471875,126.08000000000004,0\\r\\nJPEGImages/09f10c5c8aa7a8df.jpg 0.0,521.812992,280.6703125,181.12,0 0.0,496.213504,70.98,199.68,0 0.0,392.106496,436.90656249999995,92.80000000000007,0\\r\\nJPEGImages/09fa435fe0ce7da6.jpg 0.0,247.35488,287.286875,119.04000000000002,0\\r\\nJPEGImages/0a1a7dca62f55779.jpg 0.0,517.019648,340.383978,987.189248,0\\r\\nJPEGImages/0a1cfb1bb8e135c2.jpg 0.0,316.263936,502.6453125,220.79999999999995,0\\r\\nJPEGImages/0a35435c134e5754.jpg 0.0,322.281472,330.828125,135.68,0\\r\\nJPEGImages/0a3ceda0ccb026a5.jpg 0.0,208.498688,359.42875,88.31999999999994,0\\r\\nJPEGImages/0a3e273c3996e71a.jpg 0.0,221.898752,279.60312500000003,120.32,0 0.0,174.34879999999998,429.23999999999995,115.19999999999993,0\\r\\nJPEGImages/0a3e36caf47a64ca.jpg 0.0,343.03999999999996,351.745,156.16000000000008,0\\r\\nJPEGImages/0a42011b38a93d89.jpg 0.0,443.52,347.76106100000004,762.88,0\\r\\nJPEGImages/0a4c344da9813939.jpg 0.0,286.4,530.900681,411.721728,0\\r\\nJPEGImages/0a660882aa38817b.jpg 0.0,207.54278399999998,579.69625,107.51999999999998,0\\r\\nJPEGImages/0a66f291fc9e38de.jpg 0.0,408.094208,207.1009675,48.999423999999976,0 0.0,395.29369599999995,478.40620799999994,56.00051199999996,0\\r\\nJPEGImages/0a6f451dab9a4e96.jpg 0.0,168.996352,504.139375,144.64,0 0.0,460.526592,190.47,110.72000000000003,0 0.0,127.544832,379.06499999999994,112.63999999999999,0\\r\\nJPEGImages/0a7e38d8d7d2d22b.jpg 0.0,334.285824,262.955,185.60000000000002,0 0.0,351.428608,499.17,62.07999999999993,0\\r\\nJPEGImages/0a891d55e0f2c791.jpg 0.0,111.36,351.92941,280.65791999999993,0\\r\\nJPEGImages/0a89f0320ab2f47e.jpg 0.0,504.0,273.264202,600.375296,0\\r\\nJPEGImages/0a8ab3f65ad3b6a6.jpg 0.0,120.55552,268.2909375,218.24,0 0.0,360.22528,250.32,204.79999999999995,0\\r\\nJPEGImages/0a97d686814393fa.jpg 0.0,199.67999999999998,65.0984375,177.599488,0 0.0,135.04000000000002,223.12483199999997,166.40000000000003,0 0.0,106.24000000000001,195.2953125,59.200512,0 0.0,160.32,386.91779750000006,65.6005120000001,0 0.0,112.22,645.199872,115.95294399999997,0\\r\\nJPEGImages/0a9992a31135bea4.jpg 0.0,352.0,180.42025550000002,126.75788800000001,0 0.0,303.36,412.38825599999996,146.640896,0\\r\\nJPEGImages/0a99b5b186535b00.jpg 0.0,174.39999999999998,534.995266,407.2939520000001,0\\r\\nJPEGImages/0aa2f67bd94d0478.jpg 0.0,530.500096,264.499946,706.1544960000001,0\\r\\nJPEGImages/0aa356093c681781.jpg 0.0,224.628736,177.05033349999997,78.76915200000002,0 0.0,798.413312,234.08616,103.74451199999999,0 0.0,253.84448,294.0871645,85.173248,0 0.0,166.675456,375.2721125,85.81427200000007,0 0.0,55.535868,960.920576,71.99311200000002,0\\r\\nJPEGImages/0aabb45f12759372.jpg 0.0,216.746496,188.8921875,85.12,0\\r\\nJPEGImages/0ab18e23bfd458d4.jpg 0.0,235.946496,248.44125000000003,220.16000000000003,0\\r\\n'}"
            ]
          },
          "metadata": {
            "tags": []
          },
          "execution_count": 11
        }
      ]
    },
    {
      "metadata": {
        "id": "pLKJvv2v9_a-",
        "colab_type": "code",
        "colab": {}
      },
      "cell_type": "code",
      "source": [
        "!mkdir yolo3"
      ],
      "execution_count": 0,
      "outputs": []
    },
    {
      "metadata": {
        "id": "WuIyJ71L4dFV",
        "colab_type": "code",
        "outputId": "b98cb7cc-5cc5-4cc8-c8ed-4c8cd89c9428",
        "colab": {
          "base_uri": "https://localhost:8080/",
          "height": 36
        }
      },
      "cell_type": "code",
      "source": [
        "%cd yolo3"
      ],
      "execution_count": 0,
      "outputs": [
        {
          "output_type": "stream",
          "text": [
            "/content/yolo3\n"
          ],
          "name": "stdout"
        }
      ]
    },
    {
      "metadata": {
        "id": "ivAlEqB60yJz",
        "colab_type": "code",
        "outputId": "287989e5-d123-450e-b3ee-f92a56f518f6",
        "colab": {
          "resources": {
            "http://localhost:8080/nbextensions/google.colab/files.js": {
              "data": "Ly8gQ29weXJpZ2h0IDIwMTcgR29vZ2xlIExMQwovLwovLyBMaWNlbnNlZCB1bmRlciB0aGUgQXBhY2hlIExpY2Vuc2UsIFZlcnNpb24gMi4wICh0aGUgIkxpY2Vuc2UiKTsKLy8geW91IG1heSBub3QgdXNlIHRoaXMgZmlsZSBleGNlcHQgaW4gY29tcGxpYW5jZSB3aXRoIHRoZSBMaWNlbnNlLgovLyBZb3UgbWF5IG9idGFpbiBhIGNvcHkgb2YgdGhlIExpY2Vuc2UgYXQKLy8KLy8gICAgICBodHRwOi8vd3d3LmFwYWNoZS5vcmcvbGljZW5zZXMvTElDRU5TRS0yLjAKLy8KLy8gVW5sZXNzIHJlcXVpcmVkIGJ5IGFwcGxpY2FibGUgbGF3IG9yIGFncmVlZCB0byBpbiB3cml0aW5nLCBzb2Z0d2FyZQovLyBkaXN0cmlidXRlZCB1bmRlciB0aGUgTGljZW5zZSBpcyBkaXN0cmlidXRlZCBvbiBhbiAiQVMgSVMiIEJBU0lTLAovLyBXSVRIT1VUIFdBUlJBTlRJRVMgT1IgQ09ORElUSU9OUyBPRiBBTlkgS0lORCwgZWl0aGVyIGV4cHJlc3Mgb3IgaW1wbGllZC4KLy8gU2VlIHRoZSBMaWNlbnNlIGZvciB0aGUgc3BlY2lmaWMgbGFuZ3VhZ2UgZ292ZXJuaW5nIHBlcm1pc3Npb25zIGFuZAovLyBsaW1pdGF0aW9ucyB1bmRlciB0aGUgTGljZW5zZS4KCi8qKgogKiBAZmlsZW92ZXJ2aWV3IEhlbHBlcnMgZm9yIGdvb2dsZS5jb2xhYiBQeXRob24gbW9kdWxlLgogKi8KKGZ1bmN0aW9uKHNjb3BlKSB7CmZ1bmN0aW9uIHNwYW4odGV4dCwgc3R5bGVBdHRyaWJ1dGVzID0ge30pIHsKICBjb25zdCBlbGVtZW50ID0gZG9jdW1lbnQuY3JlYXRlRWxlbWVudCgnc3BhbicpOwogIGVsZW1lbnQudGV4dENvbnRlbnQgPSB0ZXh0OwogIGZvciAoY29uc3Qga2V5IG9mIE9iamVjdC5rZXlzKHN0eWxlQXR0cmlidXRlcykpIHsKICAgIGVsZW1lbnQuc3R5bGVba2V5XSA9IHN0eWxlQXR0cmlidXRlc1trZXldOwogIH0KICByZXR1cm4gZWxlbWVudDsKfQoKLy8gTWF4IG51bWJlciBvZiBieXRlcyB3aGljaCB3aWxsIGJlIHVwbG9hZGVkIGF0IGEgdGltZS4KY29uc3QgTUFYX1BBWUxPQURfU0laRSA9IDEwMCAqIDEwMjQ7Ci8vIE1heCBhbW91bnQgb2YgdGltZSB0byBibG9jayB3YWl0aW5nIGZvciB0aGUgdXNlci4KY29uc3QgRklMRV9DSEFOR0VfVElNRU9VVF9NUyA9IDMwICogMTAwMDsKCmZ1bmN0aW9uIF91cGxvYWRGaWxlcyhpbnB1dElkLCBvdXRwdXRJZCkgewogIGNvbnN0IHN0ZXBzID0gdXBsb2FkRmlsZXNTdGVwKGlucHV0SWQsIG91dHB1dElkKTsKICBjb25zdCBvdXRwdXRFbGVtZW50ID0gZG9jdW1lbnQuZ2V0RWxlbWVudEJ5SWQob3V0cHV0SWQpOwogIC8vIENhY2hlIHN0ZXBzIG9uIHRoZSBvdXRwdXRFbGVtZW50IHRvIG1ha2UgaXQgYXZhaWxhYmxlIGZvciB0aGUgbmV4dCBjYWxsCiAgLy8gdG8gdXBsb2FkRmlsZXNDb250aW51ZSBmcm9tIFB5dGhvbi4KICBvdXRwdXRFbGVtZW50LnN0ZXBzID0gc3RlcHM7CgogIHJldHVybiBfdXBsb2FkRmlsZXNDb250aW51ZShvdXRwdXRJZCk7Cn0KCi8vIFRoaXMgaXMgcm91Z2hseSBhbiBhc3luYyBnZW5lcmF0b3IgKG5vdCBzdXBwb3J0ZWQgaW4gdGhlIGJyb3dzZXIgeWV0KSwKLy8gd2hlcmUgdGhlcmUgYXJlIG11bHRpcGxlIGFzeW5jaHJvbm91cyBzdGVwcyBhbmQgdGhlIFB5dGhvbiBzaWRlIGlzIGdvaW5nCi8vIHRvIHBvbGwgZm9yIGNvbXBsZXRpb24gb2YgZWFjaCBzdGVwLgovLyBUaGlzIHVzZXMgYSBQcm9taXNlIHRvIGJsb2NrIHRoZSBweXRob24gc2lkZSBvbiBjb21wbGV0aW9uIG9mIGVhY2ggc3RlcCwKLy8gdGhlbiBwYXNzZXMgdGhlIHJlc3VsdCBvZiB0aGUgcHJldmlvdXMgc3RlcCBhcyB0aGUgaW5wdXQgdG8gdGhlIG5leHQgc3RlcC4KZnVuY3Rpb24gX3VwbG9hZEZpbGVzQ29udGludWUob3V0cHV0SWQpIHsKICBjb25zdCBvdXRwdXRFbGVtZW50ID0gZG9jdW1lbnQuZ2V0RWxlbWVudEJ5SWQob3V0cHV0SWQpOwogIGNvbnN0IHN0ZXBzID0gb3V0cHV0RWxlbWVudC5zdGVwczsKCiAgY29uc3QgbmV4dCA9IHN0ZXBzLm5leHQob3V0cHV0RWxlbWVudC5sYXN0UHJvbWlzZVZhbHVlKTsKICByZXR1cm4gUHJvbWlzZS5yZXNvbHZlKG5leHQudmFsdWUucHJvbWlzZSkudGhlbigodmFsdWUpID0+IHsKICAgIC8vIENhY2hlIHRoZSBsYXN0IHByb21pc2UgdmFsdWUgdG8gbWFrZSBpdCBhdmFpbGFibGUgdG8gdGhlIG5leHQKICAgIC8vIHN0ZXAgb2YgdGhlIGdlbmVyYXRvci4KICAgIG91dHB1dEVsZW1lbnQubGFzdFByb21pc2VWYWx1ZSA9IHZhbHVlOwogICAgcmV0dXJuIG5leHQudmFsdWUucmVzcG9uc2U7CiAgfSk7Cn0KCi8qKgogKiBHZW5lcmF0b3IgZnVuY3Rpb24gd2hpY2ggaXMgY2FsbGVkIGJldHdlZW4gZWFjaCBhc3luYyBzdGVwIG9mIHRoZSB1cGxvYWQKICogcHJvY2Vzcy4KICogQHBhcmFtIHtzdHJpbmd9IGlucHV0SWQgRWxlbWVudCBJRCBvZiB0aGUgaW5wdXQgZmlsZSBwaWNrZXIgZWxlbWVudC4KICogQHBhcmFtIHtzdHJpbmd9IG91dHB1dElkIEVsZW1lbnQgSUQgb2YgdGhlIG91dHB1dCBkaXNwbGF5LgogKiBAcmV0dXJuIHshSXRlcmFibGU8IU9iamVjdD59IEl0ZXJhYmxlIG9mIG5leHQgc3RlcHMuCiAqLwpmdW5jdGlvbiogdXBsb2FkRmlsZXNTdGVwKGlucHV0SWQsIG91dHB1dElkKSB7CiAgY29uc3QgaW5wdXRFbGVtZW50ID0gZG9jdW1lbnQuZ2V0RWxlbWVudEJ5SWQoaW5wdXRJZCk7CiAgaW5wdXRFbGVtZW50LmRpc2FibGVkID0gZmFsc2U7CgogIGNvbnN0IG91dHB1dEVsZW1lbnQgPSBkb2N1bWVudC5nZXRFbGVtZW50QnlJZChvdXRwdXRJZCk7CiAgb3V0cHV0RWxlbWVudC5pbm5lckhUTUwgPSAnJzsKCiAgY29uc3QgcGlja2VkUHJvbWlzZSA9IG5ldyBQcm9taXNlKChyZXNvbHZlKSA9PiB7CiAgICBpbnB1dEVsZW1lbnQuYWRkRXZlbnRMaXN0ZW5lcignY2hhbmdlJywgKGUpID0+IHsKICAgICAgcmVzb2x2ZShlLnRhcmdldC5maWxlcyk7CiAgICB9KTsKICB9KTsKCiAgY29uc3QgY2FuY2VsID0gZG9jdW1lbnQuY3JlYXRlRWxlbWVudCgnYnV0dG9uJyk7CiAgaW5wdXRFbGVtZW50LnBhcmVudEVsZW1lbnQuYXBwZW5kQ2hpbGQoY2FuY2VsKTsKICBjYW5jZWwudGV4dENvbnRlbnQgPSAnQ2FuY2VsIHVwbG9hZCc7CiAgY29uc3QgY2FuY2VsUHJvbWlzZSA9IG5ldyBQcm9taXNlKChyZXNvbHZlKSA9PiB7CiAgICBjYW5jZWwub25jbGljayA9ICgpID0+IHsKICAgICAgcmVzb2x2ZShudWxsKTsKICAgIH07CiAgfSk7CgogIC8vIENhbmNlbCB1cGxvYWQgaWYgdXNlciBoYXNuJ3QgcGlja2VkIGFueXRoaW5nIGluIHRpbWVvdXQuCiAgY29uc3QgdGltZW91dFByb21pc2UgPSBuZXcgUHJvbWlzZSgocmVzb2x2ZSkgPT4gewogICAgc2V0VGltZW91dCgoKSA9PiB7CiAgICAgIHJlc29sdmUobnVsbCk7CiAgICB9LCBGSUxFX0NIQU5HRV9USU1FT1VUX01TKTsKICB9KTsKCiAgLy8gV2FpdCBmb3IgdGhlIHVzZXIgdG8gcGljayB0aGUgZmlsZXMuCiAgY29uc3QgZmlsZXMgPSB5aWVsZCB7CiAgICBwcm9taXNlOiBQcm9taXNlLnJhY2UoW3BpY2tlZFByb21pc2UsIHRpbWVvdXRQcm9taXNlLCBjYW5jZWxQcm9taXNlXSksCiAgICByZXNwb25zZTogewogICAgICBhY3Rpb246ICdzdGFydGluZycsCiAgICB9CiAgfTsKCiAgaWYgKCFmaWxlcykgewogICAgcmV0dXJuIHsKICAgICAgcmVzcG9uc2U6IHsKICAgICAgICBhY3Rpb246ICdjb21wbGV0ZScsCiAgICAgIH0KICAgIH07CiAgfQoKICBjYW5jZWwucmVtb3ZlKCk7CgogIC8vIERpc2FibGUgdGhlIGlucHV0IGVsZW1lbnQgc2luY2UgZnVydGhlciBwaWNrcyBhcmUgbm90IGFsbG93ZWQuCiAgaW5wdXRFbGVtZW50LmRpc2FibGVkID0gdHJ1ZTsKCiAgZm9yIChjb25zdCBmaWxlIG9mIGZpbGVzKSB7CiAgICBjb25zdCBsaSA9IGRvY3VtZW50LmNyZWF0ZUVsZW1lbnQoJ2xpJyk7CiAgICBsaS5hcHBlbmQoc3BhbihmaWxlLm5hbWUsIHtmb250V2VpZ2h0OiAnYm9sZCd9KSk7CiAgICBsaS5hcHBlbmQoc3BhbigKICAgICAgICBgKCR7ZmlsZS50eXBlIHx8ICduL2EnfSkgLSAke2ZpbGUuc2l6ZX0gYnl0ZXMsIGAgKwogICAgICAgIGBsYXN0IG1vZGlmaWVkOiAkewogICAgICAgICAgICBmaWxlLmxhc3RNb2RpZmllZERhdGUgPyBmaWxlLmxhc3RNb2RpZmllZERhdGUudG9Mb2NhbGVEYXRlU3RyaW5nKCkgOgogICAgICAgICAgICAgICAgICAgICAgICAgICAgICAgICAgICAnbi9hJ30gLSBgKSk7CiAgICBjb25zdCBwZXJjZW50ID0gc3BhbignMCUgZG9uZScpOwogICAgbGkuYXBwZW5kQ2hpbGQocGVyY2VudCk7CgogICAgb3V0cHV0RWxlbWVudC5hcHBlbmRDaGlsZChsaSk7CgogICAgY29uc3QgZmlsZURhdGFQcm9taXNlID0gbmV3IFByb21pc2UoKHJlc29sdmUpID0+IHsKICAgICAgY29uc3QgcmVhZGVyID0gbmV3IEZpbGVSZWFkZXIoKTsKICAgICAgcmVhZGVyLm9ubG9hZCA9IChlKSA9PiB7CiAgICAgICAgcmVzb2x2ZShlLnRhcmdldC5yZXN1bHQpOwogICAgICB9OwogICAgICByZWFkZXIucmVhZEFzQXJyYXlCdWZmZXIoZmlsZSk7CiAgICB9KTsKICAgIC8vIFdhaXQgZm9yIHRoZSBkYXRhIHRvIGJlIHJlYWR5LgogICAgbGV0IGZpbGVEYXRhID0geWllbGQgewogICAgICBwcm9taXNlOiBmaWxlRGF0YVByb21pc2UsCiAgICAgIHJlc3BvbnNlOiB7CiAgICAgICAgYWN0aW9uOiAnY29udGludWUnLAogICAgICB9CiAgICB9OwoKICAgIC8vIFVzZSBhIGNodW5rZWQgc2VuZGluZyB0byBhdm9pZCBtZXNzYWdlIHNpemUgbGltaXRzLiBTZWUgYi82MjExNTY2MC4KICAgIGxldCBwb3NpdGlvbiA9IDA7CiAgICB3aGlsZSAocG9zaXRpb24gPCBmaWxlRGF0YS5ieXRlTGVuZ3RoKSB7CiAgICAgIGNvbnN0IGxlbmd0aCA9IE1hdGgubWluKGZpbGVEYXRhLmJ5dGVMZW5ndGggLSBwb3NpdGlvbiwgTUFYX1BBWUxPQURfU0laRSk7CiAgICAgIGNvbnN0IGNodW5rID0gbmV3IFVpbnQ4QXJyYXkoZmlsZURhdGEsIHBvc2l0aW9uLCBsZW5ndGgpOwogICAgICBwb3NpdGlvbiArPSBsZW5ndGg7CgogICAgICBjb25zdCBiYXNlNjQgPSBidG9hKFN0cmluZy5mcm9tQ2hhckNvZGUuYXBwbHkobnVsbCwgY2h1bmspKTsKICAgICAgeWllbGQgewogICAgICAgIHJlc3BvbnNlOiB7CiAgICAgICAgICBhY3Rpb246ICdhcHBlbmQnLAogICAgICAgICAgZmlsZTogZmlsZS5uYW1lLAogICAgICAgICAgZGF0YTogYmFzZTY0LAogICAgICAgIH0sCiAgICAgIH07CiAgICAgIHBlcmNlbnQudGV4dENvbnRlbnQgPQogICAgICAgICAgYCR7TWF0aC5yb3VuZCgocG9zaXRpb24gLyBmaWxlRGF0YS5ieXRlTGVuZ3RoKSAqIDEwMCl9JSBkb25lYDsKICAgIH0KICB9CgogIC8vIEFsbCBkb25lLgogIHlpZWxkIHsKICAgIHJlc3BvbnNlOiB7CiAgICAgIGFjdGlvbjogJ2NvbXBsZXRlJywKICAgIH0KICB9Owp9CgpzY29wZS5nb29nbGUgPSBzY29wZS5nb29nbGUgfHwge307CnNjb3BlLmdvb2dsZS5jb2xhYiA9IHNjb3BlLmdvb2dsZS5jb2xhYiB8fCB7fTsKc2NvcGUuZ29vZ2xlLmNvbGFiLl9maWxlcyA9IHsKICBfdXBsb2FkRmlsZXMsCiAgX3VwbG9hZEZpbGVzQ29udGludWUsCn07Cn0pKHNlbGYpOwo=",
              "ok": true,
              "headers": [
                [
                  "content-type",
                  "application/javascript"
                ]
              ],
              "status": 200,
              "status_text": "OK"
            }
          },
          "base_uri": "https://localhost:8080/",
          "height": 176
        }
      },
      "cell_type": "code",
      "source": [
        "files.upload() # added model.py file\n",
        "files.upload() # added utils.py file"
      ],
      "execution_count": 0,
      "outputs": [
        {
          "output_type": "display_data",
          "data": {
            "text/html": [
              "\n",
              "     <input type=\"file\" id=\"files-b1d896a5-cda8-4974-9249-2e4d28523e76\" name=\"files[]\" multiple disabled />\n",
              "     <output id=\"result-b1d896a5-cda8-4974-9249-2e4d28523e76\">\n",
              "      Upload widget is only available when the cell has been executed in the\n",
              "      current browser session. Please rerun this cell to enable.\n",
              "      </output>\n",
              "      <script src=\"/nbextensions/google.colab/files.js\"></script> "
            ],
            "text/plain": [
              "<IPython.core.display.HTML object>"
            ]
          },
          "metadata": {
            "tags": []
          }
        },
        {
          "output_type": "stream",
          "text": [
            "Saving model.py to model.py\n"
          ],
          "name": "stdout"
        },
        {
          "output_type": "display_data",
          "data": {
            "text/html": [
              "\n",
              "     <input type=\"file\" id=\"files-6a3098ab-61bf-486e-93e1-33b961302ebd\" name=\"files[]\" multiple disabled />\n",
              "     <output id=\"result-6a3098ab-61bf-486e-93e1-33b961302ebd\">\n",
              "      Upload widget is only available when the cell has been executed in the\n",
              "      current browser session. Please rerun this cell to enable.\n",
              "      </output>\n",
              "      <script src=\"/nbextensions/google.colab/files.js\"></script> "
            ],
            "text/plain": [
              "<IPython.core.display.HTML object>"
            ]
          },
          "metadata": {
            "tags": []
          }
        },
        {
          "output_type": "stream",
          "text": [
            "Saving utils.py to utils.py\n"
          ],
          "name": "stdout"
        },
        {
          "output_type": "execute_result",
          "data": {
            "text/plain": [
              "{'utils.py': b'\"\"\"Miscellaneous utility functions.\"\"\"\\r\\n\\r\\nfrom functools import reduce\\r\\n\\r\\nfrom PIL import Image\\r\\nimport numpy as np\\r\\nfrom matplotlib.colors import rgb_to_hsv, hsv_to_rgb\\r\\n\\r\\ndef compose(*funcs):\\r\\n    \"\"\"Compose arbitrarily many functions, evaluated left to right.\\r\\n\\r\\n    Reference: https://mathieularose.com/function-composition-in-python/\\r\\n    \"\"\"\\r\\n    # return lambda x: reduce(lambda v, f: f(v), funcs, x)\\r\\n    if funcs:\\r\\n        return reduce(lambda f, g: lambda *a, **kw: g(f(*a, **kw)), funcs)\\r\\n    else:\\r\\n        raise ValueError(\\'Composition of empty sequence not supported.\\')\\r\\n\\r\\ndef letterbox_image(image, size):\\r\\n    \\'\\'\\'resize image with unchanged aspect ratio using padding\\'\\'\\'\\r\\n    iw, ih = image.size\\r\\n    w, h = size\\r\\n    scale = min(w/iw, h/ih)\\r\\n    nw = int(iw*scale)\\r\\n    nh = int(ih*scale)\\r\\n\\r\\n    image = image.resize((nw,nh), Image.BICUBIC)\\r\\n    new_image = Image.new(\\'RGB\\', size, (128,128,128))\\r\\n    new_image.paste(image, ((w-nw)//2, (h-nh)//2))\\r\\n    return new_image\\r\\n\\r\\ndef rand(a=0, b=1):\\r\\n    return np.random.rand()*(b-a) + a\\r\\n\\r\\ndef get_random_data(annotation_line, input_shape, random=True, max_boxes=20, jitter=.3, hue=.1, sat=1.5, val=1.5, proc_img=True):\\r\\n    \\'\\'\\'random preprocessing for real-time data augmentation\\'\\'\\'\\r\\n    line = annotation_line.split()\\r\\n    image = Image.open(line[0])\\r\\n    iw, ih = image.size\\r\\n    h, w = input_shape\\r\\n    box = np.array([np.array(list(map(float,box.split(\\',\\')))) for box in line[1:]])\\r\\n\\r\\n    if not random:\\r\\n        # resize image\\r\\n        scale = min(w/iw, h/ih)\\r\\n        nw = int(iw*scale)\\r\\n        nh = int(ih*scale)\\r\\n        dx = (w-nw)//2\\r\\n        dy = (h-nh)//2\\r\\n        image_data=0\\r\\n        if proc_img:\\r\\n            image = image.resize((nw,nh), Image.BICUBIC)\\r\\n            new_image = Image.new(\\'RGB\\', (w,h), (128,128,128))\\r\\n            new_image.paste(image, (dx, dy))\\r\\n            image_data = np.array(new_image)/255.\\r\\n\\r\\n        # correct boxes\\r\\n        box_data = np.zeros((max_boxes,5))\\r\\n        if len(box)>0:\\r\\n            np.random.shuffle(box)\\r\\n            if len(box)>max_boxes: box = box[:max_boxes]\\r\\n            box[:, [0,2]] = box[:, [0,2]]*scale + dx\\r\\n            box[:, [1,3]] = box[:, [1,3]]*scale + dy\\r\\n            box_data[:len(box)] = box\\r\\n\\r\\n        return image_data, box_data\\r\\n\\r\\n    # resize image\\r\\n    new_ar = w/h * rand(1-jitter,1+jitter)/rand(1-jitter,1+jitter)\\r\\n    scale = rand(.25, 2)\\r\\n    if new_ar < 1:\\r\\n        nh = int(scale*h)\\r\\n        nw = int(nh*new_ar)\\r\\n    else:\\r\\n        nw = int(scale*w)\\r\\n        nh = int(nw/new_ar)\\r\\n    image = image.resize((nw,nh), Image.BICUBIC)\\r\\n\\r\\n    # place image\\r\\n    dx = int(rand(0, w-nw))\\r\\n    dy = int(rand(0, h-nh))\\r\\n    new_image = Image.new(\\'RGB\\', (w,h), (128,128,128))\\r\\n    new_image.paste(image, (dx, dy))\\r\\n    image = new_image\\r\\n\\r\\n    # flip image or not\\r\\n    flip = rand()<.5\\r\\n    if flip: image = image.transpose(Image.FLIP_LEFT_RIGHT)\\r\\n\\r\\n    # distort image\\r\\n    hue = rand(-hue, hue)\\r\\n    sat = rand(1, sat) if rand()<.5 else 1/rand(1, sat)\\r\\n    val = rand(1, val) if rand()<.5 else 1/rand(1, val)\\r\\n    x = rgb_to_hsv(np.array(image)/255.)\\r\\n    x[..., 0] += hue\\r\\n    x[..., 0][x[..., 0]>1] -= 1\\r\\n    x[..., 0][x[..., 0]<0] += 1\\r\\n    x[..., 1] *= sat\\r\\n    x[..., 2] *= val\\r\\n    x[x>1] = 1\\r\\n    x[x<0] = 0\\r\\n    image_data = hsv_to_rgb(x) # numpy array, 0 to 1\\r\\n\\r\\n    # correct boxes\\r\\n    box_data = np.zeros((max_boxes,5))\\r\\n    if len(box)>0:\\r\\n        np.random.shuffle(box)\\r\\n        box[:, [0,2]] = box[:, [0,2]]*nw/iw + dx\\r\\n        box[:, [1,3]] = box[:, [1,3]]*nh/ih + dy\\r\\n        if flip: box[:, [0,2]] = w - box[:, [2,0]]\\r\\n        box[:, 0:2][box[:, 0:2]<0] = 0\\r\\n        box[:, 2][box[:, 2]>w] = w\\r\\n        box[:, 3][box[:, 3]>h] = h\\r\\n        box_w = box[:, 2] - box[:, 0]\\r\\n        box_h = box[:, 3] - box[:, 1]\\r\\n        box = box[np.logical_and(box_w>1, box_h>1)] # discard invalid box\\r\\n        if len(box)>max_boxes: box = box[:max_boxes]\\r\\n        box_data[:len(box)] = box\\r\\n\\r\\n    return image_data, box_data\\r\\n'}"
            ]
          },
          "metadata": {
            "tags": []
          },
          "execution_count": 14
        }
      ]
    },
    {
      "metadata": {
        "id": "KDOKZCmW44c-",
        "colab_type": "code",
        "colab": {}
      },
      "cell_type": "code",
      "source": [
        "!touch __init__.py"
      ],
      "execution_count": 0,
      "outputs": []
    },
    {
      "metadata": {
        "id": "edGYwDxG6i7f",
        "colab_type": "code",
        "outputId": "6baa4e19-4963-41d2-bae0-61f58ae209aa",
        "colab": {
          "base_uri": "https://localhost:8080/",
          "height": 36
        }
      },
      "cell_type": "code",
      "source": [
        "%cd .."
      ],
      "execution_count": 0,
      "outputs": [
        {
          "output_type": "stream",
          "text": [
            "/content\n"
          ],
          "name": "stdout"
        }
      ]
    },
    {
      "metadata": {
        "id": "7wAQh4D-3EcP",
        "colab_type": "code",
        "colab": {}
      },
      "cell_type": "code",
      "source": [
        "!mkdir logs"
      ],
      "execution_count": 0,
      "outputs": []
    },
    {
      "metadata": {
        "id": "YjfMmulx3alG",
        "colab_type": "code",
        "outputId": "e44c2967-3890-4f3d-fd36-a80f45188787",
        "colab": {
          "resources": {
            "http://localhost:8080/nbextensions/google.colab/files.js": {
              "data": "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",
              "ok": true,
              "headers": [
                [
                  "content-type",
                  "application/javascript"
                ]
              ],
              "status": 200,
              "status_text": "OK"
            }
          },
          "base_uri": "https://localhost:8080/",
          "height": 176
        }
      },
      "cell_type": "code",
      "source": [
        "# upload classes and anchors file\n",
        "files.upload() # added classes.txt\n",
        "files.upload() # added anchors.txt"
      ],
      "execution_count": 0,
      "outputs": [
        {
          "output_type": "display_data",
          "data": {
            "text/html": [
              "\n",
              "     <input type=\"file\" id=\"files-7ca674db-03a6-4037-a5fc-4d5362070258\" name=\"files[]\" multiple disabled />\n",
              "     <output id=\"result-7ca674db-03a6-4037-a5fc-4d5362070258\">\n",
              "      Upload widget is only available when the cell has been executed in the\n",
              "      current browser session. Please rerun this cell to enable.\n",
              "      </output>\n",
              "      <script src=\"/nbextensions/google.colab/files.js\"></script> "
            ],
            "text/plain": [
              "<IPython.core.display.HTML object>"
            ]
          },
          "metadata": {
            "tags": []
          }
        },
        {
          "output_type": "stream",
          "text": [
            "Saving classes.txt to classes.txt\n"
          ],
          "name": "stdout"
        },
        {
          "output_type": "display_data",
          "data": {
            "text/html": [
              "\n",
              "     <input type=\"file\" id=\"files-771f76d1-70b5-4d5c-8b68-114bb8e0574f\" name=\"files[]\" multiple disabled />\n",
              "     <output id=\"result-771f76d1-70b5-4d5c-8b68-114bb8e0574f\">\n",
              "      Upload widget is only available when the cell has been executed in the\n",
              "      current browser session. Please rerun this cell to enable.\n",
              "      </output>\n",
              "      <script src=\"/nbextensions/google.colab/files.js\"></script> "
            ],
            "text/plain": [
              "<IPython.core.display.HTML object>"
            ]
          },
          "metadata": {
            "tags": []
          }
        },
        {
          "output_type": "stream",
          "text": [
            "Saving anchors.txt to anchors.txt\n"
          ],
          "name": "stdout"
        },
        {
          "output_type": "execute_result",
          "data": {
            "text/plain": [
              "{'anchors.txt': b'10,13,  16,30,  33,23,  30,61,  62,45,  59,119,  116,90,  156,198,  373,326\\r\\n'}"
            ]
          },
          "metadata": {
            "tags": []
          },
          "execution_count": 18
        }
      ]
    },
    {
      "metadata": {
        "id": "S3m1Pdgfwv8q",
        "colab_type": "code",
        "colab": {}
      },
      "cell_type": "code",
      "source": [
        "# Training the model on our data set\n",
        "from keras.layers import Lambda\n",
        "from keras.optimizers import Adam\n",
        "from keras.callbacks import TensorBoard, ModelCheckpoint, ReduceLROnPlateau, EarlyStopping\n",
        "from yolo3.model import preprocess_true_boxes, yolo_body, yolo_loss\n",
        "from yolo3.utils import get_random_data"
      ],
      "execution_count": 0,
      "outputs": []
    },
    {
      "metadata": {
        "id": "Hm-O5bU4w4QW",
        "colab_type": "code",
        "colab": {}
      },
      "cell_type": "code",
      "source": [
        "def _main():\n",
        "    annotation_path = 'annotations.txt'\n",
        "    log_dir = 'logs/000/'\n",
        "    classes_path = 'classes.txt'\n",
        "    anchors_path = 'anchors.txt'\n",
        "    class_names = get_classes(classes_path)\n",
        "    num_classes = len(class_names)\n",
        "    anchors = get_anchors(anchors_path)\n",
        "\n",
        "    input_shape = (416,416) # multiple of 32, hw\n",
        "\n",
        "\n",
        "    model = create_model(input_shape, anchors, num_classes,\n",
        "        freeze_body=2, weights_path='model_data/yolo.h5') # make sure you know what you freeze\n",
        "\n",
        "    logging = TensorBoard(log_dir=log_dir)\n",
        "    checkpoint = ModelCheckpoint(log_dir + 'ep{epoch:03d}-loss{loss:.3f}-val_loss{val_loss:.3f}.h5',\n",
        "        monitor='val_loss', save_weights_only=True, save_best_only=True, period=3)\n",
        "    reduce_lr = ReduceLROnPlateau(monitor='val_loss', factor=0.1, patience=3, verbose=1)\n",
        "    early_stopping = EarlyStopping(monitor='val_loss', min_delta=0, patience=10, verbose=1)\n",
        "\n",
        "    val_split = 0.1\n",
        "    with open(annotation_path) as f:\n",
        "        lines = f.readlines()\n",
        "    np.random.seed(10101)\n",
        "    np.random.shuffle(lines)\n",
        "    np.random.seed(None)\n",
        "    num_val = int(len(lines)*val_split)\n",
        "    num_train = len(lines) - num_val\n",
        "\n",
        "    # Train with frozen layers first, to get a stable loss.\n",
        "    # Adjust num epochs to your dataset. This step is enough to obtain a not bad model.\n",
        "    if True:\n",
        "        model.compile(optimizer=Adam(lr=1e-3), loss={\n",
        "            # use custom yolo_loss Lambda layer.\n",
        "            'yolo_loss': lambda y_true, y_pred: y_pred})\n",
        "\n",
        "        batch_size = 32\n",
        "        print('Train on {} samples, val on {} samples, with batch size {}.'.format(num_train, num_val, batch_size))\n",
        "        model.fit_generator(data_generator_wrapper(lines[:num_train], batch_size, input_shape, anchors, num_classes),\n",
        "                steps_per_epoch=max(1, num_train//batch_size),\n",
        "                validation_data=data_generator_wrapper(lines[num_train:], batch_size, input_shape, anchors, num_classes),\n",
        "                validation_steps=max(1, num_val//batch_size),\n",
        "                epochs=50,\n",
        "                initial_epoch=0,\n",
        "                callbacks=[logging, checkpoint])\n",
        "        model.save_weights(log_dir + 'trained_weights_stage_1.h5')\n",
        "\n",
        "    # Unfreeze and continue training, to fine-tune.\n",
        "    # Train longer if the result is not good.\n",
        "#     if True:\n",
        "#         for i in range(len(model.layers)):\n",
        "#             model.layers[i].trainable = True\n",
        "#         model.compile(optimizer=Adam(lr=1e-4), loss={'yolo_loss': lambda y_true, y_pred: y_pred}) # recompile to apply the change\n",
        "#         print('Unfreeze all of the layers.')\n",
        "\n",
        "#         batch_size = 32 # note that more GPU memory is required after unfreezing the body\n",
        "#         print('Train on {} samples, val on {} samples, with batch size {}.'.format(num_train, num_val, batch_size))\n",
        "#         model.fit_generator(data_generator_wrapper(lines[:num_train], batch_size, input_shape, anchors, num_classes),\n",
        "#             steps_per_epoch=max(1, num_train//batch_size),\n",
        "#             validation_data=data_generator_wrapper(lines[num_train:], batch_size, input_shape, anchors, num_classes),\n",
        "#             validation_steps=max(1, num_val//batch_size),\n",
        "#             epochs=100,\n",
        "#             initial_epoch=50,\n",
        "#             callbacks=[logging, checkpoint, reduce_lr, early_stopping])\n",
        "#         model.save_weights(log_dir + 'trained_weights_final.h5')\n"
      ],
      "execution_count": 0,
      "outputs": []
    },
    {
      "metadata": {
        "id": "7mPEXCAA4Yky",
        "colab_type": "code",
        "colab": {}
      },
      "cell_type": "code",
      "source": [
        "def get_classes(classes_path):\n",
        "    '''loads the classes'''\n",
        "    with open(classes_path) as f:\n",
        "        class_names = f.readlines()\n",
        "    class_names = [c.strip() for c in class_names]\n",
        "    return class_names\n",
        "\n",
        "def get_anchors(anchors_path):\n",
        "    '''loads the anchors from a file'''\n",
        "    with open(anchors_path) as f:\n",
        "        anchors = f.readline()\n",
        "    anchors = [float(x) for x in anchors.split(',')]\n",
        "    return np.array(anchors).reshape(-1, 2)\n",
        "\n",
        "\n",
        "def create_model(input_shape, anchors, num_classes, load_pretrained=True, freeze_body=2,\n",
        "            weights_path='model_data/yolo_weights.h5'):\n",
        "    '''create the training model'''\n",
        "    K.clear_session() # get a new session\n",
        "    image_input = Input(shape=(None, None, 3))\n",
        "    h, w = input_shape\n",
        "    num_anchors = len(anchors)\n",
        "\n",
        "    y_true = [Input(shape=(h//{0:32, 1:16, 2:8}[l], w//{0:32, 1:16, 2:8}[l], \\\n",
        "        num_anchors//3, num_classes+5)) for l in range(3)]\n",
        "\n",
        "    model_body = yolo_body(image_input, num_anchors//3, num_classes)\n",
        "    print('Create YOLOv3 model with {} anchors and {} classes.'.format(num_anchors, num_classes))\n",
        "\n",
        "    if load_pretrained:\n",
        "        model_body.load_weights(weights_path, by_name=True, skip_mismatch=True)\n",
        "        print('Load weights {}.'.format(weights_path))\n",
        "        if freeze_body in [1, 2]:\n",
        "            # Freeze darknet53 body or freeze all but 3 output layers.\n",
        "            num = (185, len(model_body.layers)-3)[freeze_body-1]\n",
        "            for i in range(num): model_body.layers[i].trainable = False\n",
        "            print('Freeze the first {} layers of total {} layers.'.format(num, len(model_body.layers)))\n",
        "\n",
        "    model_loss = Lambda(yolo_loss, output_shape=(1,), name='yolo_loss',\n",
        "        arguments={'anchors': anchors, 'num_classes': num_classes, 'ignore_thresh': 0.5})(\n",
        "        [*model_body.output, *y_true])\n",
        "    model = Model([model_body.input, *y_true], model_loss)\n",
        "\n",
        "    return model\n"
      ],
      "execution_count": 0,
      "outputs": []
    },
    {
      "metadata": {
        "id": "aLI6R3kc4sNV",
        "colab_type": "code",
        "colab": {}
      },
      "cell_type": "code",
      "source": [
        "def data_generator(annotation_lines, batch_size, input_shape, anchors, num_classes):\n",
        "    '''data generator for fit_generator'''\n",
        "    n = len(annotation_lines)\n",
        "    i = 0\n",
        "    while True:\n",
        "        image_data = []\n",
        "        box_data = []\n",
        "        for b in range(batch_size):\n",
        "            if i==0:\n",
        "                np.random.shuffle(annotation_lines)\n",
        "            image, box = get_random_data(annotation_lines[i], input_shape, random=True)\n",
        "            image_data.append(image)\n",
        "            box_data.append(box)\n",
        "            i = (i+1) % n\n",
        "        image_data = np.array(image_data)\n",
        "        box_data = np.array(box_data)\n",
        "        y_true = preprocess_true_boxes(box_data, input_shape, anchors, num_classes)\n",
        "        yield [image_data, *y_true], np.zeros(batch_size)\n",
        "\n",
        "def data_generator_wrapper(annotation_lines, batch_size, input_shape, anchors, num_classes):\n",
        "    n = len(annotation_lines)\n",
        "    if n==0 or batch_size<=0: return None\n",
        "    return data_generator(annotation_lines, batch_size, input_shape, anchors, num_classes)"
      ],
      "execution_count": 0,
      "outputs": []
    },
    {
      "metadata": {
        "id": "NlnJWOYJ5Blk",
        "colab_type": "code",
        "outputId": "109616c1-cf53-43ef-ba82-bdfb1234bf63",
        "colab": {
          "base_uri": "https://localhost:8080/",
          "height": 2210
        }
      },
      "cell_type": "code",
      "source": [
        "# training the model\n",
        "_main()"
      ],
      "execution_count": 0,
      "outputs": [
        {
          "output_type": "stream",
          "text": [
            "Create YOLOv3 model with 9 anchors and 1 classes.\n"
          ],
          "name": "stdout"
        },
        {
          "output_type": "stream",
          "text": [
            "/usr/local/lib/python3.6/dist-packages/keras/engine/saving.py:1140: UserWarning: Skipping loading of weights for layer conv2d_59 due to mismatch in shape ((1, 1, 1024, 18) vs (255, 1024, 1, 1)).\n",
            "  weight_values[i].shape))\n",
            "/usr/local/lib/python3.6/dist-packages/keras/engine/saving.py:1140: UserWarning: Skipping loading of weights for layer conv2d_59 due to mismatch in shape ((18,) vs (255,)).\n",
            "  weight_values[i].shape))\n",
            "/usr/local/lib/python3.6/dist-packages/keras/engine/saving.py:1140: UserWarning: Skipping loading of weights for layer conv2d_67 due to mismatch in shape ((1, 1, 512, 18) vs (255, 512, 1, 1)).\n",
            "  weight_values[i].shape))\n",
            "/usr/local/lib/python3.6/dist-packages/keras/engine/saving.py:1140: UserWarning: Skipping loading of weights for layer conv2d_67 due to mismatch in shape ((18,) vs (255,)).\n",
            "  weight_values[i].shape))\n",
            "/usr/local/lib/python3.6/dist-packages/keras/engine/saving.py:1140: UserWarning: Skipping loading of weights for layer conv2d_75 due to mismatch in shape ((1, 1, 256, 18) vs (255, 256, 1, 1)).\n",
            "  weight_values[i].shape))\n",
            "/usr/local/lib/python3.6/dist-packages/keras/engine/saving.py:1140: UserWarning: Skipping loading of weights for layer conv2d_75 due to mismatch in shape ((18,) vs (255,)).\n",
            "  weight_values[i].shape))\n"
          ],
          "name": "stderr"
        },
        {
          "output_type": "stream",
          "text": [
            "Load weights model_data/yolo.h5.\n",
            "Freeze the first 249 layers of total 252 layers.\n",
            "Train on 450 samples, val on 50 samples, with batch size 32.\n",
            "Epoch 1/50\n",
            "14/14 [==============================] - 69s 5s/step - loss: 10847.8363 - val_loss: 5555.7388\n",
            "Epoch 2/50\n",
            "14/14 [==============================] - 44s 3s/step - loss: 3133.1313 - val_loss: 1635.8392\n",
            "Epoch 3/50\n",
            "14/14 [==============================] - 44s 3s/step - loss: 1024.2566 - val_loss: 664.8511\n",
            "Epoch 4/50\n",
            "14/14 [==============================] - 20s 1s/step - loss: 515.5791 - val_loss: 409.4883\n",
            "Epoch 5/50\n",
            "14/14 [==============================] - 41s 3s/step - loss: 355.9752 - val_loss: 292.8072\n",
            "Epoch 6/50\n",
            "14/14 [==============================] - 46s 3s/step - loss: 279.0103 - val_loss: 251.6470\n",
            "Epoch 7/50\n",
            "14/14 [==============================] - 44s 3s/step - loss: 224.9952 - val_loss: 222.9768\n",
            "Epoch 8/50\n",
            "14/14 [==============================] - 46s 3s/step - loss: 195.3616 - val_loss: 176.7784\n",
            "Epoch 9/50\n",
            "14/14 [==============================] - 45s 3s/step - loss: 168.4330 - val_loss: 166.9429\n",
            "Epoch 10/50\n",
            "14/14 [==============================] - 44s 3s/step - loss: 146.5073 - val_loss: 138.9025\n",
            "Epoch 11/50\n",
            "14/14 [==============================] - 46s 3s/step - loss: 135.4928 - val_loss: 126.8138\n",
            "Epoch 12/50\n",
            "14/14 [==============================] - 46s 3s/step - loss: 121.1446 - val_loss: 118.9310\n",
            "Epoch 13/50\n",
            "14/14 [==============================] - 45s 3s/step - loss: 109.3235 - val_loss: 109.4288\n",
            "Epoch 14/50\n",
            "14/14 [==============================] - 46s 3s/step - loss: 101.6991 - val_loss: 100.0292\n",
            "Epoch 15/50\n",
            "14/14 [==============================] - 45s 3s/step - loss: 91.9546 - val_loss: 90.1999\n",
            "Epoch 16/50\n",
            "14/14 [==============================] - 46s 3s/step - loss: 87.7119 - val_loss: 83.3240\n",
            "Epoch 17/50\n",
            "14/14 [==============================] - 45s 3s/step - loss: 81.1734 - val_loss: 81.0614\n",
            "Epoch 18/50\n",
            "14/14 [==============================] - 46s 3s/step - loss: 75.6974 - val_loss: 77.1426\n",
            "Epoch 19/50\n",
            "14/14 [==============================] - 43s 3s/step - loss: 71.6920 - val_loss: 67.7035\n",
            "Epoch 20/50\n",
            "14/14 [==============================] - 45s 3s/step - loss: 68.6613 - val_loss: 62.0760\n",
            "Epoch 21/50\n",
            "14/14 [==============================] - 45s 3s/step - loss: 63.5367 - val_loss: 62.6996\n",
            "Epoch 22/50\n",
            "14/14 [==============================] - 45s 3s/step - loss: 61.4434 - val_loss: 62.5476\n",
            "Epoch 23/50\n",
            "14/14 [==============================] - 45s 3s/step - loss: 57.5926 - val_loss: 54.1259\n",
            "Epoch 24/50\n",
            "14/14 [==============================] - 45s 3s/step - loss: 55.9205 - val_loss: 56.0096\n",
            "Epoch 25/50\n",
            "14/14 [==============================] - 45s 3s/step - loss: 53.2398 - val_loss: 47.7594\n",
            "Epoch 26/50\n",
            "14/14 [==============================] - 46s 3s/step - loss: 51.3977 - val_loss: 49.9867\n",
            "Epoch 27/50\n",
            "14/14 [==============================] - 45s 3s/step - loss: 48.7680 - val_loss: 46.1908\n",
            "Epoch 28/50\n",
            "14/14 [==============================] - 45s 3s/step - loss: 47.5465 - val_loss: 46.8923\n",
            "Epoch 29/50\n",
            "14/14 [==============================] - 45s 3s/step - loss: 44.4798 - val_loss: 46.0472\n",
            "Epoch 30/50\n",
            "14/14 [==============================] - 45s 3s/step - loss: 44.1499 - val_loss: 46.1677\n",
            "Epoch 31/50\n",
            "14/14 [==============================] - 45s 3s/step - loss: 43.8237 - val_loss: 38.8309\n",
            "Epoch 32/50\n",
            "14/14 [==============================] - 45s 3s/step - loss: 41.5106 - val_loss: 46.2662\n",
            "Epoch 33/50\n",
            "14/14 [==============================] - 46s 3s/step - loss: 40.4431 - val_loss: 34.8051\n",
            "Epoch 34/50\n",
            "14/14 [==============================] - 45s 3s/step - loss: 38.5658 - val_loss: 39.2078\n",
            "Epoch 35/50\n",
            "14/14 [==============================] - 45s 3s/step - loss: 37.6522 - val_loss: 38.3545\n",
            "Epoch 36/50\n",
            "14/14 [==============================] - 45s 3s/step - loss: 36.9024 - val_loss: 36.2793\n",
            "Epoch 37/50\n",
            "14/14 [==============================] - 46s 3s/step - loss: 35.4679 - val_loss: 36.7630\n",
            "Epoch 38/50\n",
            "14/14 [==============================] - 45s 3s/step - loss: 34.8479 - val_loss: 33.3610\n",
            "Epoch 39/50\n",
            "14/14 [==============================] - 45s 3s/step - loss: 33.4439 - val_loss: 35.7987\n",
            "Epoch 40/50\n",
            "14/14 [==============================] - 46s 3s/step - loss: 33.9977 - val_loss: 30.8282\n",
            "Epoch 41/50\n",
            "14/14 [==============================] - 45s 3s/step - loss: 33.0111 - val_loss: 33.2625\n",
            "Epoch 42/50\n",
            "14/14 [==============================] - 45s 3s/step - loss: 31.8601 - val_loss: 32.9469\n",
            "Epoch 43/50\n",
            "14/14 [==============================] - 45s 3s/step - loss: 31.1223 - val_loss: 28.3773\n",
            "Epoch 44/50\n",
            "14/14 [==============================] - 44s 3s/step - loss: 30.9517 - val_loss: 29.4475\n",
            "Epoch 45/50\n",
            "14/14 [==============================] - 46s 3s/step - loss: 30.3558 - val_loss: 32.0264\n",
            "Epoch 46/50\n",
            "14/14 [==============================] - 45s 3s/step - loss: 29.6489 - val_loss: 27.1385\n",
            "Epoch 47/50\n",
            "14/14 [==============================] - 45s 3s/step - loss: 29.2816 - val_loss: 28.5106\n",
            "Epoch 48/50\n",
            "14/14 [==============================] - 45s 3s/step - loss: 28.2345 - val_loss: 30.4574\n",
            "Epoch 49/50\n",
            "14/14 [==============================] - 45s 3s/step - loss: 28.6651 - val_loss: 26.3162\n",
            "Epoch 50/50\n",
            "14/14 [==============================] - 45s 3s/step - loss: 27.8262 - val_loss: 28.7247\n"
          ],
          "name": "stdout"
        }
      ]
    },
    {
      "metadata": {
        "id": "FOXhckCX5GN6",
        "colab_type": "code",
        "colab": {}
      },
      "cell_type": "code",
      "source": [
        ""
      ],
      "execution_count": 0,
      "outputs": []
    }
  ]
}